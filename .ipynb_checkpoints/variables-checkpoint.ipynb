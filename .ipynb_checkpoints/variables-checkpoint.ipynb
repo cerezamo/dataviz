{
 "cells": [
  {
   "cell_type": "markdown",
   "metadata": {},
   "source": [
    "# Creation de la base finale pour JS "
   ]
  },
  {
   "cell_type": "markdown",
   "metadata": {},
   "source": [
    "Votes et abstention"
   ]
  },
  {
   "cell_type": "code",
   "execution_count": 65,
   "metadata": {},
   "outputs": [],
   "source": [
    "import pandas as pd\n",
    "import geopandas as gpd\n",
    "import os \n",
    "import matplotlib.pyplot as plt"
   ]
  },
  {
   "cell_type": "code",
   "execution_count": 66,
   "metadata": {},
   "outputs": [],
   "source": [
    "dir=os.getcwd()"
   ]
  },
  {
   "cell_type": "markdown",
   "metadata": {},
   "source": [
    "Densite de population"
   ]
  },
  {
   "cell_type": "code",
   "execution_count": 67,
   "metadata": {},
   "outputs": [],
   "source": [
    "dens=pd.read_csv(dir+'\\\\brut\\\\metropole-densites-de-population-par-commune.csv',sep=';')\n",
    "dens=dens.rename(columns={'Code INSEE':'insee',\"Densité d'habitants (hab/km2)\" : 'densitehabkm2'})\n",
    "dens=dens[['insee','densitehabkm2']]"
   ]
  },
  {
   "cell_type": "code",
   "execution_count": 68,
   "metadata": {},
   "outputs": [
    {
     "data": {
      "text/plain": [
       "insee              int32\n",
       "densitehabkm2    float64\n",
       "dtype: object"
      ]
     },
     "execution_count": 68,
     "metadata": {},
     "output_type": "execute_result"
    }
   ],
   "source": [
    "dens.insee=dens.insee.astype(int)\n",
    "dens.dtypes"
   ]
  },
  {
   "cell_type": "markdown",
   "metadata": {},
   "source": [
    "Niveau de vie et taux de pauvreté"
   ]
  },
  {
   "cell_type": "code",
   "execution_count": 69,
   "metadata": {},
   "outputs": [],
   "source": [
    "com=pd.read_csv(dir+'\\\\brut\\\\base-comparateur-de-territoires.csv',sep=';')\n",
    "com=com.rename(columns={'CODGEO':'insee','MED16':'medianendv','TP6016':'tp'})\n",
    "com=com[['insee','tp','medianendv']]"
   ]
  },
  {
   "cell_type": "code",
   "execution_count": 70,
   "metadata": {},
   "outputs": [
    {
     "data": {
      "text/plain": [
       "insee           int32\n",
       "tp            float64\n",
       "medianendv    float64\n",
       "dtype: object"
      ]
     },
     "execution_count": 70,
     "metadata": {},
     "output_type": "execute_result"
    }
   ],
   "source": [
    "com.insee=com.insee.astype(int)\n",
    "com.dtypes"
   ]
  },
  {
   "cell_type": "code",
   "execution_count": 102,
   "metadata": {},
   "outputs": [
    {
     "data": {
      "text/html": [
       "<div>\n",
       "<style scoped>\n",
       "    .dataframe tbody tr th:only-of-type {\n",
       "        vertical-align: middle;\n",
       "    }\n",
       "\n",
       "    .dataframe tbody tr th {\n",
       "        vertical-align: top;\n",
       "    }\n",
       "\n",
       "    .dataframe thead th {\n",
       "        text-align: right;\n",
       "    }\n",
       "</style>\n",
       "<table border=\"1\" class=\"dataframe\">\n",
       "  <thead>\n",
       "    <tr style=\"text-align: right;\">\n",
       "      <th></th>\n",
       "      <th>insee</th>\n",
       "      <th>tp</th>\n",
       "      <th>medianendv</th>\n",
       "    </tr>\n",
       "  </thead>\n",
       "  <tbody>\n",
       "    <tr>\n",
       "      <th>0</th>\n",
       "      <td>77006</td>\n",
       "      <td>NaN</td>\n",
       "      <td>26092.333333</td>\n",
       "    </tr>\n",
       "    <tr>\n",
       "      <th>1</th>\n",
       "      <td>77014</td>\n",
       "      <td>14.0</td>\n",
       "      <td>22116.500000</td>\n",
       "    </tr>\n",
       "    <tr>\n",
       "      <th>2</th>\n",
       "      <td>77018</td>\n",
       "      <td>8.0</td>\n",
       "      <td>24604.000000</td>\n",
       "    </tr>\n",
       "    <tr>\n",
       "      <th>3</th>\n",
       "      <td>77024</td>\n",
       "      <td>NaN</td>\n",
       "      <td>22022.222222</td>\n",
       "    </tr>\n",
       "    <tr>\n",
       "      <th>4</th>\n",
       "      <td>77038</td>\n",
       "      <td>NaN</td>\n",
       "      <td>29417.500000</td>\n",
       "    </tr>\n",
       "  </tbody>\n",
       "</table>\n",
       "</div>"
      ],
      "text/plain": [
       "   insee    tp    medianendv\n",
       "0  77006   NaN  26092.333333\n",
       "1  77014  14.0  22116.500000\n",
       "2  77018   8.0  24604.000000\n",
       "3  77024   NaN  22022.222222\n",
       "4  77038   NaN  29417.500000"
      ]
     },
     "execution_count": 102,
     "metadata": {},
     "output_type": "execute_result"
    }
   ],
   "source": [
    "com.head() # tp on a pas pour tout "
   ]
  },
  {
   "cell_type": "markdown",
   "metadata": {},
   "source": [
    "Pollution"
   ]
  },
  {
   "cell_type": "code",
   "execution_count": 71,
   "metadata": {},
   "outputs": [],
   "source": [
    "pol=pd.read_csv(dir+'\\\\brut\\\\indices_QA_commune_IDF_2017.csv',sep=',')\n",
    "\n",
    "pol=pol.groupby('ninsee',as_index=False).mean()\n",
    "\n",
    "pol=pol.rename(columns={'ninsee':'insee'})"
   ]
  },
  {
   "cell_type": "code",
   "execution_count": 72,
   "metadata": {},
   "outputs": [],
   "source": [
    "pol.insee=pol.insee.astype(int)"
   ]
  },
  {
   "cell_type": "code",
   "execution_count": 73,
   "metadata": {},
   "outputs": [
    {
     "data": {
      "text/plain": [
       "insee      int32\n",
       "no2      float64\n",
       "o3       float64\n",
       "pm10     float64\n",
       "dtype: object"
      ]
     },
     "execution_count": 73,
     "metadata": {},
     "output_type": "execute_result"
    }
   ],
   "source": [
    "pol.dtypes"
   ]
  },
  {
   "cell_type": "markdown",
   "metadata": {},
   "source": [
    "Diplomes "
   ]
  },
  {
   "cell_type": "code",
   "execution_count": 74,
   "metadata": {},
   "outputs": [
    {
     "name": "stderr",
     "output_type": "stream",
     "text": [
      "C:\\Users\\morga\\AppData\\Roaming\\Python\\Python37\\site-packages\\IPython\\core\\interactiveshell.py:3063: DtypeWarning: Columns (0) have mixed types.Specify dtype option on import or set low_memory=False.\n",
      "  interactivity=interactivity, compiler=compiler, result=result)\n"
     ]
    }
   ],
   "source": [
    "dipl = pd.read_csv(dir+'\\\\brut\\\\base-cc-diplomes-formation-2016.csv',sep=';')\n",
    "\n",
    "dipl=dipl.rename(columns={'P11_NSCOL15P_SUP':'dipl_sup','CODGEO':'insee'})\n",
    "\n",
    "dipl=dipl[['insee','dipl_sup']]"
   ]
  },
  {
   "cell_type": "code",
   "execution_count": 75,
   "metadata": {},
   "outputs": [
    {
     "data": {
      "text/plain": [
       "insee        object\n",
       "dipl_sup    float64\n",
       "dtype: object"
      ]
     },
     "execution_count": 75,
     "metadata": {},
     "output_type": "execute_result"
    }
   ],
   "source": [
    "dipl.dtypes"
   ]
  },
  {
   "cell_type": "code",
   "execution_count": 76,
   "metadata": {},
   "outputs": [],
   "source": [
    "import numpy as np"
   ]
  },
  {
   "cell_type": "code",
   "execution_count": 77,
   "metadata": {},
   "outputs": [],
   "source": [
    "dipl=dipl[pd.to_numeric(dipl['insee'], errors='coerce').notnull()]"
   ]
  },
  {
   "cell_type": "code",
   "execution_count": 78,
   "metadata": {},
   "outputs": [],
   "source": [
    "dipl.insee=dipl.insee.astype(int)"
   ]
  },
  {
   "cell_type": "markdown",
   "metadata": {},
   "source": [
    "Professionnels de sante"
   ]
  },
  {
   "cell_type": "code",
   "execution_count": 79,
   "metadata": {},
   "outputs": [],
   "source": [
    "med=pd.read_csv(dir+'\\\\brut\\\\annuaire-et-localisation-des-professionnels-de-sante.csv',sep=';')\n",
    "\n",
    "med=med[[\"Nature de l'exercice\",\"Convention du professionnel\",\"Coordonnées\",'Adresse','Code INSEE']]\n",
    "\n",
    "med.columns=['nature_exercice','convention','coordonnees','adresse','insee']"
   ]
  },
  {
   "cell_type": "code",
   "execution_count": 80,
   "metadata": {},
   "outputs": [
    {
     "data": {
      "text/html": [
       "<div>\n",
       "<style scoped>\n",
       "    .dataframe tbody tr th:only-of-type {\n",
       "        vertical-align: middle;\n",
       "    }\n",
       "\n",
       "    .dataframe tbody tr th {\n",
       "        vertical-align: top;\n",
       "    }\n",
       "\n",
       "    .dataframe thead th {\n",
       "        text-align: right;\n",
       "    }\n",
       "</style>\n",
       "<table border=\"1\" class=\"dataframe\">\n",
       "  <thead>\n",
       "    <tr style=\"text-align: right;\">\n",
       "      <th></th>\n",
       "      <th>nature_exercice</th>\n",
       "      <th>convention</th>\n",
       "      <th>coordonnees</th>\n",
       "      <th>adresse</th>\n",
       "    </tr>\n",
       "    <tr>\n",
       "      <th>insee</th>\n",
       "      <th></th>\n",
       "      <th></th>\n",
       "      <th></th>\n",
       "      <th></th>\n",
       "    </tr>\n",
       "  </thead>\n",
       "  <tbody>\n",
       "    <tr>\n",
       "      <th>75056</th>\n",
       "      <td>8263</td>\n",
       "      <td>8263</td>\n",
       "      <td>8263</td>\n",
       "      <td>8263</td>\n",
       "    </tr>\n",
       "    <tr>\n",
       "      <th>77005</th>\n",
       "      <td>3</td>\n",
       "      <td>3</td>\n",
       "      <td>3</td>\n",
       "      <td>3</td>\n",
       "    </tr>\n",
       "    <tr>\n",
       "      <th>77014</th>\n",
       "      <td>22</td>\n",
       "      <td>22</td>\n",
       "      <td>22</td>\n",
       "      <td>22</td>\n",
       "    </tr>\n",
       "    <tr>\n",
       "      <th>77016</th>\n",
       "      <td>1</td>\n",
       "      <td>1</td>\n",
       "      <td>1</td>\n",
       "      <td>1</td>\n",
       "    </tr>\n",
       "    <tr>\n",
       "      <th>77018</th>\n",
       "      <td>15</td>\n",
       "      <td>15</td>\n",
       "      <td>15</td>\n",
       "      <td>15</td>\n",
       "    </tr>\n",
       "    <tr>\n",
       "      <th>...</th>\n",
       "      <td>...</td>\n",
       "      <td>...</td>\n",
       "      <td>...</td>\n",
       "      <td>...</td>\n",
       "    </tr>\n",
       "    <tr>\n",
       "      <th>95637</th>\n",
       "      <td>19</td>\n",
       "      <td>19</td>\n",
       "      <td>19</td>\n",
       "      <td>19</td>\n",
       "    </tr>\n",
       "    <tr>\n",
       "      <th>95651</th>\n",
       "      <td>5</td>\n",
       "      <td>5</td>\n",
       "      <td>5</td>\n",
       "      <td>5</td>\n",
       "    </tr>\n",
       "    <tr>\n",
       "      <th>95652</th>\n",
       "      <td>6</td>\n",
       "      <td>6</td>\n",
       "      <td>6</td>\n",
       "      <td>6</td>\n",
       "    </tr>\n",
       "    <tr>\n",
       "      <th>95658</th>\n",
       "      <td>2</td>\n",
       "      <td>2</td>\n",
       "      <td>2</td>\n",
       "      <td>2</td>\n",
       "    </tr>\n",
       "    <tr>\n",
       "      <th>95680</th>\n",
       "      <td>31</td>\n",
       "      <td>31</td>\n",
       "      <td>31</td>\n",
       "      <td>31</td>\n",
       "    </tr>\n",
       "  </tbody>\n",
       "</table>\n",
       "<p>638 rows × 4 columns</p>\n",
       "</div>"
      ],
      "text/plain": [
       "       nature_exercice  convention  coordonnees  adresse\n",
       "insee                                                   \n",
       "75056             8263        8263         8263     8263\n",
       "77005                3           3            3        3\n",
       "77014               22          22           22       22\n",
       "77016                1           1            1        1\n",
       "77018               15          15           15       15\n",
       "...                ...         ...          ...      ...\n",
       "95637               19          19           19       19\n",
       "95651                5           5            5        5\n",
       "95652                6           6            6        6\n",
       "95658                2           2            2        2\n",
       "95680               31          31           31       31\n",
       "\n",
       "[638 rows x 4 columns]"
      ]
     },
     "execution_count": 80,
     "metadata": {},
     "output_type": "execute_result"
    }
   ],
   "source": [
    "# Ici interessant de mettre des marqueurs ? Je laisse comme ça => sinon compter \n",
    "med.groupby('insee').count()"
   ]
  },
  {
   "cell_type": "code",
   "execution_count": 81,
   "metadata": {},
   "outputs": [
    {
     "data": {
      "text/plain": [
       "nature_exercice    object\n",
       "convention         object\n",
       "coordonnees        object\n",
       "adresse            object\n",
       "insee               int64\n",
       "dtype: object"
      ]
     },
     "execution_count": 81,
     "metadata": {},
     "output_type": "execute_result"
    }
   ],
   "source": [
    "med.dtypes"
   ]
  },
  {
   "cell_type": "code",
   "execution_count": 82,
   "metadata": {},
   "outputs": [],
   "source": [
    "med.insee=med.insee.astype(int)"
   ]
  },
  {
   "cell_type": "code",
   "execution_count": null,
   "metadata": {},
   "outputs": [],
   "source": []
  },
  {
   "cell_type": "markdown",
   "metadata": {},
   "source": [
    "Prix au mètre carré "
   ]
  },
  {
   "cell_type": "code",
   "execution_count": 83,
   "metadata": {},
   "outputs": [],
   "source": [
    "prix=pd.read_csv(dir+'\\\\brut\\\\prixm2-communes-2017.csv',sep=',')\n",
    "\n",
    "prix=prix[['INSEE_COM','Prixm2']]\n",
    "\n",
    "prix=prix.rename(columns={'INSEE_COM':'insee','Prixm2':'prixm2'})"
   ]
  },
  {
   "cell_type": "code",
   "execution_count": 84,
   "metadata": {},
   "outputs": [
    {
     "data": {
      "text/plain": [
       "insee      object\n",
       "prixm2    float64\n",
       "dtype: object"
      ]
     },
     "execution_count": 84,
     "metadata": {},
     "output_type": "execute_result"
    }
   ],
   "source": [
    "prix.dtypes"
   ]
  },
  {
   "cell_type": "code",
   "execution_count": 85,
   "metadata": {},
   "outputs": [],
   "source": [
    "prix=prix[pd.to_numeric(prix['insee'], errors='coerce').notnull()]\n",
    "prix.insee=prix.insee.astype(int)"
   ]
  },
  {
   "cell_type": "code",
   "execution_count": 86,
   "metadata": {},
   "outputs": [
    {
     "data": {
      "text/plain": [
       "insee       int32\n",
       "prixm2    float64\n",
       "dtype: object"
      ]
     },
     "execution_count": 86,
     "metadata": {},
     "output_type": "execute_result"
    }
   ],
   "source": [
    "prix.dtypes"
   ]
  },
  {
   "cell_type": "markdown",
   "metadata": {},
   "source": [
    "Impôt sur la fortune"
   ]
  },
  {
   "cell_type": "code",
   "execution_count": 87,
   "metadata": {},
   "outputs": [],
   "source": [
    "isf=pd.read_excel(dir+'\\\\brut\\\\ificom2018.xlsx',headers=True,sheet_name='définitif impot')\n",
    "\n",
    "isf=isf[['Code commune (INSEE)','nombre de redevables','patrimoine moyen en €','impôt moyen en €']]\n",
    "\n",
    "isf.columns=['insee','nb_redevables','patrimoineeuro','impotmoyeneuro']"
   ]
  },
  {
   "cell_type": "code",
   "execution_count": 88,
   "metadata": {},
   "outputs": [
    {
     "data": {
      "text/plain": [
       "insee              object\n",
       "nb_redevables       int64\n",
       "patrimoineeuro    float64\n",
       "impotmoyeneuro    float64\n",
       "dtype: object"
      ]
     },
     "execution_count": 88,
     "metadata": {},
     "output_type": "execute_result"
    }
   ],
   "source": [
    "isf.dtypes"
   ]
  },
  {
   "cell_type": "code",
   "execution_count": 89,
   "metadata": {},
   "outputs": [],
   "source": [
    "isf['insee']= isf['insee'].transform(lambda x : x.replace(' ','')) "
   ]
  },
  {
   "cell_type": "code",
   "execution_count": 90,
   "metadata": {},
   "outputs": [],
   "source": [
    "isf=isf[pd.to_numeric(isf['insee'], errors='coerce').notnull()]\n",
    "isf.insee=isf.insee.astype(int)"
   ]
  },
  {
   "cell_type": "code",
   "execution_count": 91,
   "metadata": {},
   "outputs": [
    {
     "data": {
      "text/plain": [
       "insee               int32\n",
       "nb_redevables       int64\n",
       "patrimoineeuro    float64\n",
       "impotmoyeneuro    float64\n",
       "dtype: object"
      ]
     },
     "execution_count": 91,
     "metadata": {},
     "output_type": "execute_result"
    }
   ],
   "source": [
    "isf.dtypes"
   ]
  },
  {
   "cell_type": "markdown",
   "metadata": {},
   "source": [
    "Merge "
   ]
  },
  {
   "cell_type": "code",
   "execution_count": 92,
   "metadata": {},
   "outputs": [],
   "source": [
    "bases=[dens,dipl,pol,com,isf,prix,med]"
   ]
  },
  {
   "cell_type": "code",
   "execution_count": 93,
   "metadata": {},
   "outputs": [],
   "source": [
    "import geopandas as gpd \n",
    "pop=gpd.read_file(r'C:\\Users\\morga\\Documents\\GitHub\\MLPython\\dataviz\\Graphique_bokeh\\pop_comgeo.geojson')\n",
    "variables= pd.DataFrame(pop.insee)\n",
    "variables.insee=variables.insee.astype(int)"
   ]
  },
  {
   "cell_type": "code",
   "execution_count": 96,
   "metadata": {},
   "outputs": [],
   "source": [
    "for data in bases:\n",
    "    variables=variables.merge(data,how='left',on='insee')"
   ]
  },
  {
   "cell_type": "code",
   "execution_count": 101,
   "metadata": {},
   "outputs": [
    {
     "data": {
      "text/html": [
       "<div>\n",
       "<style scoped>\n",
       "    .dataframe tbody tr th:only-of-type {\n",
       "        vertical-align: middle;\n",
       "    }\n",
       "\n",
       "    .dataframe tbody tr th {\n",
       "        vertical-align: top;\n",
       "    }\n",
       "\n",
       "    .dataframe thead th {\n",
       "        text-align: right;\n",
       "    }\n",
       "</style>\n",
       "<table border=\"1\" class=\"dataframe\">\n",
       "  <thead>\n",
       "    <tr style=\"text-align: right;\">\n",
       "      <th></th>\n",
       "      <th>insee</th>\n",
       "      <th>densitehabkm2</th>\n",
       "      <th>dipl_sup</th>\n",
       "      <th>no2</th>\n",
       "      <th>o3</th>\n",
       "      <th>pm10</th>\n",
       "      <th>tp</th>\n",
       "      <th>medianendv</th>\n",
       "      <th>nb_redevables</th>\n",
       "      <th>patrimoineeuro</th>\n",
       "      <th>impotmoyeneuro</th>\n",
       "      <th>prixm2</th>\n",
       "      <th>nature_exercice</th>\n",
       "      <th>convention</th>\n",
       "      <th>coordonnees</th>\n",
       "      <th>adresse</th>\n",
       "    </tr>\n",
       "  </thead>\n",
       "  <tbody>\n",
       "    <tr>\n",
       "      <th>0</th>\n",
       "      <td>78561</td>\n",
       "      <td>66.261398</td>\n",
       "      <td>111.314706</td>\n",
       "      <td>16.343407</td>\n",
       "      <td>32.082418</td>\n",
       "      <td>24.543956</td>\n",
       "      <td>NaN</td>\n",
       "      <td>36311.470588</td>\n",
       "      <td>NaN</td>\n",
       "      <td>NaN</td>\n",
       "      <td>NaN</td>\n",
       "      <td>2113.0</td>\n",
       "      <td>NaN</td>\n",
       "      <td>NaN</td>\n",
       "      <td>NaN</td>\n",
       "      <td>NaN</td>\n",
       "    </tr>\n",
       "    <tr>\n",
       "      <th>1</th>\n",
       "      <td>78561</td>\n",
       "      <td>66.261398</td>\n",
       "      <td>111.314706</td>\n",
       "      <td>16.343407</td>\n",
       "      <td>32.082418</td>\n",
       "      <td>24.543956</td>\n",
       "      <td>NaN</td>\n",
       "      <td>36311.470588</td>\n",
       "      <td>NaN</td>\n",
       "      <td>NaN</td>\n",
       "      <td>NaN</td>\n",
       "      <td>2113.0</td>\n",
       "      <td>NaN</td>\n",
       "      <td>NaN</td>\n",
       "      <td>NaN</td>\n",
       "      <td>NaN</td>\n",
       "    </tr>\n",
       "    <tr>\n",
       "      <th>2</th>\n",
       "      <td>78561</td>\n",
       "      <td>66.261398</td>\n",
       "      <td>111.314706</td>\n",
       "      <td>16.343407</td>\n",
       "      <td>32.082418</td>\n",
       "      <td>24.543956</td>\n",
       "      <td>NaN</td>\n",
       "      <td>36311.470588</td>\n",
       "      <td>NaN</td>\n",
       "      <td>NaN</td>\n",
       "      <td>NaN</td>\n",
       "      <td>2113.0</td>\n",
       "      <td>NaN</td>\n",
       "      <td>NaN</td>\n",
       "      <td>NaN</td>\n",
       "      <td>NaN</td>\n",
       "    </tr>\n",
       "    <tr>\n",
       "      <th>3</th>\n",
       "      <td>78561</td>\n",
       "      <td>66.261398</td>\n",
       "      <td>111.314706</td>\n",
       "      <td>16.343407</td>\n",
       "      <td>32.082418</td>\n",
       "      <td>24.543956</td>\n",
       "      <td>NaN</td>\n",
       "      <td>36311.470588</td>\n",
       "      <td>NaN</td>\n",
       "      <td>NaN</td>\n",
       "      <td>NaN</td>\n",
       "      <td>2113.0</td>\n",
       "      <td>NaN</td>\n",
       "      <td>NaN</td>\n",
       "      <td>NaN</td>\n",
       "      <td>NaN</td>\n",
       "    </tr>\n",
       "    <tr>\n",
       "      <th>4</th>\n",
       "      <td>78561</td>\n",
       "      <td>66.261398</td>\n",
       "      <td>111.314706</td>\n",
       "      <td>16.343407</td>\n",
       "      <td>32.082418</td>\n",
       "      <td>24.543956</td>\n",
       "      <td>NaN</td>\n",
       "      <td>36311.470588</td>\n",
       "      <td>NaN</td>\n",
       "      <td>NaN</td>\n",
       "      <td>NaN</td>\n",
       "      <td>2113.0</td>\n",
       "      <td>NaN</td>\n",
       "      <td>NaN</td>\n",
       "      <td>NaN</td>\n",
       "      <td>NaN</td>\n",
       "    </tr>\n",
       "  </tbody>\n",
       "</table>\n",
       "</div>"
      ],
      "text/plain": [
       "   insee  densitehabkm2    dipl_sup        no2         o3       pm10  tp  \\\n",
       "0  78561      66.261398  111.314706  16.343407  32.082418  24.543956 NaN   \n",
       "1  78561      66.261398  111.314706  16.343407  32.082418  24.543956 NaN   \n",
       "2  78561      66.261398  111.314706  16.343407  32.082418  24.543956 NaN   \n",
       "3  78561      66.261398  111.314706  16.343407  32.082418  24.543956 NaN   \n",
       "4  78561      66.261398  111.314706  16.343407  32.082418  24.543956 NaN   \n",
       "\n",
       "     medianendv  nb_redevables  patrimoineeuro  impotmoyeneuro  prixm2  \\\n",
       "0  36311.470588            NaN             NaN             NaN  2113.0   \n",
       "1  36311.470588            NaN             NaN             NaN  2113.0   \n",
       "2  36311.470588            NaN             NaN             NaN  2113.0   \n",
       "3  36311.470588            NaN             NaN             NaN  2113.0   \n",
       "4  36311.470588            NaN             NaN             NaN  2113.0   \n",
       "\n",
       "  nature_exercice convention coordonnees adresse  \n",
       "0             NaN        NaN         NaN     NaN  \n",
       "1             NaN        NaN         NaN     NaN  \n",
       "2             NaN        NaN         NaN     NaN  \n",
       "3             NaN        NaN         NaN     NaN  \n",
       "4             NaN        NaN         NaN     NaN  "
      ]
     },
     "execution_count": 101,
     "metadata": {},
     "output_type": "execute_result"
    }
   ],
   "source": [
    "variables.head()"
   ]
  },
  {
   "cell_type": "code",
   "execution_count": null,
   "metadata": {},
   "outputs": [],
   "source": [
    "# SOucis avec les élections j'ai pas les correspondances !! "
   ]
  },
  {
   "cell_type": "code",
   "execution_count": null,
   "metadata": {},
   "outputs": [],
   "source": []
  },
  {
   "cell_type": "code",
   "execution_count": null,
   "metadata": {},
   "outputs": [],
   "source": []
  },
  {
   "cell_type": "code",
   "execution_count": 3,
   "metadata": {},
   "outputs": [],
   "source": [
    "elec=gpd.read_file(dir+'\\\\brut\\\\elections-presidentielles-2017-1ertour.geojson')"
   ]
  },
  {
   "cell_type": "code",
   "execution_count": 423,
   "metadata": {},
   "outputs": [
    {
     "data": {
      "text/html": [
       "<div>\n",
       "<style scoped>\n",
       "    .dataframe tbody tr th:only-of-type {\n",
       "        vertical-align: middle;\n",
       "    }\n",
       "\n",
       "    .dataframe tbody tr th {\n",
       "        vertical-align: top;\n",
       "    }\n",
       "\n",
       "    .dataframe thead th {\n",
       "        text-align: right;\n",
       "    }\n",
       "</style>\n",
       "<table border=\"1\" class=\"dataframe\">\n",
       "  <thead>\n",
       "    <tr style=\"text-align: right;\">\n",
       "      <th></th>\n",
       "      <th>nb_exprim</th>\n",
       "      <th>nb_nul</th>\n",
       "      <th>fillon_francois</th>\n",
       "      <th>melenchon_jean_luc</th>\n",
       "      <th>nb_votant</th>\n",
       "      <th>num_bureau</th>\n",
       "      <th>nb_inscr</th>\n",
       "      <th>id_bvote</th>\n",
       "      <th>macron_emmanuel</th>\n",
       "      <th>nb_bl</th>\n",
       "      <th>...</th>\n",
       "      <th>asselineau_francois</th>\n",
       "      <th>tour</th>\n",
       "      <th>scrutin</th>\n",
       "      <th>poutou_philippe</th>\n",
       "      <th>le_pen_marine</th>\n",
       "      <th>nb_procu</th>\n",
       "      <th>geometry</th>\n",
       "      <th>extreme_droite</th>\n",
       "      <th>macron</th>\n",
       "      <th>extreme_gauche</th>\n",
       "    </tr>\n",
       "  </thead>\n",
       "  <tbody>\n",
       "    <tr>\n",
       "      <th>0</th>\n",
       "      <td>1137</td>\n",
       "      <td>5</td>\n",
       "      <td>378</td>\n",
       "      <td>147</td>\n",
       "      <td>1148</td>\n",
       "      <td>64</td>\n",
       "      <td>1329</td>\n",
       "      <td>15-64</td>\n",
       "      <td>388</td>\n",
       "      <td>6</td>\n",
       "      <td>...</td>\n",
       "      <td>7</td>\n",
       "      <td>1</td>\n",
       "      <td>Présidentielle</td>\n",
       "      <td>7</td>\n",
       "      <td>77</td>\n",
       "      <td>70</td>\n",
       "      <td>POLYGON ((2.29785 48.84289, 2.29868 48.84292, ...</td>\n",
       "      <td>0.067073</td>\n",
       "      <td>0.337979</td>\n",
       "      <td>0.135017</td>\n",
       "    </tr>\n",
       "    <tr>\n",
       "      <th>1</th>\n",
       "      <td>1242</td>\n",
       "      <td>7</td>\n",
       "      <td>449</td>\n",
       "      <td>176</td>\n",
       "      <td>1258</td>\n",
       "      <td>66</td>\n",
       "      <td>1525</td>\n",
       "      <td>15-66</td>\n",
       "      <td>425</td>\n",
       "      <td>9</td>\n",
       "      <td>...</td>\n",
       "      <td>4</td>\n",
       "      <td>1</td>\n",
       "      <td>Présidentielle</td>\n",
       "      <td>3</td>\n",
       "      <td>67</td>\n",
       "      <td>89</td>\n",
       "      <td>POLYGON ((2.29200 48.84124, 2.29408 48.83991, ...</td>\n",
       "      <td>0.053259</td>\n",
       "      <td>0.337838</td>\n",
       "      <td>0.142289</td>\n",
       "    </tr>\n",
       "    <tr>\n",
       "      <th>2</th>\n",
       "      <td>1148</td>\n",
       "      <td>5</td>\n",
       "      <td>401</td>\n",
       "      <td>138</td>\n",
       "      <td>1164</td>\n",
       "      <td>75</td>\n",
       "      <td>1404</td>\n",
       "      <td>15-75</td>\n",
       "      <td>398</td>\n",
       "      <td>11</td>\n",
       "      <td>...</td>\n",
       "      <td>10</td>\n",
       "      <td>1</td>\n",
       "      <td>Présidentielle</td>\n",
       "      <td>3</td>\n",
       "      <td>70</td>\n",
       "      <td>62</td>\n",
       "      <td>POLYGON ((2.28126 48.83829, 2.28177 48.83790, ...</td>\n",
       "      <td>0.060137</td>\n",
       "      <td>0.341924</td>\n",
       "      <td>0.121993</td>\n",
       "    </tr>\n",
       "    <tr>\n",
       "      <th>3</th>\n",
       "      <td>857</td>\n",
       "      <td>1</td>\n",
       "      <td>215</td>\n",
       "      <td>176</td>\n",
       "      <td>869</td>\n",
       "      <td>78</td>\n",
       "      <td>1044</td>\n",
       "      <td>15-78</td>\n",
       "      <td>302</td>\n",
       "      <td>11</td>\n",
       "      <td>...</td>\n",
       "      <td>5</td>\n",
       "      <td>1</td>\n",
       "      <td>Présidentielle</td>\n",
       "      <td>5</td>\n",
       "      <td>56</td>\n",
       "      <td>50</td>\n",
       "      <td>POLYGON ((2.28342 48.84022, 2.28287 48.83969, ...</td>\n",
       "      <td>0.064442</td>\n",
       "      <td>0.347526</td>\n",
       "      <td>0.209436</td>\n",
       "    </tr>\n",
       "    <tr>\n",
       "      <th>4</th>\n",
       "      <td>1207</td>\n",
       "      <td>5</td>\n",
       "      <td>375</td>\n",
       "      <td>169</td>\n",
       "      <td>1224</td>\n",
       "      <td>93</td>\n",
       "      <td>1427</td>\n",
       "      <td>15-93</td>\n",
       "      <td>431</td>\n",
       "      <td>12</td>\n",
       "      <td>...</td>\n",
       "      <td>12</td>\n",
       "      <td>1</td>\n",
       "      <td>Présidentielle</td>\n",
       "      <td>10</td>\n",
       "      <td>66</td>\n",
       "      <td>78</td>\n",
       "      <td>POLYGON ((2.28590 48.84664, 2.28693 48.84604, ...</td>\n",
       "      <td>0.053922</td>\n",
       "      <td>0.352124</td>\n",
       "      <td>0.147059</td>\n",
       "    </tr>\n",
       "  </tbody>\n",
       "</table>\n",
       "<p>5 rows × 31 columns</p>\n",
       "</div>"
      ],
      "text/plain": [
       "   nb_exprim  nb_nul  fillon_francois  melenchon_jean_luc  nb_votant  \\\n",
       "0       1137       5              378                 147       1148   \n",
       "1       1242       7              449                 176       1258   \n",
       "2       1148       5              401                 138       1164   \n",
       "3        857       1              215                 176        869   \n",
       "4       1207       5              375                 169       1224   \n",
       "\n",
       "   num_bureau  nb_inscr id_bvote  macron_emmanuel  nb_bl  ...  \\\n",
       "0          64      1329    15-64              388      6  ...   \n",
       "1          66      1525    15-66              425      9  ...   \n",
       "2          75      1404    15-75              398     11  ...   \n",
       "3          78      1044    15-78              302     11  ...   \n",
       "4          93      1427    15-93              431     12  ...   \n",
       "\n",
       "   asselineau_francois  tour         scrutin  poutou_philippe  le_pen_marine  \\\n",
       "0                    7     1  Présidentielle                7             77   \n",
       "1                    4     1  Présidentielle                3             67   \n",
       "2                   10     1  Présidentielle                3             70   \n",
       "3                    5     1  Présidentielle                5             56   \n",
       "4                   12     1  Présidentielle               10             66   \n",
       "\n",
       "  nb_procu                                           geometry extreme_droite  \\\n",
       "0       70  POLYGON ((2.29785 48.84289, 2.29868 48.84292, ...       0.067073   \n",
       "1       89  POLYGON ((2.29200 48.84124, 2.29408 48.83991, ...       0.053259   \n",
       "2       62  POLYGON ((2.28126 48.83829, 2.28177 48.83790, ...       0.060137   \n",
       "3       50  POLYGON ((2.28342 48.84022, 2.28287 48.83969, ...       0.064442   \n",
       "4       78  POLYGON ((2.28590 48.84664, 2.28693 48.84604, ...       0.053922   \n",
       "\n",
       "     macron  extreme_gauche  \n",
       "0  0.337979        0.135017  \n",
       "1  0.337838        0.142289  \n",
       "2  0.341924        0.121993  \n",
       "3  0.347526        0.209436  \n",
       "4  0.352124        0.147059  \n",
       "\n",
       "[5 rows x 31 columns]"
      ]
     },
     "execution_count": 423,
     "metadata": {},
     "output_type": "execute_result"
    }
   ],
   "source": [
    "elec.head()"
   ]
  },
  {
   "cell_type": "code",
   "execution_count": 424,
   "metadata": {},
   "outputs": [
    {
     "data": {
      "text/plain": [
       "Index(['nb_exprim', 'nb_nul', 'fillon_francois', 'melenchon_jean_luc',\n",
       "       'nb_votant', 'num_bureau', 'nb_inscr', 'id_bvote', 'macron_emmanuel',\n",
       "       'nb_bl', 'dupont_aignan_nicolas', 'num_circ', 'lassalle_jean',\n",
       "       'num_arrond', 'cheminade_jacques', 'date', 'hamon_benoit', 'annee',\n",
       "       'num_quartier', 'nb_emarg', 'arthaud_nathalie', 'asselineau_francois',\n",
       "       'tour', 'scrutin', 'poutou_philippe', 'le_pen_marine', 'nb_procu',\n",
       "       'geometry', 'extreme_droite', 'macron', 'extreme_gauche'],\n",
       "      dtype='object')"
      ]
     },
     "execution_count": 424,
     "metadata": {},
     "output_type": "execute_result"
    }
   ],
   "source": [
    "elec.columns"
   ]
  },
  {
   "cell_type": "code",
   "execution_count": null,
   "metadata": {},
   "outputs": [],
   "source": [
    "elec=elec.assign(extreme_droite=elec.le_pen_marine/elec.nb_votant)\n",
    "elec=elec.assign(macron=elec.macron_emmanuel/elec.nb_votant)\n",
    "elec=elec.assign(gauche=(elec.arthaud_nathalie + elec.poutou_philippe + elec.melenchon_jean_luc + elec.hamon_benoit )/elec.nb_votant)\n",
    "elec=elec.assign(droite=(elec.fillon_francois + elec.dupont_aignan_nicolas +  elec.cheminade_jacques +elec.asselineau_francois )/elec.nb_votant)\n",
    "elec=elec[['num_bureau','id_bvote','extreme_droite','macron','gauche','droite','geometry']]"
   ]
  },
  {
   "cell_type": "code",
   "execution_count": 432,
   "metadata": {},
   "outputs": [
    {
     "data": {
      "text/plain": [
       "<matplotlib.axes._subplots.AxesSubplot at 0x27c0a809908>"
      ]
     },
     "execution_count": 432,
     "metadata": {},
     "output_type": "execute_result"
    },
    {
     "data": {
      "image/png": "[encoded data removed]",
      "text/plain": [
       "<Figure size 432x288 with 1 Axes>"
      ]
     },
     "metadata": {
      "needs_background": "light"
     },
     "output_type": "display_data"
    }
   ],
   "source": [
    "elec.plot()"
   ]
  },
  {
   "cell_type": "code",
   "execution_count": 400,
   "metadata": {},
   "outputs": [],
   "source": [
    "# Autre base avec les bureaux de vote, aussi interessant c'ets encore plus granulaire mais que Paris faut trouver les autres"
   ]
  },
  {
   "cell_type": "code",
   "execution_count": 43,
   "metadata": {},
   "outputs": [
    {
     "name": "stderr",
     "output_type": "stream",
     "text": [
      "C:\\Users\\morga\\AppData\\Roaming\\Python\\Python37\\site-packages\\IPython\\core\\interactiveshell.py:3063: DtypeWarning: Columns (0,6) have mixed types.Specify dtype option on import or set low_memory=False.\n",
      "  interactivity=interactivity, compiler=compiler, result=result)\n"
     ]
    }
   ],
   "source": [
    "elec = pd.read_csv(dir + '\\\\brut\\\\PR17_BVot_T1_FE.txt',sep=';',encoding=\"ISO-8859-1\")"
   ]
  },
  {
   "cell_type": "code",
   "execution_count": 44,
   "metadata": {},
   "outputs": [
    {
     "data": {
      "text/html": [
       "<div>\n",
       "<style scoped>\n",
       "    .dataframe tbody tr th:only-of-type {\n",
       "        vertical-align: middle;\n",
       "    }\n",
       "\n",
       "    .dataframe tbody tr th {\n",
       "        vertical-align: top;\n",
       "    }\n",
       "\n",
       "    .dataframe thead th {\n",
       "        text-align: right;\n",
       "    }\n",
       "</style>\n",
       "<table border=\"1\" class=\"dataframe\">\n",
       "  <thead>\n",
       "    <tr style=\"text-align: right;\">\n",
       "      <th></th>\n",
       "      <th>Code du département</th>\n",
       "      <th>Libellé du département</th>\n",
       "      <th>Code de la circonscription</th>\n",
       "      <th>Libellé de la circonscription</th>\n",
       "      <th>Code de la commune</th>\n",
       "      <th>Libellé de la commune</th>\n",
       "      <th>Code du b.vote</th>\n",
       "      <th>Inscrits</th>\n",
       "      <th>Abstentions</th>\n",
       "      <th>% Abs/Ins</th>\n",
       "      <th>...</th>\n",
       "      <th>Voix.9</th>\n",
       "      <th>% Voix/Ins.9</th>\n",
       "      <th>% Voix/Exp.9</th>\n",
       "      <th>N°Panneau.10</th>\n",
       "      <th>Sexe.10</th>\n",
       "      <th>Nom.10</th>\n",
       "      <th>Prénom.10</th>\n",
       "      <th>Voix.10</th>\n",
       "      <th>% Voix/Ins.10</th>\n",
       "      <th>% Voix/Exp.10</th>\n",
       "    </tr>\n",
       "  </thead>\n",
       "  <tbody>\n",
       "    <tr>\n",
       "      <th>0</th>\n",
       "      <td>1</td>\n",
       "      <td>Ain</td>\n",
       "      <td>4</td>\n",
       "      <td>4ème circonscription</td>\n",
       "      <td>1</td>\n",
       "      <td>L'Abergement-Clémenciat</td>\n",
       "      <td>1</td>\n",
       "      <td>598</td>\n",
       "      <td>92</td>\n",
       "      <td>15,38</td>\n",
       "      <td>...</td>\n",
       "      <td>6</td>\n",
       "      <td>1,00</td>\n",
       "      <td>1,21</td>\n",
       "      <td>11</td>\n",
       "      <td>M</td>\n",
       "      <td>FILLON</td>\n",
       "      <td>François</td>\n",
       "      <td>110</td>\n",
       "      <td>18,39</td>\n",
       "      <td>22,22</td>\n",
       "    </tr>\n",
       "    <tr>\n",
       "      <th>1</th>\n",
       "      <td>1</td>\n",
       "      <td>Ain</td>\n",
       "      <td>5</td>\n",
       "      <td>5ème circonscription</td>\n",
       "      <td>2</td>\n",
       "      <td>L'Abergement-de-Varey</td>\n",
       "      <td>1</td>\n",
       "      <td>209</td>\n",
       "      <td>25</td>\n",
       "      <td>11,96</td>\n",
       "      <td>...</td>\n",
       "      <td>1</td>\n",
       "      <td>0,48</td>\n",
       "      <td>0,57</td>\n",
       "      <td>11</td>\n",
       "      <td>M</td>\n",
       "      <td>FILLON</td>\n",
       "      <td>François</td>\n",
       "      <td>34</td>\n",
       "      <td>16,27</td>\n",
       "      <td>19,32</td>\n",
       "    </tr>\n",
       "    <tr>\n",
       "      <th>2</th>\n",
       "      <td>1</td>\n",
       "      <td>Ain</td>\n",
       "      <td>5</td>\n",
       "      <td>5ème circonscription</td>\n",
       "      <td>4</td>\n",
       "      <td>Ambérieu-en-Bugey</td>\n",
       "      <td>1</td>\n",
       "      <td>1116</td>\n",
       "      <td>233</td>\n",
       "      <td>20,88</td>\n",
       "      <td>...</td>\n",
       "      <td>7</td>\n",
       "      <td>0,63</td>\n",
       "      <td>0,81</td>\n",
       "      <td>11</td>\n",
       "      <td>M</td>\n",
       "      <td>FILLON</td>\n",
       "      <td>François</td>\n",
       "      <td>116</td>\n",
       "      <td>10,39</td>\n",
       "      <td>13,49</td>\n",
       "    </tr>\n",
       "    <tr>\n",
       "      <th>3</th>\n",
       "      <td>1</td>\n",
       "      <td>Ain</td>\n",
       "      <td>5</td>\n",
       "      <td>5ème circonscription</td>\n",
       "      <td>4</td>\n",
       "      <td>Ambérieu-en-Bugey</td>\n",
       "      <td>2</td>\n",
       "      <td>1128</td>\n",
       "      <td>256</td>\n",
       "      <td>22,70</td>\n",
       "      <td>...</td>\n",
       "      <td>11</td>\n",
       "      <td>0,98</td>\n",
       "      <td>1,29</td>\n",
       "      <td>11</td>\n",
       "      <td>M</td>\n",
       "      <td>FILLON</td>\n",
       "      <td>François</td>\n",
       "      <td>124</td>\n",
       "      <td>10,99</td>\n",
       "      <td>14,59</td>\n",
       "    </tr>\n",
       "    <tr>\n",
       "      <th>4</th>\n",
       "      <td>1</td>\n",
       "      <td>Ain</td>\n",
       "      <td>5</td>\n",
       "      <td>5ème circonscription</td>\n",
       "      <td>4</td>\n",
       "      <td>Ambérieu-en-Bugey</td>\n",
       "      <td>3</td>\n",
       "      <td>1116</td>\n",
       "      <td>227</td>\n",
       "      <td>20,34</td>\n",
       "      <td>...</td>\n",
       "      <td>7</td>\n",
       "      <td>0,63</td>\n",
       "      <td>0,80</td>\n",
       "      <td>11</td>\n",
       "      <td>M</td>\n",
       "      <td>FILLON</td>\n",
       "      <td>François</td>\n",
       "      <td>149</td>\n",
       "      <td>13,35</td>\n",
       "      <td>17,05</td>\n",
       "    </tr>\n",
       "  </tbody>\n",
       "</table>\n",
       "<p>5 rows × 98 columns</p>\n",
       "</div>"
      ],
      "text/plain": [
       "  Code du département Libellé du département  Code de la circonscription  \\\n",
       "0                   1                    Ain                           4   \n",
       "1                   1                    Ain                           5   \n",
       "2                   1                    Ain                           5   \n",
       "3                   1                    Ain                           5   \n",
       "4                   1                    Ain                           5   \n",
       "\n",
       "  Libellé de la circonscription  Code de la commune    Libellé de la commune  \\\n",
       "0          4ème circonscription                   1  L'Abergement-Clémenciat   \n",
       "1          5ème circonscription                   2    L'Abergement-de-Varey   \n",
       "2          5ème circonscription                   4        Ambérieu-en-Bugey   \n",
       "3          5ème circonscription                   4        Ambérieu-en-Bugey   \n",
       "4          5ème circonscription                   4        Ambérieu-en-Bugey   \n",
       "\n",
       "  Code du b.vote  Inscrits  Abstentions % Abs/Ins  ...  Voix.9 % Voix/Ins.9  \\\n",
       "0              1       598           92     15,38  ...       6         1,00   \n",
       "1              1       209           25     11,96  ...       1         0,48   \n",
       "2              1      1116          233     20,88  ...       7         0,63   \n",
       "3              2      1128          256     22,70  ...      11         0,98   \n",
       "4              3      1116          227     20,34  ...       7         0,63   \n",
       "\n",
       "   % Voix/Exp.9 N°Panneau.10 Sexe.10  Nom.10 Prénom.10 Voix.10  % Voix/Ins.10  \\\n",
       "0          1,21           11       M  FILLON  François     110          18,39   \n",
       "1          0,57           11       M  FILLON  François      34          16,27   \n",
       "2          0,81           11       M  FILLON  François     116          10,39   \n",
       "3          1,29           11       M  FILLON  François     124          10,99   \n",
       "4          0,80           11       M  FILLON  François     149          13,35   \n",
       "\n",
       "  % Voix/Exp.10  \n",
       "0         22,22  \n",
       "1         19,32  \n",
       "2         13,49  \n",
       "3         14,59  \n",
       "4         17,05  \n",
       "\n",
       "[5 rows x 98 columns]"
      ]
     },
     "execution_count": 44,
     "metadata": {},
     "output_type": "execute_result"
    }
   ],
   "source": [
    "elec.head()"
   ]
  },
  {
   "cell_type": "code",
   "execution_count": 45,
   "metadata": {},
   "outputs": [
    {
     "data": {
      "text/plain": [
       "Index(['Code du département', 'Libellé du département',\n",
       "       'Code de la circonscription', 'Libellé de la circonscription',\n",
       "       'Code de la commune', 'Libellé de la commune', 'Code du b.vote',\n",
       "       'Inscrits', 'Abstentions', '% Abs/Ins', 'Votants', '% Vot/Ins',\n",
       "       'Blancs', '% Blancs/Ins', '% Blancs/Vot', 'Nuls', '% Nuls/Ins',\n",
       "       '% Nuls/Vot', 'Exprimés', '% Exp/Ins', '% Exp/Vot', 'N°Panneau', 'Sexe',\n",
       "       'Nom', 'Prénom', 'Voix', '% Voix/Ins', '% Voix/Exp', 'N°Panneau.1',\n",
       "       'Sexe.1', 'Nom.1', 'Prénom.1', 'Voix.1', '% Voix/Ins.1', '% Voix/Exp.1',\n",
       "       'N°Panneau.2', 'Sexe.2', 'Nom.2', 'Prénom.2', 'Voix.2', '% Voix/Ins.2',\n",
       "       '% Voix/Exp.2', 'N°Panneau.3', 'Sexe.3', 'Nom.3', 'Prénom.3', 'Voix.3',\n",
       "       '% Voix/Ins.3', '% Voix/Exp.3', 'N°Panneau.4', 'Sexe.4', 'Nom.4',\n",
       "       'Prénom.4', 'Voix.4', '% Voix/Ins.4', '% Voix/Exp.4', 'N°Panneau.5',\n",
       "       'Sexe.5', 'Nom.5', 'Prénom.5', 'Voix.5', '% Voix/Ins.5', '% Voix/Exp.5',\n",
       "       'N°Panneau.6', 'Sexe.6', 'Nom.6', 'Prénom.6', 'Voix.6', '% Voix/Ins.6',\n",
       "       '% Voix/Exp.6', 'N°Panneau.7', 'Sexe.7', 'Nom.7', 'Prénom.7', 'Voix.7',\n",
       "       '% Voix/Ins.7', '% Voix/Exp.7', 'N°Panneau.8', 'Sexe.8', 'Nom.8',\n",
       "       'Prénom.8', 'Voix.8', '% Voix/Ins.8', '% Voix/Exp.8', 'N°Panneau.9',\n",
       "       'Sexe.9', 'Nom.9', 'Prénom.9', 'Voix.9', '% Voix/Ins.9', '% Voix/Exp.9',\n",
       "       'N°Panneau.10', 'Sexe.10', 'Nom.10', 'Prénom.10', 'Voix.10',\n",
       "       '% Voix/Ins.10', '% Voix/Exp.10'],\n",
       "      dtype='object')"
      ]
     },
     "execution_count": 45,
     "metadata": {},
     "output_type": "execute_result"
    }
   ],
   "source": []
  },
  {
   "cell_type": "code",
   "execution_count": 49,
   "metadata": {},
   "outputs": [],
   "source": [
    "elec=elec[['Code du département','Code de la circonscription','Code de la commune','Code du b.vote','Exprimés',\n",
    "          'Voix','Voix.1','Voix.2','Voix.3','Voix.4','Voix.5','Voix.6','Voix.7',\n",
    "          'Voix.8','Voix.9','Voix.10']]"
   ]
  },
  {
   "cell_type": "code",
   "execution_count": 50,
   "metadata": {},
   "outputs": [
    {
     "data": {
      "text/html": [
       "<div>\n",
       "<style scoped>\n",
       "    .dataframe tbody tr th:only-of-type {\n",
       "        vertical-align: middle;\n",
       "    }\n",
       "\n",
       "    .dataframe tbody tr th {\n",
       "        vertical-align: top;\n",
       "    }\n",
       "\n",
       "    .dataframe thead th {\n",
       "        text-align: right;\n",
       "    }\n",
       "</style>\n",
       "<table border=\"1\" class=\"dataframe\">\n",
       "  <thead>\n",
       "    <tr style=\"text-align: right;\">\n",
       "      <th></th>\n",
       "      <th>Code du département</th>\n",
       "      <th>Code de la commune</th>\n",
       "      <th>Code de la circonscription</th>\n",
       "      <th>Exprimés</th>\n",
       "      <th>Voix</th>\n",
       "      <th>Voix.1</th>\n",
       "      <th>Voix.2</th>\n",
       "      <th>Voix.3</th>\n",
       "      <th>Voix.4</th>\n",
       "      <th>Voix.5</th>\n",
       "      <th>Voix.6</th>\n",
       "      <th>Voix.7</th>\n",
       "      <th>Voix.8</th>\n",
       "      <th>Voix.9</th>\n",
       "      <th>Voix.10</th>\n",
       "    </tr>\n",
       "  </thead>\n",
       "  <tbody>\n",
       "    <tr>\n",
       "      <th>0</th>\n",
       "      <td>1</td>\n",
       "      <td>1</td>\n",
       "      <td>4</td>\n",
       "      <td>495</td>\n",
       "      <td>34</td>\n",
       "      <td>126</td>\n",
       "      <td>119</td>\n",
       "      <td>29</td>\n",
       "      <td>4</td>\n",
       "      <td>4</td>\n",
       "      <td>2</td>\n",
       "      <td>2</td>\n",
       "      <td>59</td>\n",
       "      <td>6</td>\n",
       "      <td>110</td>\n",
       "    </tr>\n",
       "    <tr>\n",
       "      <th>1</th>\n",
       "      <td>1</td>\n",
       "      <td>2</td>\n",
       "      <td>5</td>\n",
       "      <td>176</td>\n",
       "      <td>6</td>\n",
       "      <td>48</td>\n",
       "      <td>37</td>\n",
       "      <td>13</td>\n",
       "      <td>2</td>\n",
       "      <td>2</td>\n",
       "      <td>0</td>\n",
       "      <td>0</td>\n",
       "      <td>33</td>\n",
       "      <td>1</td>\n",
       "      <td>34</td>\n",
       "    </tr>\n",
       "    <tr>\n",
       "      <th>2</th>\n",
       "      <td>1</td>\n",
       "      <td>4</td>\n",
       "      <td>40</td>\n",
       "      <td>6452</td>\n",
       "      <td>346</td>\n",
       "      <td>1667</td>\n",
       "      <td>1332</td>\n",
       "      <td>344</td>\n",
       "      <td>40</td>\n",
       "      <td>91</td>\n",
       "      <td>5</td>\n",
       "      <td>60</td>\n",
       "      <td>1412</td>\n",
       "      <td>71</td>\n",
       "      <td>1084</td>\n",
       "    </tr>\n",
       "    <tr>\n",
       "      <th>3</th>\n",
       "      <td>1</td>\n",
       "      <td>5</td>\n",
       "      <td>4</td>\n",
       "      <td>933</td>\n",
       "      <td>45</td>\n",
       "      <td>306</td>\n",
       "      <td>191</td>\n",
       "      <td>37</td>\n",
       "      <td>5</td>\n",
       "      <td>10</td>\n",
       "      <td>0</td>\n",
       "      <td>6</td>\n",
       "      <td>126</td>\n",
       "      <td>10</td>\n",
       "      <td>197</td>\n",
       "    </tr>\n",
       "    <tr>\n",
       "      <th>4</th>\n",
       "      <td>1</td>\n",
       "      <td>6</td>\n",
       "      <td>3</td>\n",
       "      <td>77</td>\n",
       "      <td>4</td>\n",
       "      <td>18</td>\n",
       "      <td>15</td>\n",
       "      <td>3</td>\n",
       "      <td>1</td>\n",
       "      <td>2</td>\n",
       "      <td>0</td>\n",
       "      <td>1</td>\n",
       "      <td>19</td>\n",
       "      <td>0</td>\n",
       "      <td>14</td>\n",
       "    </tr>\n",
       "    <tr>\n",
       "      <th>...</th>\n",
       "      <td>...</td>\n",
       "      <td>...</td>\n",
       "      <td>...</td>\n",
       "      <td>...</td>\n",
       "      <td>...</td>\n",
       "      <td>...</td>\n",
       "      <td>...</td>\n",
       "      <td>...</td>\n",
       "      <td>...</td>\n",
       "      <td>...</td>\n",
       "      <td>...</td>\n",
       "      <td>...</td>\n",
       "      <td>...</td>\n",
       "      <td>...</td>\n",
       "      <td>...</td>\n",
       "    </tr>\n",
       "    <tr>\n",
       "      <th>35716</th>\n",
       "      <td>ZZ</td>\n",
       "      <td>226</td>\n",
       "      <td>11</td>\n",
       "      <td>236</td>\n",
       "      <td>1</td>\n",
       "      <td>16</td>\n",
       "      <td>115</td>\n",
       "      <td>10</td>\n",
       "      <td>2</td>\n",
       "      <td>1</td>\n",
       "      <td>0</td>\n",
       "      <td>0</td>\n",
       "      <td>26</td>\n",
       "      <td>3</td>\n",
       "      <td>62</td>\n",
       "    </tr>\n",
       "    <tr>\n",
       "      <th>35717</th>\n",
       "      <td>ZZ</td>\n",
       "      <td>227</td>\n",
       "      <td>10</td>\n",
       "      <td>711</td>\n",
       "      <td>13</td>\n",
       "      <td>49</td>\n",
       "      <td>251</td>\n",
       "      <td>63</td>\n",
       "      <td>0</td>\n",
       "      <td>1</td>\n",
       "      <td>0</td>\n",
       "      <td>2</td>\n",
       "      <td>131</td>\n",
       "      <td>4</td>\n",
       "      <td>197</td>\n",
       "    </tr>\n",
       "    <tr>\n",
       "      <th>35718</th>\n",
       "      <td>ZZ</td>\n",
       "      <td>228</td>\n",
       "      <td>7</td>\n",
       "      <td>251</td>\n",
       "      <td>8</td>\n",
       "      <td>35</td>\n",
       "      <td>92</td>\n",
       "      <td>14</td>\n",
       "      <td>0</td>\n",
       "      <td>0</td>\n",
       "      <td>0</td>\n",
       "      <td>1</td>\n",
       "      <td>30</td>\n",
       "      <td>6</td>\n",
       "      <td>65</td>\n",
       "    </tr>\n",
       "    <tr>\n",
       "      <th>35719</th>\n",
       "      <td>ZZ</td>\n",
       "      <td>229</td>\n",
       "      <td>6</td>\n",
       "      <td>10243</td>\n",
       "      <td>205</td>\n",
       "      <td>622</td>\n",
       "      <td>4672</td>\n",
       "      <td>567</td>\n",
       "      <td>27</td>\n",
       "      <td>61</td>\n",
       "      <td>18</td>\n",
       "      <td>41</td>\n",
       "      <td>1050</td>\n",
       "      <td>87</td>\n",
       "      <td>2893</td>\n",
       "    </tr>\n",
       "    <tr>\n",
       "      <th>35720</th>\n",
       "      <td>ZZ</td>\n",
       "      <td>231</td>\n",
       "      <td>11</td>\n",
       "      <td>676</td>\n",
       "      <td>8</td>\n",
       "      <td>45</td>\n",
       "      <td>260</td>\n",
       "      <td>47</td>\n",
       "      <td>1</td>\n",
       "      <td>2</td>\n",
       "      <td>3</td>\n",
       "      <td>6</td>\n",
       "      <td>156</td>\n",
       "      <td>35</td>\n",
       "      <td>113</td>\n",
       "    </tr>\n",
       "  </tbody>\n",
       "</table>\n",
       "<p>35721 rows × 15 columns</p>\n",
       "</div>"
      ],
      "text/plain": [
       "      Code du département  Code de la commune  Code de la circonscription  \\\n",
       "0                       1                   1                           4   \n",
       "1                       1                   2                           5   \n",
       "2                       1                   4                          40   \n",
       "3                       1                   5                           4   \n",
       "4                       1                   6                           3   \n",
       "...                   ...                 ...                         ...   \n",
       "35716                  ZZ                 226                          11   \n",
       "35717                  ZZ                 227                          10   \n",
       "35718                  ZZ                 228                           7   \n",
       "35719                  ZZ                 229                           6   \n",
       "35720                  ZZ                 231                          11   \n",
       "\n",
       "       Exprimés  Voix  Voix.1  Voix.2  Voix.3  Voix.4  Voix.5  Voix.6  Voix.7  \\\n",
       "0           495    34     126     119      29       4       4       2       2   \n",
       "1           176     6      48      37      13       2       2       0       0   \n",
       "2          6452   346    1667    1332     344      40      91       5      60   \n",
       "3           933    45     306     191      37       5      10       0       6   \n",
       "4            77     4      18      15       3       1       2       0       1   \n",
       "...         ...   ...     ...     ...     ...     ...     ...     ...     ...   \n",
       "35716       236     1      16     115      10       2       1       0       0   \n",
       "35717       711    13      49     251      63       0       1       0       2   \n",
       "35718       251     8      35      92      14       0       0       0       1   \n",
       "35719     10243   205     622    4672     567      27      61      18      41   \n",
       "35720       676     8      45     260      47       1       2       3       6   \n",
       "\n",
       "       Voix.8  Voix.9  Voix.10  \n",
       "0          59       6      110  \n",
       "1          33       1       34  \n",
       "2        1412      71     1084  \n",
       "3         126      10      197  \n",
       "4          19       0       14  \n",
       "...       ...     ...      ...  \n",
       "35716      26       3       62  \n",
       "35717     131       4      197  \n",
       "35718      30       6       65  \n",
       "35719    1050      87     2893  \n",
       "35720     156      35      113  \n",
       "\n",
       "[35721 rows x 15 columns]"
      ]
     },
     "execution_count": 50,
     "metadata": {},
     "output_type": "execute_result"
    }
   ],
   "source": [
    "elec.groupby(['Code du département','Code de la commune'],as_index=False).sum()"
   ]
  },
  {
   "cell_type": "code",
   "execution_count": 32,
   "metadata": {},
   "outputs": [],
   "source": []
  },
  {
   "cell_type": "code",
   "execution_count": 34,
   "metadata": {},
   "outputs": [
    {
     "data": {
      "text/html": [
       "<div>\n",
       "<style scoped>\n",
       "    .dataframe tbody tr th:only-of-type {\n",
       "        vertical-align: middle;\n",
       "    }\n",
       "\n",
       "    .dataframe tbody tr th {\n",
       "        vertical-align: top;\n",
       "    }\n",
       "\n",
       "    .dataframe thead th {\n",
       "        text-align: right;\n",
       "    }\n",
       "</style>\n",
       "<table border=\"1\" class=\"dataframe\">\n",
       "  <thead>\n",
       "    <tr style=\"text-align: right;\">\n",
       "      <th></th>\n",
       "      <th>Code du département</th>\n",
       "      <th>Code de la circonscription</th>\n",
       "      <th>Code de la commune</th>\n",
       "      <th>Code du b.vote</th>\n",
       "      <th>extreme_droite</th>\n",
       "      <th>macron</th>\n",
       "      <th>gauche</th>\n",
       "      <th>droite</th>\n",
       "    </tr>\n",
       "  </thead>\n",
       "  <tbody>\n",
       "    <tr>\n",
       "      <th>0</th>\n",
       "      <td>1</td>\n",
       "      <td>4</td>\n",
       "      <td>1</td>\n",
       "      <td>1</td>\n",
       "      <td>0.249012</td>\n",
       "      <td>0.235178</td>\n",
       "      <td>0.189723</td>\n",
       "      <td>0.304348</td>\n",
       "    </tr>\n",
       "    <tr>\n",
       "      <th>1</th>\n",
       "      <td>1</td>\n",
       "      <td>5</td>\n",
       "      <td>2</td>\n",
       "      <td>1</td>\n",
       "      <td>0.260870</td>\n",
       "      <td>0.201087</td>\n",
       "      <td>0.271739</td>\n",
       "      <td>0.222826</td>\n",
       "    </tr>\n",
       "    <tr>\n",
       "      <th>2</th>\n",
       "      <td>1</td>\n",
       "      <td>5</td>\n",
       "      <td>4</td>\n",
       "      <td>1</td>\n",
       "      <td>0.263873</td>\n",
       "      <td>0.176670</td>\n",
       "      <td>0.321631</td>\n",
       "      <td>0.211778</td>\n",
       "    </tr>\n",
       "    <tr>\n",
       "      <th>3</th>\n",
       "      <td>1</td>\n",
       "      <td>5</td>\n",
       "      <td>4</td>\n",
       "      <td>2</td>\n",
       "      <td>0.268349</td>\n",
       "      <td>0.209862</td>\n",
       "      <td>0.283257</td>\n",
       "      <td>0.213303</td>\n",
       "    </tr>\n",
       "    <tr>\n",
       "      <th>4</th>\n",
       "      <td>1</td>\n",
       "      <td>5</td>\n",
       "      <td>4</td>\n",
       "      <td>3</td>\n",
       "      <td>0.245219</td>\n",
       "      <td>0.214848</td>\n",
       "      <td>0.282340</td>\n",
       "      <td>0.240720</td>\n",
       "    </tr>\n",
       "  </tbody>\n",
       "</table>\n",
       "</div>"
      ],
      "text/plain": [
       "  Code du département  Code de la circonscription  Code de la commune  \\\n",
       "0                   1                           4                   1   \n",
       "1                   1                           5                   2   \n",
       "2                   1                           5                   4   \n",
       "3                   1                           5                   4   \n",
       "4                   1                           5                   4   \n",
       "\n",
       "  Code du b.vote  extreme_droite    macron    gauche    droite  \n",
       "0              1        0.249012  0.235178  0.189723  0.304348  \n",
       "1              1        0.260870  0.201087  0.271739  0.222826  \n",
       "2              1        0.263873  0.176670  0.321631  0.211778  \n",
       "3              2        0.268349  0.209862  0.283257  0.213303  \n",
       "4              3        0.245219  0.214848  0.282340  0.240720  "
      ]
     },
     "execution_count": 34,
     "metadata": {},
     "output_type": "execute_result"
    }
   ],
   "source": [
    "elec.head()"
   ]
  },
  {
   "cell_type": "code",
   "execution_count": 39,
   "metadata": {},
   "outputs": [],
   "source": [
    "corr = pd.read_csv(dir + '\\\\brut\\\\correspondance-code-insee-code-postal.csv',sep=';')"
   ]
  },
  {
   "cell_type": "code",
   "execution_count": 41,
   "metadata": {},
   "outputs": [],
   "source": [
    "corr=corr[['Code INSEE','Code Commune','Code Département']]"
   ]
  },
  {
   "cell_type": "code",
   "execution_count": 51,
   "metadata": {},
   "outputs": [
    {
     "data": {
      "text/html": [
       "<div>\n",
       "<style scoped>\n",
       "    .dataframe tbody tr th:only-of-type {\n",
       "        vertical-align: middle;\n",
       "    }\n",
       "\n",
       "    .dataframe tbody tr th {\n",
       "        vertical-align: top;\n",
       "    }\n",
       "\n",
       "    .dataframe thead th {\n",
       "        text-align: right;\n",
       "    }\n",
       "</style>\n",
       "<table border=\"1\" class=\"dataframe\">\n",
       "  <thead>\n",
       "    <tr style=\"text-align: right;\">\n",
       "      <th></th>\n",
       "      <th>Code INSEE</th>\n",
       "      <th>Code Commune</th>\n",
       "      <th>Code Département</th>\n",
       "    </tr>\n",
       "  </thead>\n",
       "  <tbody>\n",
       "    <tr>\n",
       "      <th>0</th>\n",
       "      <td>63402</td>\n",
       "      <td>402</td>\n",
       "      <td>63</td>\n",
       "    </tr>\n",
       "    <tr>\n",
       "      <th>1</th>\n",
       "      <td>26027</td>\n",
       "      <td>27</td>\n",
       "      <td>26</td>\n",
       "    </tr>\n",
       "    <tr>\n",
       "      <th>2</th>\n",
       "      <td>42205</td>\n",
       "      <td>205</td>\n",
       "      <td>42</td>\n",
       "    </tr>\n",
       "    <tr>\n",
       "      <th>3</th>\n",
       "      <td>69063</td>\n",
       "      <td>63</td>\n",
       "      <td>69</td>\n",
       "    </tr>\n",
       "    <tr>\n",
       "      <th>4</th>\n",
       "      <td>61502</td>\n",
       "      <td>502</td>\n",
       "      <td>61</td>\n",
       "    </tr>\n",
       "  </tbody>\n",
       "</table>\n",
       "</div>"
      ],
      "text/plain": [
       "  Code INSEE  Code Commune Code Département\n",
       "0      63402           402               63\n",
       "1      26027            27               26\n",
       "2      42205           205               42\n",
       "3      69063            63               69\n",
       "4      61502           502               61"
      ]
     },
     "execution_count": 51,
     "metadata": {},
     "output_type": "execute_result"
    }
   ],
   "source": [
    "corr.head()"
   ]
  },
  {
   "cell_type": "code",
   "execution_count": 59,
   "metadata": {},
   "outputs": [],
   "source": [
    "elec=elec.rename(columns={'Code de la commune':'Code Commune','Code du département':'Code Département'})"
   ]
  },
  {
   "cell_type": "code",
   "execution_count": 60,
   "metadata": {},
   "outputs": [],
   "source": [
    "elec=corr.merge(elec,how='left',on=['Code Commune','Code Département'])"
   ]
  },
  {
   "cell_type": "code",
   "execution_count": 64,
   "metadata": {},
   "outputs": [
    {
     "ename": "KeyError",
     "evalue": "'Abstentions'",
     "output_type": "error",
     "traceback": [
      "\u001b[1;31m---------------------------------------------------------------------------\u001b[0m",
      "\u001b[1;31mKeyError\u001b[0m                                  Traceback (most recent call last)",
      "\u001b[1;32m~\\Anaconda3\\lib\\site-packages\\pandas\\core\\indexes\\base.py\u001b[0m in \u001b[0;36mget_loc\u001b[1;34m(self, key, method, tolerance)\u001b[0m\n\u001b[0;32m   2645\u001b[0m             \u001b[1;32mtry\u001b[0m\u001b[1;33m:\u001b[0m\u001b[1;33m\u001b[0m\u001b[1;33m\u001b[0m\u001b[0m\n\u001b[1;32m-> 2646\u001b[1;33m                 \u001b[1;32mreturn\u001b[0m \u001b[0mself\u001b[0m\u001b[1;33m.\u001b[0m\u001b[0m_engine\u001b[0m\u001b[1;33m.\u001b[0m\u001b[0mget_loc\u001b[0m\u001b[1;33m(\u001b[0m\u001b[0mkey\u001b[0m\u001b[1;33m)\u001b[0m\u001b[1;33m\u001b[0m\u001b[1;33m\u001b[0m\u001b[0m\n\u001b[0m\u001b[0;32m   2647\u001b[0m             \u001b[1;32mexcept\u001b[0m \u001b[0mKeyError\u001b[0m\u001b[1;33m:\u001b[0m\u001b[1;33m\u001b[0m\u001b[1;33m\u001b[0m\u001b[0m\n",
      "\u001b[1;32mpandas\\_libs\\index.pyx\u001b[0m in \u001b[0;36mpandas._libs.index.IndexEngine.get_loc\u001b[1;34m()\u001b[0m\n",
      "\u001b[1;32mpandas\\_libs\\index.pyx\u001b[0m in \u001b[0;36mpandas._libs.index.IndexEngine.get_loc\u001b[1;34m()\u001b[0m\n",
      "\u001b[1;32mpandas\\_libs\\hashtable_class_helper.pxi\u001b[0m in \u001b[0;36mpandas._libs.hashtable.PyObjectHashTable.get_item\u001b[1;34m()\u001b[0m\n",
      "\u001b[1;32mpandas\\_libs\\hashtable_class_helper.pxi\u001b[0m in \u001b[0;36mpandas._libs.hashtable.PyObjectHashTable.get_item\u001b[1;34m()\u001b[0m\n",
      "\u001b[1;31mKeyError\u001b[0m: 'Abstentions'",
      "\nDuring handling of the above exception, another exception occurred:\n",
      "\u001b[1;31mKeyError\u001b[0m                                  Traceback (most recent call last)",
      "\u001b[1;32m<ipython-input-64-4c2860250fc3>\u001b[0m in \u001b[0;36m<module>\u001b[1;34m\u001b[0m\n\u001b[0;32m      3\u001b[0m \u001b[0melec\u001b[0m\u001b[1;33m=\u001b[0m\u001b[0melec\u001b[0m\u001b[1;33m.\u001b[0m\u001b[0massign\u001b[0m\u001b[1;33m(\u001b[0m\u001b[0mgauche\u001b[0m\u001b[1;33m=\u001b[0m\u001b[1;33m(\u001b[0m\u001b[0melec\u001b[0m\u001b[1;33m[\u001b[0m\u001b[1;34m'Voix.4'\u001b[0m\u001b[1;33m]\u001b[0m \u001b[1;33m+\u001b[0m \u001b[0melec\u001b[0m\u001b[1;33m[\u001b[0m\u001b[1;34m'Voix.5'\u001b[0m\u001b[1;33m]\u001b[0m \u001b[1;33m+\u001b[0m \u001b[0melec\u001b[0m\u001b[1;33m[\u001b[0m\u001b[1;34m'Voix.8'\u001b[0m\u001b[1;33m]\u001b[0m \u001b[1;33m+\u001b[0m \u001b[0melec\u001b[0m\u001b[1;33m[\u001b[0m\u001b[1;34m'Voix.3'\u001b[0m\u001b[1;33m]\u001b[0m \u001b[1;33m)\u001b[0m\u001b[1;33m/\u001b[0m\u001b[0melec\u001b[0m\u001b[1;33m.\u001b[0m\u001b[0mExprimés\u001b[0m\u001b[1;33m)\u001b[0m\u001b[1;33m\u001b[0m\u001b[1;33m\u001b[0m\u001b[0m\n\u001b[0;32m      4\u001b[0m \u001b[0melec\u001b[0m\u001b[1;33m=\u001b[0m\u001b[0melec\u001b[0m\u001b[1;33m.\u001b[0m\u001b[0massign\u001b[0m\u001b[1;33m(\u001b[0m\u001b[0mdroite\u001b[0m\u001b[1;33m=\u001b[0m\u001b[1;33m(\u001b[0m\u001b[0melec\u001b[0m\u001b[1;33m[\u001b[0m\u001b[1;34m'Voix.10'\u001b[0m\u001b[1;33m]\u001b[0m \u001b[1;33m+\u001b[0m \u001b[0melec\u001b[0m\u001b[1;33m[\u001b[0m\u001b[1;34m'Voix'\u001b[0m\u001b[1;33m]\u001b[0m \u001b[1;33m+\u001b[0m  \u001b[0melec\u001b[0m\u001b[1;33m[\u001b[0m\u001b[1;34m'Voix.6'\u001b[0m\u001b[1;33m]\u001b[0m \u001b[1;33m+\u001b[0m\u001b[0melec\u001b[0m\u001b[1;33m[\u001b[0m\u001b[1;34m'Voix.9'\u001b[0m\u001b[1;33m]\u001b[0m\u001b[1;33m+\u001b[0m\u001b[0melec\u001b[0m\u001b[1;33m[\u001b[0m\u001b[1;34m'Voix.7'\u001b[0m\u001b[1;33m]\u001b[0m \u001b[1;33m)\u001b[0m\u001b[1;33m/\u001b[0m\u001b[0melec\u001b[0m\u001b[1;33m.\u001b[0m\u001b[0mExprimés\u001b[0m\u001b[1;33m)\u001b[0m\u001b[1;33m\u001b[0m\u001b[1;33m\u001b[0m\u001b[0m\n\u001b[1;32m----> 5\u001b[1;33m \u001b[0melec\u001b[0m\u001b[1;33m=\u001b[0m\u001b[0melec\u001b[0m\u001b[1;33m.\u001b[0m\u001b[0massign\u001b[0m\u001b[1;33m(\u001b[0m\u001b[0mabs\u001b[0m\u001b[1;33m=\u001b[0m\u001b[1;33m(\u001b[0m\u001b[0melec\u001b[0m\u001b[1;33m[\u001b[0m\u001b[1;34m'Abstentions'\u001b[0m\u001b[1;33m]\u001b[0m\u001b[1;33m)\u001b[0m\u001b[1;33m/\u001b[0m\u001b[0melec\u001b[0m\u001b[1;33m.\u001b[0m\u001b[0mExprimés\u001b[0m\u001b[1;33m)\u001b[0m\u001b[1;33m\u001b[0m\u001b[1;33m\u001b[0m\u001b[0m\n\u001b[0m\u001b[0;32m      6\u001b[0m \u001b[0melec\u001b[0m\u001b[1;33m=\u001b[0m\u001b[0melec\u001b[0m\u001b[1;33m[\u001b[0m\u001b[1;33m[\u001b[0m\u001b[1;34m'Code du département'\u001b[0m\u001b[1;33m,\u001b[0m\u001b[1;34m'Code de la circonscription'\u001b[0m\u001b[1;33m,\u001b[0m\u001b[1;34m'Code de la commune'\u001b[0m\u001b[1;33m,\u001b[0m\u001b[1;34m'Code du b.vote'\u001b[0m\u001b[1;33m,\u001b[0m\u001b[1;34m'extreme_droite'\u001b[0m\u001b[1;33m,\u001b[0m\u001b[1;34m'macron'\u001b[0m\u001b[1;33m,\u001b[0m\u001b[1;34m'gauche'\u001b[0m\u001b[1;33m,\u001b[0m\u001b[1;34m'droite'\u001b[0m\u001b[1;33m]\u001b[0m\u001b[1;33m]\u001b[0m\u001b[1;33m\u001b[0m\u001b[1;33m\u001b[0m\u001b[0m\n",
      "\u001b[1;32m~\\Anaconda3\\lib\\site-packages\\pandas\\core\\frame.py\u001b[0m in \u001b[0;36m__getitem__\u001b[1;34m(self, key)\u001b[0m\n\u001b[0;32m   2798\u001b[0m             \u001b[1;32mif\u001b[0m \u001b[0mself\u001b[0m\u001b[1;33m.\u001b[0m\u001b[0mcolumns\u001b[0m\u001b[1;33m.\u001b[0m\u001b[0mnlevels\u001b[0m \u001b[1;33m>\u001b[0m \u001b[1;36m1\u001b[0m\u001b[1;33m:\u001b[0m\u001b[1;33m\u001b[0m\u001b[1;33m\u001b[0m\u001b[0m\n\u001b[0;32m   2799\u001b[0m                 \u001b[1;32mreturn\u001b[0m \u001b[0mself\u001b[0m\u001b[1;33m.\u001b[0m\u001b[0m_getitem_multilevel\u001b[0m\u001b[1;33m(\u001b[0m\u001b[0mkey\u001b[0m\u001b[1;33m)\u001b[0m\u001b[1;33m\u001b[0m\u001b[1;33m\u001b[0m\u001b[0m\n\u001b[1;32m-> 2800\u001b[1;33m             \u001b[0mindexer\u001b[0m \u001b[1;33m=\u001b[0m \u001b[0mself\u001b[0m\u001b[1;33m.\u001b[0m\u001b[0mcolumns\u001b[0m\u001b[1;33m.\u001b[0m\u001b[0mget_loc\u001b[0m\u001b[1;33m(\u001b[0m\u001b[0mkey\u001b[0m\u001b[1;33m)\u001b[0m\u001b[1;33m\u001b[0m\u001b[1;33m\u001b[0m\u001b[0m\n\u001b[0m\u001b[0;32m   2801\u001b[0m             \u001b[1;32mif\u001b[0m \u001b[0mis_integer\u001b[0m\u001b[1;33m(\u001b[0m\u001b[0mindexer\u001b[0m\u001b[1;33m)\u001b[0m\u001b[1;33m:\u001b[0m\u001b[1;33m\u001b[0m\u001b[1;33m\u001b[0m\u001b[0m\n\u001b[0;32m   2802\u001b[0m                 \u001b[0mindexer\u001b[0m \u001b[1;33m=\u001b[0m \u001b[1;33m[\u001b[0m\u001b[0mindexer\u001b[0m\u001b[1;33m]\u001b[0m\u001b[1;33m\u001b[0m\u001b[1;33m\u001b[0m\u001b[0m\n",
      "\u001b[1;32m~\\Anaconda3\\lib\\site-packages\\pandas\\core\\indexes\\base.py\u001b[0m in \u001b[0;36mget_loc\u001b[1;34m(self, key, method, tolerance)\u001b[0m\n\u001b[0;32m   2646\u001b[0m                 \u001b[1;32mreturn\u001b[0m \u001b[0mself\u001b[0m\u001b[1;33m.\u001b[0m\u001b[0m_engine\u001b[0m\u001b[1;33m.\u001b[0m\u001b[0mget_loc\u001b[0m\u001b[1;33m(\u001b[0m\u001b[0mkey\u001b[0m\u001b[1;33m)\u001b[0m\u001b[1;33m\u001b[0m\u001b[1;33m\u001b[0m\u001b[0m\n\u001b[0;32m   2647\u001b[0m             \u001b[1;32mexcept\u001b[0m \u001b[0mKeyError\u001b[0m\u001b[1;33m:\u001b[0m\u001b[1;33m\u001b[0m\u001b[1;33m\u001b[0m\u001b[0m\n\u001b[1;32m-> 2648\u001b[1;33m                 \u001b[1;32mreturn\u001b[0m \u001b[0mself\u001b[0m\u001b[1;33m.\u001b[0m\u001b[0m_engine\u001b[0m\u001b[1;33m.\u001b[0m\u001b[0mget_loc\u001b[0m\u001b[1;33m(\u001b[0m\u001b[0mself\u001b[0m\u001b[1;33m.\u001b[0m\u001b[0m_maybe_cast_indexer\u001b[0m\u001b[1;33m(\u001b[0m\u001b[0mkey\u001b[0m\u001b[1;33m)\u001b[0m\u001b[1;33m)\u001b[0m\u001b[1;33m\u001b[0m\u001b[1;33m\u001b[0m\u001b[0m\n\u001b[0m\u001b[0;32m   2649\u001b[0m         \u001b[0mindexer\u001b[0m \u001b[1;33m=\u001b[0m \u001b[0mself\u001b[0m\u001b[1;33m.\u001b[0m\u001b[0mget_indexer\u001b[0m\u001b[1;33m(\u001b[0m\u001b[1;33m[\u001b[0m\u001b[0mkey\u001b[0m\u001b[1;33m]\u001b[0m\u001b[1;33m,\u001b[0m \u001b[0mmethod\u001b[0m\u001b[1;33m=\u001b[0m\u001b[0mmethod\u001b[0m\u001b[1;33m,\u001b[0m \u001b[0mtolerance\u001b[0m\u001b[1;33m=\u001b[0m\u001b[0mtolerance\u001b[0m\u001b[1;33m)\u001b[0m\u001b[1;33m\u001b[0m\u001b[1;33m\u001b[0m\u001b[0m\n\u001b[0;32m   2650\u001b[0m         \u001b[1;32mif\u001b[0m \u001b[0mindexer\u001b[0m\u001b[1;33m.\u001b[0m\u001b[0mndim\u001b[0m \u001b[1;33m>\u001b[0m \u001b[1;36m1\u001b[0m \u001b[1;32mor\u001b[0m \u001b[0mindexer\u001b[0m\u001b[1;33m.\u001b[0m\u001b[0msize\u001b[0m \u001b[1;33m>\u001b[0m \u001b[1;36m1\u001b[0m\u001b[1;33m:\u001b[0m\u001b[1;33m\u001b[0m\u001b[1;33m\u001b[0m\u001b[0m\n",
      "\u001b[1;32mpandas\\_libs\\index.pyx\u001b[0m in \u001b[0;36mpandas._libs.index.IndexEngine.get_loc\u001b[1;34m()\u001b[0m\n",
      "\u001b[1;32mpandas\\_libs\\index.pyx\u001b[0m in \u001b[0;36mpandas._libs.index.IndexEngine.get_loc\u001b[1;34m()\u001b[0m\n",
      "\u001b[1;32mpandas\\_libs\\hashtable_class_helper.pxi\u001b[0m in \u001b[0;36mpandas._libs.hashtable.PyObjectHashTable.get_item\u001b[1;34m()\u001b[0m\n",
      "\u001b[1;32mpandas\\_libs\\hashtable_class_helper.pxi\u001b[0m in \u001b[0;36mpandas._libs.hashtable.PyObjectHashTable.get_item\u001b[1;34m()\u001b[0m\n",
      "\u001b[1;31mKeyError\u001b[0m: 'Abstentions'"
     ]
    }
   ],
   "source": [
    "elec=elec.assign(extreme_droite=elec['Voix.1']/elec.Exprimés)\n",
    "elec=elec.assign(macron=elec['Voix.2']/elec.Exprimés)\n",
    "elec=elec.assign(gauche=(elec['Voix.4'] + elec['Voix.5'] + elec['Voix.8'] + elec['Voix.3'] )/elec.Exprimés)\n",
    "elec=elec.assign(droite=(elec['Voix.10'] + elec['Voix'] +  elec['Voix.6'] +elec['Voix.9']+elec['Voix.7'] )/elec.Exprimés)\n",
    "elec=elec.assign(abs=(elec['Abstentions'])/elec.Exprimés)\n",
    "elec=elec[['Code du département','Code de la circonscription','Code de la commune','Code du b.vote','extreme_droite','macron','gauche','droite']]"
   ]
  },
  {
   "cell_type": "code",
   "execution_count": null,
   "metadata": {},
   "outputs": [],
   "source": []
  },
  {
   "cell_type": "code",
   "execution_count": null,
   "metadata": {},
   "outputs": [],
   "source": []
  },
  {
   "cell_type": "code",
   "execution_count": null,
   "metadata": {},
   "outputs": [],
   "source": []
  },
  {
   "cell_type": "code",
   "execution_count": null,
   "metadata": {},
   "outputs": [],
   "source": []
  },
  {
   "cell_type": "code",
   "execution_count": null,
   "metadata": {},
   "outputs": [],
   "source": []
  }
 ],
 "metadata": {
  "kernelspec": {
   "display_name": "Python 3",
   "language": "python",
   "name": "python3"
  },
  "language_info": {
   "codemirror_mode": {
    "name": "ipython",
    "version": 3
   },
   "file_extension": ".py",
   "mimetype": "text/x-python",
   "name": "python",
   "nbconvert_exporter": "python",
   "pygments_lexer": "ipython3",
   "version": "3.7.6"
  }
 },
 "nbformat": 4,
 "nbformat_minor": 4
}
