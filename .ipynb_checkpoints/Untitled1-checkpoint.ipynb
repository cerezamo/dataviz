{
 "cells": [
  {
   "cell_type": "code",
   "execution_count": 1,
   "metadata": {},
   "outputs": [],
   "source": [
    "import pandas as pd"
   ]
  },
  {
   "cell_type": "code",
   "execution_count": 2,
   "metadata": {},
   "outputs": [
    {
     "name": "stdout",
     "output_type": "stream",
     "text": [
      "utf-8\n"
     ]
    }
   ],
   "source": [
    "import sys\n",
    "#reload(sys)\n",
    "print(sys.getdefaultencoding())\n",
    "#sys.setdefaultencoding(\"utf-8\")"
   ]
  },
  {
   "cell_type": "code",
   "execution_count": 3,
   "metadata": {},
   "outputs": [],
   "source": [
    "df = pd.read_csv('variables.csv', index_col=0)"
   ]
  },
  {
   "cell_type": "code",
   "execution_count": 4,
   "metadata": {},
   "outputs": [
    {
     "data": {
      "text/html": [
       "<div>\n",
       "<style scoped>\n",
       "    .dataframe tbody tr th:only-of-type {\n",
       "        vertical-align: middle;\n",
       "    }\n",
       "\n",
       "    .dataframe tbody tr th {\n",
       "        vertical-align: top;\n",
       "    }\n",
       "\n",
       "    .dataframe thead th {\n",
       "        text-align: right;\n",
       "    }\n",
       "</style>\n",
       "<table border=\"1\" class=\"dataframe\">\n",
       "  <thead>\n",
       "    <tr style=\"text-align: right;\">\n",
       "      <th></th>\n",
       "      <th>insee</th>\n",
       "      <th>TauxProprietaires</th>\n",
       "      <th>TauxChomage</th>\n",
       "      <th>NiveauVieMedian</th>\n",
       "      <th>densitehabkm2</th>\n",
       "      <th>dipl_su_tx</th>\n",
       "      <th>no2</th>\n",
       "      <th>o3</th>\n",
       "      <th>pm10</th>\n",
       "      <th>Tour1Candidat1</th>\n",
       "      <th>tp</th>\n",
       "      <th>medianendv</th>\n",
       "      <th>nb_redevables</th>\n",
       "      <th>patrimoineeuro</th>\n",
       "      <th>impotmoyeneuro</th>\n",
       "      <th>prixm2</th>\n",
       "    </tr>\n",
       "  </thead>\n",
       "  <tbody>\n",
       "    <tr>\n",
       "      <th>0</th>\n",
       "      <td>78561</td>\n",
       "      <td>77.11</td>\n",
       "      <td>3.91</td>\n",
       "      <td>36311.0</td>\n",
       "      <td>66.26</td>\n",
       "      <td>0.57</td>\n",
       "      <td>16.34</td>\n",
       "      <td>32.08</td>\n",
       "      <td>24.54</td>\n",
       "      <td>FILLON FranÃ§ois</td>\n",
       "      <td>NaN</td>\n",
       "      <td>36311.47</td>\n",
       "      <td>NaN</td>\n",
       "      <td>NaN</td>\n",
       "      <td>NaN</td>\n",
       "      <td>2113.0</td>\n",
       "    </tr>\n",
       "    <tr>\n",
       "      <th>9</th>\n",
       "      <td>91338</td>\n",
       "      <td>70.49</td>\n",
       "      <td>6.92</td>\n",
       "      <td>28123.0</td>\n",
       "      <td>459.76</td>\n",
       "      <td>0.41</td>\n",
       "      <td>15.59</td>\n",
       "      <td>33.15</td>\n",
       "      <td>24.57</td>\n",
       "      <td>MACRON Emmanuel</td>\n",
       "      <td>5.0</td>\n",
       "      <td>28122.78</td>\n",
       "      <td>NaN</td>\n",
       "      <td>NaN</td>\n",
       "      <td>NaN</td>\n",
       "      <td>2881.0</td>\n",
       "    </tr>\n",
       "    <tr>\n",
       "      <th>18</th>\n",
       "      <td>91122</td>\n",
       "      <td>71.18</td>\n",
       "      <td>8.05</td>\n",
       "      <td>31769.0</td>\n",
       "      <td>2145.45</td>\n",
       "      <td>0.64</td>\n",
       "      <td>19.35</td>\n",
       "      <td>32.72</td>\n",
       "      <td>25.99</td>\n",
       "      <td>MACRON Emmanuel</td>\n",
       "      <td>5.0</td>\n",
       "      <td>31768.89</td>\n",
       "      <td>NaN</td>\n",
       "      <td>NaN</td>\n",
       "      <td>NaN</td>\n",
       "      <td>3848.0</td>\n",
       "    </tr>\n",
       "    <tr>\n",
       "      <th>27</th>\n",
       "      <td>78343</td>\n",
       "      <td>78.39</td>\n",
       "      <td>6.29</td>\n",
       "      <td>37659.0</td>\n",
       "      <td>620.88</td>\n",
       "      <td>0.63</td>\n",
       "      <td>21.62</td>\n",
       "      <td>30.88</td>\n",
       "      <td>26.07</td>\n",
       "      <td>FILLON FranÃ§ois</td>\n",
       "      <td>NaN</td>\n",
       "      <td>37659.33</td>\n",
       "      <td>NaN</td>\n",
       "      <td>NaN</td>\n",
       "      <td>NaN</td>\n",
       "      <td>4044.0</td>\n",
       "    </tr>\n",
       "    <tr>\n",
       "      <th>36</th>\n",
       "      <td>91679</td>\n",
       "      <td>74.40</td>\n",
       "      <td>7.32</td>\n",
       "      <td>31538.0</td>\n",
       "      <td>201.80</td>\n",
       "      <td>0.54</td>\n",
       "      <td>19.32</td>\n",
       "      <td>31.87</td>\n",
       "      <td>25.61</td>\n",
       "      <td>MACRON Emmanuel</td>\n",
       "      <td>NaN</td>\n",
       "      <td>31538.40</td>\n",
       "      <td>NaN</td>\n",
       "      <td>NaN</td>\n",
       "      <td>NaN</td>\n",
       "      <td>3673.0</td>\n",
       "    </tr>\n",
       "  </tbody>\n",
       "</table>\n",
       "</div>"
      ],
      "text/plain": [
       "    insee  TauxProprietaires  TauxChomage  NiveauVieMedian  densitehabkm2  \\\n",
       "0   78561              77.11         3.91          36311.0          66.26   \n",
       "9   91338              70.49         6.92          28123.0         459.76   \n",
       "18  91122              71.18         8.05          31769.0        2145.45   \n",
       "27  78343              78.39         6.29          37659.0         620.88   \n",
       "36  91679              74.40         7.32          31538.0         201.80   \n",
       "\n",
       "    dipl_su_tx    no2     o3   pm10    Tour1Candidat1   tp  medianendv  \\\n",
       "0         0.57  16.34  32.08  24.54  FILLON FranÃ§ois  NaN    36311.47   \n",
       "9         0.41  15.59  33.15  24.57   MACRON Emmanuel  5.0    28122.78   \n",
       "18        0.64  19.35  32.72  25.99   MACRON Emmanuel  5.0    31768.89   \n",
       "27        0.63  21.62  30.88  26.07  FILLON FranÃ§ois  NaN    37659.33   \n",
       "36        0.54  19.32  31.87  25.61   MACRON Emmanuel  NaN    31538.40   \n",
       "\n",
       "    nb_redevables  patrimoineeuro  impotmoyeneuro  prixm2  \n",
       "0             NaN             NaN             NaN  2113.0  \n",
       "9             NaN             NaN             NaN  2881.0  \n",
       "18            NaN             NaN             NaN  3848.0  \n",
       "27            NaN             NaN             NaN  4044.0  \n",
       "36            NaN             NaN             NaN  3673.0  "
      ]
     },
     "execution_count": 4,
     "metadata": {},
     "output_type": "execute_result"
    }
   ],
   "source": [
    "df.head()"
   ]
  },
  {
   "cell_type": "code",
   "execution_count": 5,
   "metadata": {},
   "outputs": [
    {
     "data": {
      "text/plain": [
       "array(['FILLON FranÃ§ois', 'MACRON Emmanuel', 'MÃ‰LENCHON Jean-Luc',\n",
       "       'LE PEN Marine'], dtype=object)"
      ]
     },
     "execution_count": 5,
     "metadata": {},
     "output_type": "execute_result"
    }
   ],
   "source": [
    "df.Tour1Candidat1.unique()"
   ]
  },
  {
   "cell_type": "code",
   "execution_count": 6,
   "metadata": {},
   "outputs": [],
   "source": [
    "df['candidat_last_name'] = df['Tour1Candidat1'].apply(lambda x: x.split(' ')[0])"
   ]
  },
  {
   "cell_type": "code",
   "execution_count": 7,
   "metadata": {},
   "outputs": [
    {
     "data": {
      "text/plain": [
       "array(['FILLON', 'MACRON', 'MÃ‰LENCHON', 'LE'], dtype=object)"
      ]
     },
     "execution_count": 7,
     "metadata": {},
     "output_type": "execute_result"
    }
   ],
   "source": [
    "df.candidat_last_name.unique()"
   ]
  },
  {
   "cell_type": "code",
   "execution_count": 8,
   "metadata": {},
   "outputs": [],
   "source": [
    "mapping  = {\"FILLON\":\"#3483eb\", \"MACRON\":\"#3d34eb\", \"MÃ‰LENCHON\":\"#a83232\", \"LE\":\"\t#000080\"}"
   ]
  },
  {
   "cell_type": "code",
   "execution_count": 9,
   "metadata": {},
   "outputs": [],
   "source": [
    "df['candidat_couleur'] = df['candidat_last_name'].apply(lambda x: mapping[x])"
   ]
  },
  {
   "cell_type": "code",
   "execution_count": 10,
   "metadata": {},
   "outputs": [],
   "source": [
    "mapping  = {'FILLON FranÃ§ois': 'François FILLON', 'MACRON Emmanuel':'Emmanuel MACRON', 'MÃ‰LENCHON Jean-Luc':'Jean-Luc MELENCHON','LE PEN Marine':'Marine LE PEN'}"
   ]
  },
  {
   "cell_type": "code",
   "execution_count": 11,
   "metadata": {},
   "outputs": [],
   "source": [
    "df['Tour1Candidat1'] = df['Tour1Candidat1'].apply(lambda x: mapping[x])"
   ]
  },
  {
   "cell_type": "code",
   "execution_count": 12,
   "metadata": {},
   "outputs": [
    {
     "data": {
      "text/html": [
       "<div>\n",
       "<style scoped>\n",
       "    .dataframe tbody tr th:only-of-type {\n",
       "        vertical-align: middle;\n",
       "    }\n",
       "\n",
       "    .dataframe tbody tr th {\n",
       "        vertical-align: top;\n",
       "    }\n",
       "\n",
       "    .dataframe thead th {\n",
       "        text-align: right;\n",
       "    }\n",
       "</style>\n",
       "<table border=\"1\" class=\"dataframe\">\n",
       "  <thead>\n",
       "    <tr style=\"text-align: right;\">\n",
       "      <th></th>\n",
       "      <th>insee</th>\n",
       "      <th>TauxProprietaires</th>\n",
       "      <th>TauxChomage</th>\n",
       "      <th>NiveauVieMedian</th>\n",
       "      <th>densitehabkm2</th>\n",
       "      <th>dipl_su_tx</th>\n",
       "      <th>no2</th>\n",
       "      <th>o3</th>\n",
       "      <th>pm10</th>\n",
       "      <th>Tour1Candidat1</th>\n",
       "      <th>tp</th>\n",
       "      <th>medianendv</th>\n",
       "      <th>nb_redevables</th>\n",
       "      <th>patrimoineeuro</th>\n",
       "      <th>impotmoyeneuro</th>\n",
       "      <th>prixm2</th>\n",
       "      <th>candidat_last_name</th>\n",
       "      <th>candidat_couleur</th>\n",
       "    </tr>\n",
       "  </thead>\n",
       "  <tbody>\n",
       "    <tr>\n",
       "      <th>0</th>\n",
       "      <td>78561</td>\n",
       "      <td>77.11</td>\n",
       "      <td>3.91</td>\n",
       "      <td>36311.0</td>\n",
       "      <td>66.26</td>\n",
       "      <td>0.57</td>\n",
       "      <td>16.34</td>\n",
       "      <td>32.08</td>\n",
       "      <td>24.54</td>\n",
       "      <td>François FILLON</td>\n",
       "      <td>NaN</td>\n",
       "      <td>36311.47</td>\n",
       "      <td>NaN</td>\n",
       "      <td>NaN</td>\n",
       "      <td>NaN</td>\n",
       "      <td>2113.0</td>\n",
       "      <td>FILLON</td>\n",
       "      <td>#3483eb</td>\n",
       "    </tr>\n",
       "    <tr>\n",
       "      <th>9</th>\n",
       "      <td>91338</td>\n",
       "      <td>70.49</td>\n",
       "      <td>6.92</td>\n",
       "      <td>28123.0</td>\n",
       "      <td>459.76</td>\n",
       "      <td>0.41</td>\n",
       "      <td>15.59</td>\n",
       "      <td>33.15</td>\n",
       "      <td>24.57</td>\n",
       "      <td>Emmanuel MACRON</td>\n",
       "      <td>5.0</td>\n",
       "      <td>28122.78</td>\n",
       "      <td>NaN</td>\n",
       "      <td>NaN</td>\n",
       "      <td>NaN</td>\n",
       "      <td>2881.0</td>\n",
       "      <td>MACRON</td>\n",
       "      <td>#3d34eb</td>\n",
       "    </tr>\n",
       "    <tr>\n",
       "      <th>18</th>\n",
       "      <td>91122</td>\n",
       "      <td>71.18</td>\n",
       "      <td>8.05</td>\n",
       "      <td>31769.0</td>\n",
       "      <td>2145.45</td>\n",
       "      <td>0.64</td>\n",
       "      <td>19.35</td>\n",
       "      <td>32.72</td>\n",
       "      <td>25.99</td>\n",
       "      <td>Emmanuel MACRON</td>\n",
       "      <td>5.0</td>\n",
       "      <td>31768.89</td>\n",
       "      <td>NaN</td>\n",
       "      <td>NaN</td>\n",
       "      <td>NaN</td>\n",
       "      <td>3848.0</td>\n",
       "      <td>MACRON</td>\n",
       "      <td>#3d34eb</td>\n",
       "    </tr>\n",
       "    <tr>\n",
       "      <th>27</th>\n",
       "      <td>78343</td>\n",
       "      <td>78.39</td>\n",
       "      <td>6.29</td>\n",
       "      <td>37659.0</td>\n",
       "      <td>620.88</td>\n",
       "      <td>0.63</td>\n",
       "      <td>21.62</td>\n",
       "      <td>30.88</td>\n",
       "      <td>26.07</td>\n",
       "      <td>François FILLON</td>\n",
       "      <td>NaN</td>\n",
       "      <td>37659.33</td>\n",
       "      <td>NaN</td>\n",
       "      <td>NaN</td>\n",
       "      <td>NaN</td>\n",
       "      <td>4044.0</td>\n",
       "      <td>FILLON</td>\n",
       "      <td>#3483eb</td>\n",
       "    </tr>\n",
       "    <tr>\n",
       "      <th>36</th>\n",
       "      <td>91679</td>\n",
       "      <td>74.40</td>\n",
       "      <td>7.32</td>\n",
       "      <td>31538.0</td>\n",
       "      <td>201.80</td>\n",
       "      <td>0.54</td>\n",
       "      <td>19.32</td>\n",
       "      <td>31.87</td>\n",
       "      <td>25.61</td>\n",
       "      <td>Emmanuel MACRON</td>\n",
       "      <td>NaN</td>\n",
       "      <td>31538.40</td>\n",
       "      <td>NaN</td>\n",
       "      <td>NaN</td>\n",
       "      <td>NaN</td>\n",
       "      <td>3673.0</td>\n",
       "      <td>MACRON</td>\n",
       "      <td>#3d34eb</td>\n",
       "    </tr>\n",
       "  </tbody>\n",
       "</table>\n",
       "</div>"
      ],
      "text/plain": [
       "    insee  TauxProprietaires  TauxChomage  NiveauVieMedian  densitehabkm2  \\\n",
       "0   78561              77.11         3.91          36311.0          66.26   \n",
       "9   91338              70.49         6.92          28123.0         459.76   \n",
       "18  91122              71.18         8.05          31769.0        2145.45   \n",
       "27  78343              78.39         6.29          37659.0         620.88   \n",
       "36  91679              74.40         7.32          31538.0         201.80   \n",
       "\n",
       "    dipl_su_tx    no2     o3   pm10   Tour1Candidat1   tp  medianendv  \\\n",
       "0         0.57  16.34  32.08  24.54  François FILLON  NaN    36311.47   \n",
       "9         0.41  15.59  33.15  24.57  Emmanuel MACRON  5.0    28122.78   \n",
       "18        0.64  19.35  32.72  25.99  Emmanuel MACRON  5.0    31768.89   \n",
       "27        0.63  21.62  30.88  26.07  François FILLON  NaN    37659.33   \n",
       "36        0.54  19.32  31.87  25.61  Emmanuel MACRON  NaN    31538.40   \n",
       "\n",
       "    nb_redevables  patrimoineeuro  impotmoyeneuro  prixm2 candidat_last_name  \\\n",
       "0             NaN             NaN             NaN  2113.0             FILLON   \n",
       "9             NaN             NaN             NaN  2881.0             MACRON   \n",
       "18            NaN             NaN             NaN  3848.0             MACRON   \n",
       "27            NaN             NaN             NaN  4044.0             FILLON   \n",
       "36            NaN             NaN             NaN  3673.0             MACRON   \n",
       "\n",
       "   candidat_couleur  \n",
       "0           #3483eb  \n",
       "9           #3d34eb  \n",
       "18          #3d34eb  \n",
       "27          #3483eb  \n",
       "36          #3d34eb  "
      ]
     },
     "execution_count": 12,
     "metadata": {},
     "output_type": "execute_result"
    }
   ],
   "source": [
    "df.head()"
   ]
  },
  {
   "cell_type": "code",
   "execution_count": null,
   "metadata": {},
   "outputs": [],
   "source": [
    "df.to_csv('variables_candidat_couleur.csv')"
   ]
  }
 ],
 "metadata": {
  "kernelspec": {
   "display_name": "Python 3",
   "language": "python",
   "name": "python3"
  },
  "language_info": {
   "codemirror_mode": {
    "name": "ipython",
    "version": 3
   },
   "file_extension": ".py",
   "mimetype": "text/x-python",
   "name": "python",
   "nbconvert_exporter": "python",
   "pygments_lexer": "ipython3",
   "version": "3.7.3"
  }
 },
 "nbformat": 4,
 "nbformat_minor": 4
}
