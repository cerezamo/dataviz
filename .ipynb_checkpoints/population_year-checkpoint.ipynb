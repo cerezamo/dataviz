{
 "cells": [
  {
   "cell_type": "code",
   "execution_count": 1,
   "metadata": {},
   "outputs": [],
   "source": [
    "import pandas as pd"
   ]
  },
  {
   "cell_type": "code",
   "execution_count": 5,
   "metadata": {},
   "outputs": [],
   "source": [
    "df = pd.read_csv(\"population_csv.csv\", index_col=0)"
   ]
  },
  {
   "cell_type": "code",
   "execution_count": 6,
   "metadata": {},
   "outputs": [
    {
     "data": {
      "text/html": [
       "<div>\n",
       "<style scoped>\n",
       "    .dataframe tbody tr th:only-of-type {\n",
       "        vertical-align: middle;\n",
       "    }\n",
       "\n",
       "    .dataframe tbody tr th {\n",
       "        vertical-align: top;\n",
       "    }\n",
       "\n",
       "    .dataframe thead th {\n",
       "        text-align: right;\n",
       "    }\n",
       "</style>\n",
       "<table border=\"1\" class=\"dataframe\">\n",
       "  <thead>\n",
       "    <tr style=\"text-align: right;\">\n",
       "      <th></th>\n",
       "      <th>insee</th>\n",
       "      <th>year</th>\n",
       "      <th>population</th>\n",
       "      <th>pct_ch</th>\n",
       "      <th>steps</th>\n",
       "    </tr>\n",
       "  </thead>\n",
       "  <tbody>\n",
       "    <tr>\n",
       "      <td>0</td>\n",
       "      <td>78561</td>\n",
       "      <td>1962</td>\n",
       "      <td>224.0</td>\n",
       "      <td>1.166667</td>\n",
       "      <td>1</td>\n",
       "    </tr>\n",
       "    <tr>\n",
       "      <td>1</td>\n",
       "      <td>78561</td>\n",
       "      <td>1968</td>\n",
       "      <td>198.0</td>\n",
       "      <td>0.883929</td>\n",
       "      <td>2</td>\n",
       "    </tr>\n",
       "    <tr>\n",
       "      <td>2</td>\n",
       "      <td>78561</td>\n",
       "      <td>1975</td>\n",
       "      <td>371.0</td>\n",
       "      <td>1.873737</td>\n",
       "      <td>3</td>\n",
       "    </tr>\n",
       "    <tr>\n",
       "      <td>3</td>\n",
       "      <td>78561</td>\n",
       "      <td>1982</td>\n",
       "      <td>376.0</td>\n",
       "      <td>1.013477</td>\n",
       "      <td>4</td>\n",
       "    </tr>\n",
       "    <tr>\n",
       "      <td>4</td>\n",
       "      <td>78561</td>\n",
       "      <td>1990</td>\n",
       "      <td>382.0</td>\n",
       "      <td>1.015957</td>\n",
       "      <td>5</td>\n",
       "    </tr>\n",
       "  </tbody>\n",
       "</table>\n",
       "</div>"
      ],
      "text/plain": [
       "   insee  year  population    pct_ch  steps\n",
       "0  78561  1962       224.0  1.166667      1\n",
       "1  78561  1968       198.0  0.883929      2\n",
       "2  78561  1975       371.0  1.873737      3\n",
       "3  78561  1982       376.0  1.013477      4\n",
       "4  78561  1990       382.0  1.015957      5"
      ]
     },
     "execution_count": 6,
     "metadata": {},
     "output_type": "execute_result"
    }
   ],
   "source": [
    "df.head()"
   ]
  },
  {
   "cell_type": "code",
   "execution_count": 7,
   "metadata": {},
   "outputs": [
    {
     "data": {
      "text/html": [
       "<div>\n",
       "<style scoped>\n",
       "    .dataframe tbody tr th:only-of-type {\n",
       "        vertical-align: middle;\n",
       "    }\n",
       "\n",
       "    .dataframe tbody tr th {\n",
       "        vertical-align: top;\n",
       "    }\n",
       "\n",
       "    .dataframe thead th {\n",
       "        text-align: right;\n",
       "    }\n",
       "</style>\n",
       "<table border=\"1\" class=\"dataframe\">\n",
       "  <thead>\n",
       "    <tr style=\"text-align: right;\">\n",
       "      <th></th>\n",
       "      <th>0</th>\n",
       "      <th>1</th>\n",
       "      <th>2</th>\n",
       "      <th>3</th>\n",
       "      <th>4</th>\n",
       "      <th>5</th>\n",
       "      <th>6</th>\n",
       "      <th>7</th>\n",
       "      <th>8</th>\n",
       "      <th>9</th>\n",
       "      <th>...</th>\n",
       "      <th>2114</th>\n",
       "      <th>2115</th>\n",
       "      <th>2116</th>\n",
       "      <th>2117</th>\n",
       "      <th>2118</th>\n",
       "      <th>2119</th>\n",
       "      <th>2120</th>\n",
       "      <th>2121</th>\n",
       "      <th>2122</th>\n",
       "      <th>2123</th>\n",
       "    </tr>\n",
       "  </thead>\n",
       "  <tbody>\n",
       "    <tr>\n",
       "      <td>insee</td>\n",
       "      <td>78561.000000</td>\n",
       "      <td>78561.000000</td>\n",
       "      <td>78561.000000</td>\n",
       "      <td>78561.000000</td>\n",
       "      <td>78561.000000</td>\n",
       "      <td>78561.000000</td>\n",
       "      <td>78561.000000</td>\n",
       "      <td>78561.000000</td>\n",
       "      <td>78561.000000</td>\n",
       "      <td>91338.000000</td>\n",
       "      <td>...</td>\n",
       "      <td>77241.000000</td>\n",
       "      <td>77525.000000</td>\n",
       "      <td>77525.000000</td>\n",
       "      <td>77525.000000</td>\n",
       "      <td>77525.000000</td>\n",
       "      <td>77525.000000</td>\n",
       "      <td>77525.000000</td>\n",
       "      <td>77525.000000</td>\n",
       "      <td>77525.000000</td>\n",
       "      <td>77525.000000</td>\n",
       "    </tr>\n",
       "    <tr>\n",
       "      <td>year</td>\n",
       "      <td>1962.000000</td>\n",
       "      <td>1968.000000</td>\n",
       "      <td>1975.000000</td>\n",
       "      <td>1982.000000</td>\n",
       "      <td>1990.000000</td>\n",
       "      <td>1999.000000</td>\n",
       "      <td>2006.000000</td>\n",
       "      <td>2012.000000</td>\n",
       "      <td>2017.000000</td>\n",
       "      <td>1962.000000</td>\n",
       "      <td>...</td>\n",
       "      <td>2017.000000</td>\n",
       "      <td>1962.000000</td>\n",
       "      <td>1968.000000</td>\n",
       "      <td>1975.000000</td>\n",
       "      <td>1982.000000</td>\n",
       "      <td>1990.000000</td>\n",
       "      <td>1999.000000</td>\n",
       "      <td>2006.000000</td>\n",
       "      <td>2012.000000</td>\n",
       "      <td>2017.000000</td>\n",
       "    </tr>\n",
       "    <tr>\n",
       "      <td>population</td>\n",
       "      <td>224.000000</td>\n",
       "      <td>198.000000</td>\n",
       "      <td>371.000000</td>\n",
       "      <td>376.000000</td>\n",
       "      <td>382.000000</td>\n",
       "      <td>379.000000</td>\n",
       "      <td>375.000000</td>\n",
       "      <td>440.000000</td>\n",
       "      <td>452.000000</td>\n",
       "      <td>1965.000000</td>\n",
       "      <td>...</td>\n",
       "      <td>1963.000000</td>\n",
       "      <td>181.000000</td>\n",
       "      <td>201.000000</td>\n",
       "      <td>179.000000</td>\n",
       "      <td>194.000000</td>\n",
       "      <td>247.000000</td>\n",
       "      <td>287.000000</td>\n",
       "      <td>328.000000</td>\n",
       "      <td>363.000000</td>\n",
       "      <td>379.000000</td>\n",
       "    </tr>\n",
       "    <tr>\n",
       "      <td>pct_ch</td>\n",
       "      <td>1.166667</td>\n",
       "      <td>0.883929</td>\n",
       "      <td>1.873737</td>\n",
       "      <td>1.013477</td>\n",
       "      <td>1.015957</td>\n",
       "      <td>0.992147</td>\n",
       "      <td>0.989446</td>\n",
       "      <td>1.173333</td>\n",
       "      <td>1.027273</td>\n",
       "      <td>1.161348</td>\n",
       "      <td>...</td>\n",
       "      <td>0.890249</td>\n",
       "      <td>0.815315</td>\n",
       "      <td>1.110497</td>\n",
       "      <td>0.890547</td>\n",
       "      <td>1.083799</td>\n",
       "      <td>1.273196</td>\n",
       "      <td>1.161943</td>\n",
       "      <td>1.142857</td>\n",
       "      <td>1.106707</td>\n",
       "      <td>1.044077</td>\n",
       "    </tr>\n",
       "    <tr>\n",
       "      <td>steps</td>\n",
       "      <td>1.000000</td>\n",
       "      <td>2.000000</td>\n",
       "      <td>3.000000</td>\n",
       "      <td>4.000000</td>\n",
       "      <td>5.000000</td>\n",
       "      <td>6.000000</td>\n",
       "      <td>7.000000</td>\n",
       "      <td>8.000000</td>\n",
       "      <td>9.000000</td>\n",
       "      <td>1.000000</td>\n",
       "      <td>...</td>\n",
       "      <td>9.000000</td>\n",
       "      <td>1.000000</td>\n",
       "      <td>2.000000</td>\n",
       "      <td>3.000000</td>\n",
       "      <td>4.000000</td>\n",
       "      <td>5.000000</td>\n",
       "      <td>6.000000</td>\n",
       "      <td>7.000000</td>\n",
       "      <td>8.000000</td>\n",
       "      <td>9.000000</td>\n",
       "    </tr>\n",
       "  </tbody>\n",
       "</table>\n",
       "<p>5 rows × 2124 columns</p>\n",
       "</div>"
      ],
      "text/plain": [
       "                    0             1             2             3     \\\n",
       "insee       78561.000000  78561.000000  78561.000000  78561.000000   \n",
       "year         1962.000000   1968.000000   1975.000000   1982.000000   \n",
       "population    224.000000    198.000000    371.000000    376.000000   \n",
       "pct_ch          1.166667      0.883929      1.873737      1.013477   \n",
       "steps           1.000000      2.000000      3.000000      4.000000   \n",
       "\n",
       "                    4             5             6             7     \\\n",
       "insee       78561.000000  78561.000000  78561.000000  78561.000000   \n",
       "year         1990.000000   1999.000000   2006.000000   2012.000000   \n",
       "population    382.000000    379.000000    375.000000    440.000000   \n",
       "pct_ch          1.015957      0.992147      0.989446      1.173333   \n",
       "steps           5.000000      6.000000      7.000000      8.000000   \n",
       "\n",
       "                    8             9     ...          2114          2115  \\\n",
       "insee       78561.000000  91338.000000  ...  77241.000000  77525.000000   \n",
       "year         2017.000000   1962.000000  ...   2017.000000   1962.000000   \n",
       "population    452.000000   1965.000000  ...   1963.000000    181.000000   \n",
       "pct_ch          1.027273      1.161348  ...      0.890249      0.815315   \n",
       "steps           9.000000      1.000000  ...      9.000000      1.000000   \n",
       "\n",
       "                    2116          2117          2118          2119  \\\n",
       "insee       77525.000000  77525.000000  77525.000000  77525.000000   \n",
       "year         1968.000000   1975.000000   1982.000000   1990.000000   \n",
       "population    201.000000    179.000000    194.000000    247.000000   \n",
       "pct_ch          1.110497      0.890547      1.083799      1.273196   \n",
       "steps           2.000000      3.000000      4.000000      5.000000   \n",
       "\n",
       "                    2120          2121          2122          2123  \n",
       "insee       77525.000000  77525.000000  77525.000000  77525.000000  \n",
       "year         1999.000000   2006.000000   2012.000000   2017.000000  \n",
       "population    287.000000    328.000000    363.000000    379.000000  \n",
       "pct_ch          1.161943      1.142857      1.106707      1.044077  \n",
       "steps           6.000000      7.000000      8.000000      9.000000  \n",
       "\n",
       "[5 rows x 2124 columns]"
      ]
     },
     "execution_count": 7,
     "metadata": {},
     "output_type": "execute_result"
    }
   ],
   "source": [
    "df.transpose()"
   ]
  },
  {
   "cell_type": "code",
   "execution_count": 24,
   "metadata": {},
   "outputs": [],
   "source": [
    "years = list(df.year.unique())"
   ]
  },
  {
   "cell_type": "code",
   "execution_count": 25,
   "metadata": {},
   "outputs": [],
   "source": [
    "new_df = pd.DataFrame(columns = [years + [\"insee\"]])"
   ]
  },
  {
   "cell_type": "code",
   "execution_count": 26,
   "metadata": {},
   "outputs": [
    {
     "data": {
      "text/html": [
       "<div>\n",
       "<style scoped>\n",
       "    .dataframe tbody tr th:only-of-type {\n",
       "        vertical-align: middle;\n",
       "    }\n",
       "\n",
       "    .dataframe tbody tr th {\n",
       "        vertical-align: top;\n",
       "    }\n",
       "\n",
       "    .dataframe thead tr th {\n",
       "        text-align: left;\n",
       "    }\n",
       "</style>\n",
       "<table border=\"1\" class=\"dataframe\">\n",
       "  <thead>\n",
       "    <tr>\n",
       "      <th></th>\n",
       "      <th>1962</th>\n",
       "      <th>1968</th>\n",
       "      <th>1975</th>\n",
       "      <th>1982</th>\n",
       "      <th>1990</th>\n",
       "      <th>1999</th>\n",
       "      <th>2006</th>\n",
       "      <th>2012</th>\n",
       "      <th>2017</th>\n",
       "      <th>insee</th>\n",
       "    </tr>\n",
       "  </thead>\n",
       "  <tbody>\n",
       "  </tbody>\n",
       "</table>\n",
       "</div>"
      ],
      "text/plain": [
       "Empty DataFrame\n",
       "Columns: [(1962,), (1968,), (1975,), (1982,), (1990,), (1999,), (2006,), (2012,), (2017,), (insee,)]\n",
       "Index: []"
      ]
     },
     "execution_count": 26,
     "metadata": {},
     "output_type": "execute_result"
    }
   ],
   "source": [
    "new_df.head()"
   ]
  },
  {
   "cell_type": "code",
   "execution_count": 17,
   "metadata": {},
   "outputs": [],
   "source": [
    "import numpy as np"
   ]
  },
  {
   "cell_type": "code",
   "execution_count": 20,
   "metadata": {},
   "outputs": [
    {
     "data": {
      "text/plain": [
       "2124"
      ]
     },
     "execution_count": 20,
     "metadata": {},
     "output_type": "execute_result"
    }
   ],
   "source": [
    "len(df.insee)"
   ]
  },
  {
   "cell_type": "code",
   "execution_count": 22,
   "metadata": {},
   "outputs": [
    {
     "data": {
      "text/plain": [
       "2124"
      ]
     },
     "execution_count": 22,
     "metadata": {},
     "output_type": "execute_result"
    }
   ],
   "source": [
    "len(df.year)"
   ]
  },
  {
   "cell_type": "code",
   "execution_count": 27,
   "metadata": {},
   "outputs": [
    {
     "data": {
      "text/plain": [
       "array([[0., 0., 0., ..., 0., 0., 0.],\n",
       "       [0., 0., 0., ..., 0., 0., 0.],\n",
       "       [0., 0., 0., ..., 0., 0., 0.],\n",
       "       ...,\n",
       "       [0., 0., 0., ..., 0., 0., 0.],\n",
       "       [0., 0., 0., ..., 0., 0., 0.],\n",
       "       [0., 0., 0., ..., 0., 0., 0.]])"
      ]
     },
     "execution_count": 27,
     "metadata": {},
     "output_type": "execute_result"
    }
   ],
   "source": [
    "np.zeros((2124,9))"
   ]
  },
  {
   "cell_type": "code",
   "execution_count": 47,
   "metadata": {},
   "outputs": [],
   "source": [
    "new_df = pd.DataFrame(data=np.zeros((2124,10)),columns = [years + [\"insee\"]])"
   ]
  },
  {
   "cell_type": "code",
   "execution_count": 48,
   "metadata": {},
   "outputs": [
    {
     "data": {
      "text/html": [
       "<div>\n",
       "<style scoped>\n",
       "    .dataframe tbody tr th:only-of-type {\n",
       "        vertical-align: middle;\n",
       "    }\n",
       "\n",
       "    .dataframe tbody tr th {\n",
       "        vertical-align: top;\n",
       "    }\n",
       "\n",
       "    .dataframe thead tr th {\n",
       "        text-align: left;\n",
       "    }\n",
       "</style>\n",
       "<table border=\"1\" class=\"dataframe\">\n",
       "  <thead>\n",
       "    <tr>\n",
       "      <th></th>\n",
       "      <th>1962</th>\n",
       "      <th>1968</th>\n",
       "      <th>1975</th>\n",
       "      <th>1982</th>\n",
       "      <th>1990</th>\n",
       "      <th>1999</th>\n",
       "      <th>2006</th>\n",
       "      <th>2012</th>\n",
       "      <th>2017</th>\n",
       "      <th>insee</th>\n",
       "    </tr>\n",
       "  </thead>\n",
       "  <tbody>\n",
       "    <tr>\n",
       "      <td>0</td>\n",
       "      <td>0.0</td>\n",
       "      <td>0.0</td>\n",
       "      <td>0.0</td>\n",
       "      <td>0.0</td>\n",
       "      <td>0.0</td>\n",
       "      <td>0.0</td>\n",
       "      <td>0.0</td>\n",
       "      <td>0.0</td>\n",
       "      <td>0.0</td>\n",
       "      <td>0.0</td>\n",
       "    </tr>\n",
       "    <tr>\n",
       "      <td>1</td>\n",
       "      <td>0.0</td>\n",
       "      <td>0.0</td>\n",
       "      <td>0.0</td>\n",
       "      <td>0.0</td>\n",
       "      <td>0.0</td>\n",
       "      <td>0.0</td>\n",
       "      <td>0.0</td>\n",
       "      <td>0.0</td>\n",
       "      <td>0.0</td>\n",
       "      <td>0.0</td>\n",
       "    </tr>\n",
       "    <tr>\n",
       "      <td>2</td>\n",
       "      <td>0.0</td>\n",
       "      <td>0.0</td>\n",
       "      <td>0.0</td>\n",
       "      <td>0.0</td>\n",
       "      <td>0.0</td>\n",
       "      <td>0.0</td>\n",
       "      <td>0.0</td>\n",
       "      <td>0.0</td>\n",
       "      <td>0.0</td>\n",
       "      <td>0.0</td>\n",
       "    </tr>\n",
       "    <tr>\n",
       "      <td>3</td>\n",
       "      <td>0.0</td>\n",
       "      <td>0.0</td>\n",
       "      <td>0.0</td>\n",
       "      <td>0.0</td>\n",
       "      <td>0.0</td>\n",
       "      <td>0.0</td>\n",
       "      <td>0.0</td>\n",
       "      <td>0.0</td>\n",
       "      <td>0.0</td>\n",
       "      <td>0.0</td>\n",
       "    </tr>\n",
       "    <tr>\n",
       "      <td>4</td>\n",
       "      <td>0.0</td>\n",
       "      <td>0.0</td>\n",
       "      <td>0.0</td>\n",
       "      <td>0.0</td>\n",
       "      <td>0.0</td>\n",
       "      <td>0.0</td>\n",
       "      <td>0.0</td>\n",
       "      <td>0.0</td>\n",
       "      <td>0.0</td>\n",
       "      <td>0.0</td>\n",
       "    </tr>\n",
       "  </tbody>\n",
       "</table>\n",
       "</div>"
      ],
      "text/plain": [
       "  1962 1968 1975 1982 1990 1999 2006 2012 2017 insee\n",
       "0  0.0  0.0  0.0  0.0  0.0  0.0  0.0  0.0  0.0   0.0\n",
       "1  0.0  0.0  0.0  0.0  0.0  0.0  0.0  0.0  0.0   0.0\n",
       "2  0.0  0.0  0.0  0.0  0.0  0.0  0.0  0.0  0.0   0.0\n",
       "3  0.0  0.0  0.0  0.0  0.0  0.0  0.0  0.0  0.0   0.0\n",
       "4  0.0  0.0  0.0  0.0  0.0  0.0  0.0  0.0  0.0   0.0"
      ]
     },
     "execution_count": 48,
     "metadata": {},
     "output_type": "execute_result"
    }
   ],
   "source": [
    "new_df.head()"
   ]
  },
  {
   "cell_type": "code",
   "execution_count": 41,
   "metadata": {},
   "outputs": [],
   "source": [
    "new_df[\"insee\"] = df.insee.values"
   ]
  },
  {
   "cell_type": "code",
   "execution_count": 42,
   "metadata": {},
   "outputs": [
    {
     "data": {
      "text/html": [
       "<div>\n",
       "<style scoped>\n",
       "    .dataframe tbody tr th:only-of-type {\n",
       "        vertical-align: middle;\n",
       "    }\n",
       "\n",
       "    .dataframe tbody tr th {\n",
       "        vertical-align: top;\n",
       "    }\n",
       "\n",
       "    .dataframe thead th {\n",
       "        text-align: right;\n",
       "    }\n",
       "</style>\n",
       "<table border=\"1\" class=\"dataframe\">\n",
       "  <thead>\n",
       "    <tr style=\"text-align: right;\">\n",
       "      <th></th>\n",
       "      <th>insee</th>\n",
       "    </tr>\n",
       "  </thead>\n",
       "  <tbody>\n",
       "    <tr>\n",
       "      <td>0</td>\n",
       "      <td>78561</td>\n",
       "    </tr>\n",
       "    <tr>\n",
       "      <td>1</td>\n",
       "      <td>78561</td>\n",
       "    </tr>\n",
       "    <tr>\n",
       "      <td>2</td>\n",
       "      <td>78561</td>\n",
       "    </tr>\n",
       "    <tr>\n",
       "      <td>3</td>\n",
       "      <td>78561</td>\n",
       "    </tr>\n",
       "    <tr>\n",
       "      <td>4</td>\n",
       "      <td>78561</td>\n",
       "    </tr>\n",
       "  </tbody>\n",
       "</table>\n",
       "</div>"
      ],
      "text/plain": [
       "   insee\n",
       "0  78561\n",
       "1  78561\n",
       "2  78561\n",
       "3  78561\n",
       "4  78561"
      ]
     },
     "execution_count": 42,
     "metadata": {},
     "output_type": "execute_result"
    }
   ],
   "source": [
    "new_df.head()"
   ]
  },
  {
   "cell_type": "code",
   "execution_count": 46,
   "metadata": {},
   "outputs": [
    {
     "data": {
      "text/html": [
       "<div>\n",
       "<style scoped>\n",
       "    .dataframe tbody tr th:only-of-type {\n",
       "        vertical-align: middle;\n",
       "    }\n",
       "\n",
       "    .dataframe tbody tr th {\n",
       "        vertical-align: top;\n",
       "    }\n",
       "\n",
       "    .dataframe thead th {\n",
       "        text-align: right;\n",
       "    }\n",
       "</style>\n",
       "<table border=\"1\" class=\"dataframe\">\n",
       "  <thead>\n",
       "    <tr style=\"text-align: right;\">\n",
       "      <th></th>\n",
       "      <th>insee</th>\n",
       "      <th>year</th>\n",
       "      <th>population</th>\n",
       "      <th>pct_ch</th>\n",
       "      <th>steps</th>\n",
       "    </tr>\n",
       "  </thead>\n",
       "  <tbody>\n",
       "    <tr>\n",
       "      <td>6</td>\n",
       "      <td>78561</td>\n",
       "      <td>2006</td>\n",
       "      <td>375.0</td>\n",
       "      <td>0.989446</td>\n",
       "      <td>7</td>\n",
       "    </tr>\n",
       "    <tr>\n",
       "      <td>15</td>\n",
       "      <td>91338</td>\n",
       "      <td>2006</td>\n",
       "      <td>6283.0</td>\n",
       "      <td>0.970947</td>\n",
       "      <td>7</td>\n",
       "    </tr>\n",
       "    <tr>\n",
       "      <td>24</td>\n",
       "      <td>91122</td>\n",
       "      <td>2006</td>\n",
       "      <td>9713.0</td>\n",
       "      <td>1.003720</td>\n",
       "      <td>7</td>\n",
       "    </tr>\n",
       "    <tr>\n",
       "      <td>33</td>\n",
       "      <td>78343</td>\n",
       "      <td>2006</td>\n",
       "      <td>1453.0</td>\n",
       "      <td>1.003453</td>\n",
       "      <td>7</td>\n",
       "    </tr>\n",
       "    <tr>\n",
       "      <td>42</td>\n",
       "      <td>91679</td>\n",
       "      <td>2006</td>\n",
       "      <td>1156.0</td>\n",
       "      <td>1.058608</td>\n",
       "      <td>7</td>\n",
       "    </tr>\n",
       "    <tr>\n",
       "      <td>...</td>\n",
       "      <td>...</td>\n",
       "      <td>...</td>\n",
       "      <td>...</td>\n",
       "      <td>...</td>\n",
       "      <td>...</td>\n",
       "    </tr>\n",
       "    <tr>\n",
       "      <td>2085</td>\n",
       "      <td>77062</td>\n",
       "      <td>2006</td>\n",
       "      <td>427.0</td>\n",
       "      <td>0.981609</td>\n",
       "      <td>7</td>\n",
       "    </tr>\n",
       "    <tr>\n",
       "      <td>2094</td>\n",
       "      <td>77332</td>\n",
       "      <td>2006</td>\n",
       "      <td>267.0</td>\n",
       "      <td>1.007547</td>\n",
       "      <td>7</td>\n",
       "    </tr>\n",
       "    <tr>\n",
       "      <td>2103</td>\n",
       "      <td>77292</td>\n",
       "      <td>2006</td>\n",
       "      <td>1058.0</td>\n",
       "      <td>1.255042</td>\n",
       "      <td>7</td>\n",
       "    </tr>\n",
       "    <tr>\n",
       "      <td>2112</td>\n",
       "      <td>77241</td>\n",
       "      <td>2006</td>\n",
       "      <td>1699.0</td>\n",
       "      <td>1.174153</td>\n",
       "      <td>7</td>\n",
       "    </tr>\n",
       "    <tr>\n",
       "      <td>2121</td>\n",
       "      <td>77525</td>\n",
       "      <td>2006</td>\n",
       "      <td>328.0</td>\n",
       "      <td>1.142857</td>\n",
       "      <td>7</td>\n",
       "    </tr>\n",
       "  </tbody>\n",
       "</table>\n",
       "<p>236 rows × 5 columns</p>\n",
       "</div>"
      ],
      "text/plain": [
       "      insee  year  population    pct_ch  steps\n",
       "6     78561  2006       375.0  0.989446      7\n",
       "15    91338  2006      6283.0  0.970947      7\n",
       "24    91122  2006      9713.0  1.003720      7\n",
       "33    78343  2006      1453.0  1.003453      7\n",
       "42    91679  2006      1156.0  1.058608      7\n",
       "...     ...   ...         ...       ...    ...\n",
       "2085  77062  2006       427.0  0.981609      7\n",
       "2094  77332  2006       267.0  1.007547      7\n",
       "2103  77292  2006      1058.0  1.255042      7\n",
       "2112  77241  2006      1699.0  1.174153      7\n",
       "2121  77525  2006       328.0  1.142857      7\n",
       "\n",
       "[236 rows x 5 columns]"
      ]
     },
     "execution_count": 46,
     "metadata": {},
     "output_type": "execute_result"
    }
   ],
   "source": [
    "df[df.year==2006]"
   ]
  },
  {
   "cell_type": "code",
   "execution_count": 51,
   "metadata": {},
   "outputs": [
    {
     "name": "stdout",
     "output_type": "stream",
     "text": [
      "<class 'pandas.core.frame.DataFrame'>\n",
      "Int64Index: 2124 entries, 0 to 2123\n",
      "Data columns (total 5 columns):\n",
      "insee         2124 non-null int64\n",
      "year          2124 non-null int64\n",
      "population    2124 non-null float64\n",
      "pct_ch        2124 non-null float64\n",
      "steps         2124 non-null int64\n",
      "dtypes: float64(2), int64(3)\n",
      "memory usage: 179.6 KB\n"
     ]
    }
   ],
   "source": [
    "df.info()"
   ]
  },
  {
   "cell_type": "code",
   "execution_count": 49,
   "metadata": {},
   "outputs": [
    {
     "data": {
      "text/html": [
       "<div>\n",
       "<style scoped>\n",
       "    .dataframe tbody tr th:only-of-type {\n",
       "        vertical-align: middle;\n",
       "    }\n",
       "\n",
       "    .dataframe tbody tr th {\n",
       "        vertical-align: top;\n",
       "    }\n",
       "\n",
       "    .dataframe thead tr th {\n",
       "        text-align: left;\n",
       "    }\n",
       "</style>\n",
       "<table border=\"1\" class=\"dataframe\">\n",
       "  <thead>\n",
       "    <tr>\n",
       "      <th></th>\n",
       "      <th>1962</th>\n",
       "      <th>1968</th>\n",
       "      <th>1975</th>\n",
       "      <th>1982</th>\n",
       "      <th>1990</th>\n",
       "      <th>1999</th>\n",
       "      <th>2006</th>\n",
       "      <th>2012</th>\n",
       "      <th>2017</th>\n",
       "      <th>insee</th>\n",
       "    </tr>\n",
       "  </thead>\n",
       "  <tbody>\n",
       "    <tr>\n",
       "      <td>0</td>\n",
       "      <td>0.0</td>\n",
       "      <td>0.0</td>\n",
       "      <td>0.0</td>\n",
       "      <td>0.0</td>\n",
       "      <td>0.0</td>\n",
       "      <td>0.0</td>\n",
       "      <td>0.0</td>\n",
       "      <td>0.0</td>\n",
       "      <td>0.0</td>\n",
       "      <td>0.0</td>\n",
       "    </tr>\n",
       "  </tbody>\n",
       "</table>\n",
       "</div>"
      ],
      "text/plain": [
       "  1962 1968 1975 1982 1990 1999 2006 2012 2017 insee\n",
       "0  0.0  0.0  0.0  0.0  0.0  0.0  0.0  0.0  0.0   0.0"
      ]
     },
     "execution_count": 49,
     "metadata": {},
     "output_type": "execute_result"
    }
   ],
   "source": [
    "new_df.head(1)"
   ]
  },
  {
   "cell_type": "code",
   "execution_count": null,
   "metadata": {},
   "outputs": [],
   "source": [
    "for y in df.insee:\n",
    "    new_df.append([])"
   ]
  },
  {
   "cell_type": "code",
   "execution_count": 53,
   "metadata": {},
   "outputs": [
    {
     "data": {
      "text/plain": [
       "1962"
      ]
     },
     "execution_count": 53,
     "metadata": {},
     "output_type": "execute_result"
    }
   ],
   "source": [
    "df.year.min()"
   ]
  },
  {
   "cell_type": "code",
   "execution_count": 54,
   "metadata": {},
   "outputs": [
    {
     "data": {
      "text/plain": [
       "2017"
      ]
     },
     "execution_count": 54,
     "metadata": {},
     "output_type": "execute_result"
    }
   ],
   "source": [
    "df.year.max()"
   ]
  },
  {
   "cell_type": "code",
   "execution_count": null,
   "metadata": {},
   "outputs": [],
   "source": []
  }
 ],
 "metadata": {
  "kernelspec": {
   "display_name": "Python 3",
   "language": "python",
   "name": "python3"
  },
  "language_info": {
   "codemirror_mode": {
    "name": "ipython",
    "version": 3
   },
   "file_extension": ".py",
   "mimetype": "text/x-python",
   "name": "python",
   "nbconvert_exporter": "python",
   "pygments_lexer": "ipython3",
   "version": "3.7.6"
  }
 },
 "nbformat": 4,
 "nbformat_minor": 2
}
