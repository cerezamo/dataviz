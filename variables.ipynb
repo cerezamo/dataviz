{
 "cells": [
  {
   "cell_type": "markdown",
   "metadata": {},
   "source": [
    "# Creation de la base finale pour JS "
   ]
  },
  {
   "cell_type": "markdown",
   "metadata": {},
   "source": [
    "Votes et abstention"
   ]
  },
  {
   "cell_type": "code",
   "execution_count": 2,
   "metadata": {},
   "outputs": [],
   "source": [
    "import pandas as pd\n",
    "import geopandas as gpd\n",
    "import os \n",
    "import matplotlib.pyplot as plt"
   ]
  },
  {
   "cell_type": "code",
   "execution_count": 4,
   "metadata": {},
   "outputs": [],
   "source": [
    "dir=os.getcwd()"
   ]
  },
  {
   "cell_type": "markdown",
   "metadata": {},
   "source": [
    "Densite de population"
   ]
  },
  {
   "cell_type": "code",
   "execution_count": 3,
   "metadata": {},
   "outputs": [
    {
     "ename": "FileNotFoundError",
     "evalue": "[Errno 2] File /home/steve/Documents/ENSAE/Data_StoryTelling/dataviz\\brut\\metropole-densites-de-population-par-commune.csv does not exist: '/home/steve/Documents/ENSAE/Data_StoryTelling/dataviz\\\\brut\\\\metropole-densites-de-population-par-commune.csv'",
     "output_type": "error",
     "traceback": [
      "\u001b[0;31m---------------------------------------------------------------------------\u001b[0m",
      "\u001b[0;31mFileNotFoundError\u001b[0m                         Traceback (most recent call last)",
      "\u001b[0;32m<ipython-input-3-68c8d7e14d48>\u001b[0m in \u001b[0;36m<module>\u001b[0;34m\u001b[0m\n\u001b[0;32m----> 1\u001b[0;31m \u001b[0mdens\u001b[0m\u001b[0;34m=\u001b[0m\u001b[0mpd\u001b[0m\u001b[0;34m.\u001b[0m\u001b[0mread_csv\u001b[0m\u001b[0;34m(\u001b[0m\u001b[0mdir\u001b[0m\u001b[0;34m+\u001b[0m\u001b[0;34m'\\\\brut\\\\metropole-densites-de-population-par-commune.csv'\u001b[0m\u001b[0;34m,\u001b[0m\u001b[0msep\u001b[0m\u001b[0;34m=\u001b[0m\u001b[0;34m';'\u001b[0m\u001b[0;34m)\u001b[0m\u001b[0;34m\u001b[0m\u001b[0;34m\u001b[0m\u001b[0m\n\u001b[0m\u001b[1;32m      2\u001b[0m \u001b[0mdens\u001b[0m\u001b[0;34m=\u001b[0m\u001b[0mdens\u001b[0m\u001b[0;34m.\u001b[0m\u001b[0mrename\u001b[0m\u001b[0;34m(\u001b[0m\u001b[0mcolumns\u001b[0m\u001b[0;34m=\u001b[0m\u001b[0;34m{\u001b[0m\u001b[0;34m'Code INSEE'\u001b[0m\u001b[0;34m:\u001b[0m\u001b[0;34m'insee'\u001b[0m\u001b[0;34m,\u001b[0m\u001b[0;34m\"Densité d'habitants (hab/km2)\"\u001b[0m \u001b[0;34m:\u001b[0m \u001b[0;34m'densitehabkm2'\u001b[0m\u001b[0;34m}\u001b[0m\u001b[0;34m)\u001b[0m\u001b[0;34m\u001b[0m\u001b[0;34m\u001b[0m\u001b[0m\n\u001b[1;32m      3\u001b[0m \u001b[0mdens\u001b[0m\u001b[0;34m=\u001b[0m\u001b[0mdens\u001b[0m\u001b[0;34m[\u001b[0m\u001b[0;34m[\u001b[0m\u001b[0;34m'insee'\u001b[0m\u001b[0;34m,\u001b[0m\u001b[0;34m'densitehabkm2'\u001b[0m\u001b[0;34m]\u001b[0m\u001b[0;34m]\u001b[0m\u001b[0;34m\u001b[0m\u001b[0;34m\u001b[0m\u001b[0m\n",
      "\u001b[0;32m~/anaconda3/envs/storyTelling/lib/python3.8/site-packages/pandas/io/parsers.py\u001b[0m in \u001b[0;36mparser_f\u001b[0;34m(filepath_or_buffer, sep, delimiter, header, names, index_col, usecols, squeeze, prefix, mangle_dupe_cols, dtype, engine, converters, true_values, false_values, skipinitialspace, skiprows, skipfooter, nrows, na_values, keep_default_na, na_filter, verbose, skip_blank_lines, parse_dates, infer_datetime_format, keep_date_col, date_parser, dayfirst, cache_dates, iterator, chunksize, compression, thousands, decimal, lineterminator, quotechar, quoting, doublequote, escapechar, comment, encoding, dialect, error_bad_lines, warn_bad_lines, delim_whitespace, low_memory, memory_map, float_precision)\u001b[0m\n\u001b[1;32m    674\u001b[0m         )\n\u001b[1;32m    675\u001b[0m \u001b[0;34m\u001b[0m\u001b[0m\n\u001b[0;32m--> 676\u001b[0;31m         \u001b[0;32mreturn\u001b[0m \u001b[0m_read\u001b[0m\u001b[0;34m(\u001b[0m\u001b[0mfilepath_or_buffer\u001b[0m\u001b[0;34m,\u001b[0m \u001b[0mkwds\u001b[0m\u001b[0;34m)\u001b[0m\u001b[0;34m\u001b[0m\u001b[0;34m\u001b[0m\u001b[0m\n\u001b[0m\u001b[1;32m    677\u001b[0m \u001b[0;34m\u001b[0m\u001b[0m\n\u001b[1;32m    678\u001b[0m     \u001b[0mparser_f\u001b[0m\u001b[0;34m.\u001b[0m\u001b[0m__name__\u001b[0m \u001b[0;34m=\u001b[0m \u001b[0mname\u001b[0m\u001b[0;34m\u001b[0m\u001b[0;34m\u001b[0m\u001b[0m\n",
      "\u001b[0;32m~/anaconda3/envs/storyTelling/lib/python3.8/site-packages/pandas/io/parsers.py\u001b[0m in \u001b[0;36m_read\u001b[0;34m(filepath_or_buffer, kwds)\u001b[0m\n\u001b[1;32m    446\u001b[0m \u001b[0;34m\u001b[0m\u001b[0m\n\u001b[1;32m    447\u001b[0m     \u001b[0;31m# Create the parser.\u001b[0m\u001b[0;34m\u001b[0m\u001b[0;34m\u001b[0m\u001b[0;34m\u001b[0m\u001b[0m\n\u001b[0;32m--> 448\u001b[0;31m     \u001b[0mparser\u001b[0m \u001b[0;34m=\u001b[0m \u001b[0mTextFileReader\u001b[0m\u001b[0;34m(\u001b[0m\u001b[0mfp_or_buf\u001b[0m\u001b[0;34m,\u001b[0m \u001b[0;34m**\u001b[0m\u001b[0mkwds\u001b[0m\u001b[0;34m)\u001b[0m\u001b[0;34m\u001b[0m\u001b[0;34m\u001b[0m\u001b[0m\n\u001b[0m\u001b[1;32m    449\u001b[0m \u001b[0;34m\u001b[0m\u001b[0m\n\u001b[1;32m    450\u001b[0m     \u001b[0;32mif\u001b[0m \u001b[0mchunksize\u001b[0m \u001b[0;32mor\u001b[0m \u001b[0miterator\u001b[0m\u001b[0;34m:\u001b[0m\u001b[0;34m\u001b[0m\u001b[0;34m\u001b[0m\u001b[0m\n",
      "\u001b[0;32m~/anaconda3/envs/storyTelling/lib/python3.8/site-packages/pandas/io/parsers.py\u001b[0m in \u001b[0;36m__init__\u001b[0;34m(self, f, engine, **kwds)\u001b[0m\n\u001b[1;32m    878\u001b[0m             \u001b[0mself\u001b[0m\u001b[0;34m.\u001b[0m\u001b[0moptions\u001b[0m\u001b[0;34m[\u001b[0m\u001b[0;34m\"has_index_names\"\u001b[0m\u001b[0;34m]\u001b[0m \u001b[0;34m=\u001b[0m \u001b[0mkwds\u001b[0m\u001b[0;34m[\u001b[0m\u001b[0;34m\"has_index_names\"\u001b[0m\u001b[0;34m]\u001b[0m\u001b[0;34m\u001b[0m\u001b[0;34m\u001b[0m\u001b[0m\n\u001b[1;32m    879\u001b[0m \u001b[0;34m\u001b[0m\u001b[0m\n\u001b[0;32m--> 880\u001b[0;31m         \u001b[0mself\u001b[0m\u001b[0;34m.\u001b[0m\u001b[0m_make_engine\u001b[0m\u001b[0;34m(\u001b[0m\u001b[0mself\u001b[0m\u001b[0;34m.\u001b[0m\u001b[0mengine\u001b[0m\u001b[0;34m)\u001b[0m\u001b[0;34m\u001b[0m\u001b[0;34m\u001b[0m\u001b[0m\n\u001b[0m\u001b[1;32m    881\u001b[0m \u001b[0;34m\u001b[0m\u001b[0m\n\u001b[1;32m    882\u001b[0m     \u001b[0;32mdef\u001b[0m \u001b[0mclose\u001b[0m\u001b[0;34m(\u001b[0m\u001b[0mself\u001b[0m\u001b[0;34m)\u001b[0m\u001b[0;34m:\u001b[0m\u001b[0;34m\u001b[0m\u001b[0;34m\u001b[0m\u001b[0m\n",
      "\u001b[0;32m~/anaconda3/envs/storyTelling/lib/python3.8/site-packages/pandas/io/parsers.py\u001b[0m in \u001b[0;36m_make_engine\u001b[0;34m(self, engine)\u001b[0m\n\u001b[1;32m   1112\u001b[0m     \u001b[0;32mdef\u001b[0m \u001b[0m_make_engine\u001b[0m\u001b[0;34m(\u001b[0m\u001b[0mself\u001b[0m\u001b[0;34m,\u001b[0m \u001b[0mengine\u001b[0m\u001b[0;34m=\u001b[0m\u001b[0;34m\"c\"\u001b[0m\u001b[0;34m)\u001b[0m\u001b[0;34m:\u001b[0m\u001b[0;34m\u001b[0m\u001b[0;34m\u001b[0m\u001b[0m\n\u001b[1;32m   1113\u001b[0m         \u001b[0;32mif\u001b[0m \u001b[0mengine\u001b[0m \u001b[0;34m==\u001b[0m \u001b[0;34m\"c\"\u001b[0m\u001b[0;34m:\u001b[0m\u001b[0;34m\u001b[0m\u001b[0;34m\u001b[0m\u001b[0m\n\u001b[0;32m-> 1114\u001b[0;31m             \u001b[0mself\u001b[0m\u001b[0;34m.\u001b[0m\u001b[0m_engine\u001b[0m \u001b[0;34m=\u001b[0m \u001b[0mCParserWrapper\u001b[0m\u001b[0;34m(\u001b[0m\u001b[0mself\u001b[0m\u001b[0;34m.\u001b[0m\u001b[0mf\u001b[0m\u001b[0;34m,\u001b[0m \u001b[0;34m**\u001b[0m\u001b[0mself\u001b[0m\u001b[0;34m.\u001b[0m\u001b[0moptions\u001b[0m\u001b[0;34m)\u001b[0m\u001b[0;34m\u001b[0m\u001b[0;34m\u001b[0m\u001b[0m\n\u001b[0m\u001b[1;32m   1115\u001b[0m         \u001b[0;32melse\u001b[0m\u001b[0;34m:\u001b[0m\u001b[0;34m\u001b[0m\u001b[0;34m\u001b[0m\u001b[0m\n\u001b[1;32m   1116\u001b[0m             \u001b[0;32mif\u001b[0m \u001b[0mengine\u001b[0m \u001b[0;34m==\u001b[0m \u001b[0;34m\"python\"\u001b[0m\u001b[0;34m:\u001b[0m\u001b[0;34m\u001b[0m\u001b[0;34m\u001b[0m\u001b[0m\n",
      "\u001b[0;32m~/anaconda3/envs/storyTelling/lib/python3.8/site-packages/pandas/io/parsers.py\u001b[0m in \u001b[0;36m__init__\u001b[0;34m(self, src, **kwds)\u001b[0m\n\u001b[1;32m   1889\u001b[0m         \u001b[0mkwds\u001b[0m\u001b[0;34m[\u001b[0m\u001b[0;34m\"usecols\"\u001b[0m\u001b[0;34m]\u001b[0m \u001b[0;34m=\u001b[0m \u001b[0mself\u001b[0m\u001b[0;34m.\u001b[0m\u001b[0musecols\u001b[0m\u001b[0;34m\u001b[0m\u001b[0;34m\u001b[0m\u001b[0m\n\u001b[1;32m   1890\u001b[0m \u001b[0;34m\u001b[0m\u001b[0m\n\u001b[0;32m-> 1891\u001b[0;31m         \u001b[0mself\u001b[0m\u001b[0;34m.\u001b[0m\u001b[0m_reader\u001b[0m \u001b[0;34m=\u001b[0m \u001b[0mparsers\u001b[0m\u001b[0;34m.\u001b[0m\u001b[0mTextReader\u001b[0m\u001b[0;34m(\u001b[0m\u001b[0msrc\u001b[0m\u001b[0;34m,\u001b[0m \u001b[0;34m**\u001b[0m\u001b[0mkwds\u001b[0m\u001b[0;34m)\u001b[0m\u001b[0;34m\u001b[0m\u001b[0;34m\u001b[0m\u001b[0m\n\u001b[0m\u001b[1;32m   1892\u001b[0m         \u001b[0mself\u001b[0m\u001b[0;34m.\u001b[0m\u001b[0munnamed_cols\u001b[0m \u001b[0;34m=\u001b[0m \u001b[0mself\u001b[0m\u001b[0;34m.\u001b[0m\u001b[0m_reader\u001b[0m\u001b[0;34m.\u001b[0m\u001b[0munnamed_cols\u001b[0m\u001b[0;34m\u001b[0m\u001b[0;34m\u001b[0m\u001b[0m\n\u001b[1;32m   1893\u001b[0m \u001b[0;34m\u001b[0m\u001b[0m\n",
      "\u001b[0;32mpandas/_libs/parsers.pyx\u001b[0m in \u001b[0;36mpandas._libs.parsers.TextReader.__cinit__\u001b[0;34m()\u001b[0m\n",
      "\u001b[0;32mpandas/_libs/parsers.pyx\u001b[0m in \u001b[0;36mpandas._libs.parsers.TextReader._setup_parser_source\u001b[0;34m()\u001b[0m\n",
      "\u001b[0;31mFileNotFoundError\u001b[0m: [Errno 2] File /home/steve/Documents/ENSAE/Data_StoryTelling/dataviz\\brut\\metropole-densites-de-population-par-commune.csv does not exist: '/home/steve/Documents/ENSAE/Data_StoryTelling/dataviz\\\\brut\\\\metropole-densites-de-population-par-commune.csv'"
     ]
    }
   ],
   "source": [
    "dens=pd.read_csv(dir+'\\\\brut\\\\metropole-densites-de-population-par-commune.csv',sep=';')\n",
    "dens=dens.rename(columns={'Code INSEE':'insee',\"Densité d'habitants (hab/km2)\" : 'densitehabkm2'})\n",
    "dens=dens[['insee','densitehabkm2']]"
   ]
  },
  {
   "cell_type": "code",
   "execution_count": null,
   "metadata": {},
   "outputs": [],
   "source": [
    "dens.insee=dens.insee.astype(int)\n",
    "dens.dtypes"
   ]
  },
  {
   "cell_type": "code",
   "execution_count": null,
   "metadata": {},
   "outputs": [],
   "source": [
    "A=dens.sort_values('insee').sort_values('insee')"
   ]
  },
  {
   "cell_type": "code",
   "execution_count": null,
   "metadata": {},
   "outputs": [],
   "source": [
    "list(A.insee)"
   ]
  },
  {
   "cell_type": "markdown",
   "metadata": {},
   "source": [
    "Niveau de vie et taux de pauvreté"
   ]
  },
  {
   "cell_type": "code",
   "execution_count": null,
   "metadata": {},
   "outputs": [],
   "source": [
    "com=pd.read_csv(dir+'\\\\brut\\\\base-comparateur-de-territoires.csv',sep=';')\n",
    "com=com.rename(columns={'CODGEO':'insee','MED16':'medianendv','TP6016':'tp'})\n",
    "com=com[['insee','tp','medianendv']]"
   ]
  },
  {
   "cell_type": "code",
   "execution_count": null,
   "metadata": {},
   "outputs": [],
   "source": [
    "com.insee=com.insee.astype(int)\n",
    "com.dtypes"
   ]
  },
  {
   "cell_type": "code",
   "execution_count": null,
   "metadata": {},
   "outputs": [],
   "source": [
    "com.head() # tp on a pas pour tout "
   ]
  },
  {
   "cell_type": "code",
   "execution_count": null,
   "metadata": {},
   "outputs": [],
   "source": [
    "len(com.insee.unique())"
   ]
  },
  {
   "cell_type": "markdown",
   "metadata": {},
   "source": [
    "Pollution"
   ]
  },
  {
   "cell_type": "code",
   "execution_count": null,
   "metadata": {},
   "outputs": [],
   "source": [
    "pol=pd.read_csv(dir+'\\\\brut\\\\indices_QA_commune_IDF_2017.csv',sep=',')\n",
    "\n",
    "pol=pol.groupby('ninsee',as_index=False).mean()\n",
    "\n",
    "pol=pol.rename(columns={'ninsee':'insee'})"
   ]
  },
  {
   "cell_type": "code",
   "execution_count": null,
   "metadata": {},
   "outputs": [],
   "source": [
    "pol.insee=pol.insee.astype(int)"
   ]
  },
  {
   "cell_type": "code",
   "execution_count": null,
   "metadata": {},
   "outputs": [],
   "source": [
    "pol.dtypes"
   ]
  },
  {
   "cell_type": "markdown",
   "metadata": {},
   "source": [
    "Diplomes "
   ]
  },
  {
   "cell_type": "code",
   "execution_count": null,
   "metadata": {},
   "outputs": [],
   "source": [
    "dipl = pd.read_csv(dir+'\\\\brut\\\\base-cc-diplomes-formation-2016.csv',sep=';')"
   ]
  },
  {
   "cell_type": "code",
   "execution_count": null,
   "metadata": {},
   "outputs": [],
   "source": [
    "dipl=dipl[['CODGEO','P16_NSCOL15P','P16_NSCOL15P_SUP']]\n",
    "\n",
    "dipl=dipl.rename(columns={'P16_NSCOL15P':'nb_nscol','P16_NSCOL15P_SUP':'dipl_sup','CODGEO':'insee'})\n",
    "\n",
    "dipl=dipl.assign(dipl_su_tx=dipl.dipl_sup/dipl.nb_nscol)\n",
    "\n",
    "dipl=dipl[['insee','dipl_su_tx']]\n"
   ]
  },
  {
   "cell_type": "code",
   "execution_count": null,
   "metadata": {},
   "outputs": [],
   "source": [
    "dipl.dtypes"
   ]
  },
  {
   "cell_type": "code",
   "execution_count": null,
   "metadata": {},
   "outputs": [],
   "source": [
    "import numpy as np"
   ]
  },
  {
   "cell_type": "code",
   "execution_count": null,
   "metadata": {},
   "outputs": [],
   "source": [
    "dipl=dipl[pd.to_numeric(dipl['insee'], errors='coerce').notnull()]"
   ]
  },
  {
   "cell_type": "code",
   "execution_count": null,
   "metadata": {},
   "outputs": [],
   "source": [
    "dipl.insee=dipl.insee.astype(int)"
   ]
  },
  {
   "cell_type": "markdown",
   "metadata": {},
   "source": [
    "Prix au mètre carré "
   ]
  },
  {
   "cell_type": "code",
   "execution_count": null,
   "metadata": {},
   "outputs": [],
   "source": [
    "prix=pd.read_csv(dir+'\\\\brut\\\\prixm2-communes-2017.csv',sep=',')\n",
    "\n",
    "prix=prix[['INSEE_COM','Prixm2']]\n",
    "\n",
    "prix=prix.rename(columns={'INSEE_COM':'insee','Prixm2':'prixm2'})"
   ]
  },
  {
   "cell_type": "code",
   "execution_count": null,
   "metadata": {},
   "outputs": [],
   "source": [
    "prix.dtypes"
   ]
  },
  {
   "cell_type": "code",
   "execution_count": null,
   "metadata": {},
   "outputs": [],
   "source": [
    "prix=prix[pd.to_numeric(prix['insee'], errors='coerce').notnull()]\n",
    "prix.insee=prix.insee.astype(int)"
   ]
  },
  {
   "cell_type": "code",
   "execution_count": null,
   "metadata": {},
   "outputs": [],
   "source": [
    "prix.dtypes"
   ]
  },
  {
   "cell_type": "markdown",
   "metadata": {},
   "source": [
    "Impôt sur la fortune"
   ]
  },
  {
   "cell_type": "code",
   "execution_count": null,
   "metadata": {},
   "outputs": [],
   "source": [
    "isf=pd.read_excel(dir+'\\\\brut\\\\ificom2018.xlsx',headers=True,sheet_name='définitif impot')\n",
    "\n",
    "isf=isf[['Code commune (INSEE)','nombre de redevables','patrimoine moyen en €','impôt moyen en €']]\n",
    "\n",
    "isf.columns=['insee','nb_redevables','patrimoineeuro','impotmoyeneuro']"
   ]
  },
  {
   "cell_type": "code",
   "execution_count": null,
   "metadata": {},
   "outputs": [],
   "source": [
    "isf.dtypes"
   ]
  },
  {
   "cell_type": "code",
   "execution_count": null,
   "metadata": {},
   "outputs": [],
   "source": [
    "isf['insee']= isf['insee'].transform(lambda x : x.replace(' ','')) "
   ]
  },
  {
   "cell_type": "code",
   "execution_count": null,
   "metadata": {},
   "outputs": [],
   "source": [
    "isf=isf[pd.to_numeric(isf['insee'], errors='coerce').notnull()]\n",
    "isf.insee=isf.insee.astype(int)"
   ]
  },
  {
   "cell_type": "code",
   "execution_count": null,
   "metadata": {},
   "outputs": [],
   "source": [
    "isf.dtypes"
   ]
  },
  {
   "cell_type": "code",
   "execution_count": null,
   "metadata": {},
   "outputs": [],
   "source": [
    "#Base Sarah \n",
    "eco=pd.read_csv(dir+'\\\\brut\\\\data_chom_prop.csv')\n",
    "eco.head()"
   ]
  },
  {
   "cell_type": "code",
   "execution_count": null,
   "metadata": {},
   "outputs": [],
   "source": [
    "eco=eco.drop(columns=['Unnamed: 0'])\n",
    "eco=eco.rename(columns={'CODGEO':'insee'})"
   ]
  },
  {
   "cell_type": "code",
   "execution_count": null,
   "metadata": {},
   "outputs": [],
   "source": [
    "eco.dtypes"
   ]
  },
  {
   "cell_type": "markdown",
   "metadata": {},
   "source": [
    "Votes"
   ]
  },
  {
   "cell_type": "code",
   "execution_count": null,
   "metadata": {},
   "outputs": [],
   "source": [
    "#vote =pd.read_csv(dir+'\\\\brut\\\\data_final_vote.csv')\n",
    "#vote=vote[['CODGEO','Tour1Candidat1']]"
   ]
  },
  {
   "cell_type": "code",
   "execution_count": null,
   "metadata": {},
   "outputs": [],
   "source": [
    "#vote=vote.rename(columns={'CODGEO':'insee'})"
   ]
  },
  {
   "cell_type": "code",
   "execution_count": null,
   "metadata": {},
   "outputs": [],
   "source": [
    "# Vote à la mano \n",
    "vote = pd.read_excel(dir+'\\\\brut\\\\vote_mano.xlsx')"
   ]
  },
  {
   "cell_type": "markdown",
   "metadata": {},
   "source": [
    "Merge "
   ]
  },
  {
   "cell_type": "code",
   "execution_count": null,
   "metadata": {},
   "outputs": [],
   "source": [
    "bases=[eco,dens,dipl,pol,vote,com,isf,prix]"
   ]
  },
  {
   "cell_type": "code",
   "execution_count": null,
   "metadata": {},
   "outputs": [],
   "source": [
    "import geopandas as gpd \n",
    "pop=gpd.read_file(r'C:\\Users\\morga\\Documents\\GitHub\\MLPython\\dataviz\\Graphique_bokeh\\pop_comgeo.geojson')\n",
    "variables= pd.DataFrame(pop.insee)\n",
    "variables.insee=variables.insee.astype(int)"
   ]
  },
  {
   "cell_type": "code",
   "execution_count": null,
   "metadata": {},
   "outputs": [],
   "source": [
    "pop.plot()"
   ]
  },
  {
   "cell_type": "code",
   "execution_count": null,
   "metadata": {},
   "outputs": [],
   "source": []
  },
  {
   "cell_type": "code",
   "execution_count": null,
   "metadata": {},
   "outputs": [],
   "source": [
    "for data in bases:\n",
    "    variables=variables.merge(data,how='left',on='insee')"
   ]
  },
  {
   "cell_type": "code",
   "execution_count": null,
   "metadata": {},
   "outputs": [],
   "source": [
    "variables.head()"
   ]
  },
  {
   "cell_type": "code",
   "execution_count": null,
   "metadata": {},
   "outputs": [],
   "source": []
  },
  {
   "cell_type": "code",
   "execution_count": null,
   "metadata": {},
   "outputs": [],
   "source": [
    "# SOucis avec les élections j'ai pas les correspondances !! "
   ]
  },
  {
   "cell_type": "code",
   "execution_count": null,
   "metadata": {},
   "outputs": [],
   "source": [
    "variables.drop_duplicates( inplace = True) "
   ]
  },
  {
   "cell_type": "code",
   "execution_count": null,
   "metadata": {},
   "outputs": [],
   "source": [
    "#variables.drop('Unnamed: 0', axis=1, inplace=True)"
   ]
  },
  {
   "cell_type": "code",
   "execution_count": null,
   "metadata": {},
   "outputs": [],
   "source": [
    "variables = variables.round(2)"
   ]
  },
  {
   "cell_type": "code",
   "execution_count": null,
   "metadata": {},
   "outputs": [],
   "source": [
    "variables.to_csv('variables.csv')"
   ]
  },
  {
   "cell_type": "markdown",
   "metadata": {},
   "source": [
    "Creation du CSV our la population slider"
   ]
  },
  {
   "cell_type": "code",
   "execution_count": null,
   "metadata": {},
   "outputs": [],
   "source": [
    "import geopandas as gpd \n",
    "pop=gpd.read_file(r'C:\\Users\\morga\\Documents\\GitHub\\MLPython\\dataviz\\Graphique_bokeh\\pop_comgeo.geojson')"
   ]
  },
  {
   "cell_type": "code",
   "execution_count": null,
   "metadata": {},
   "outputs": [],
   "source": [
    "pop=pop[['insee','year','population','pct_ch','steps']]"
   ]
  },
  {
   "cell_type": "code",
   "execution_count": null,
   "metadata": {},
   "outputs": [],
   "source": [
    "pop.to_csv('population_csv.csv')"
   ]
  },
  {
   "cell_type": "code",
   "execution_count": null,
   "metadata": {},
   "outputs": [],
   "source": [
    "pop[pop.insee=='78561']"
   ]
  },
  {
   "cell_type": "markdown",
   "metadata": {},
   "source": [
    "Professionnels de Santé"
   ]
  },
  {
   "cell_type": "code",
   "execution_count": 173,
   "metadata": {},
   "outputs": [],
   "source": [
    "med=pd.read_csv(dir+'\\\\brut\\\\annuaire-et-localisation-des-professionnels-de-sante.csv',sep=';')\n",
    "\n",
    "med=med[[\"Nature de l'exercice\",\"Convention du professionnel\",\"Coordonnées\",'Adresse','Code INSEE']]\n",
    "\n",
    "med.columns=['nature_exercice','convention','coordonnees','adresse','insee']"
   ]
  },
  {
   "cell_type": "code",
   "execution_count": 174,
   "metadata": {},
   "outputs": [],
   "source": [
    "# Ici interessant de mettre des marqueurs ? Je laisse comme ça => sinon compter \n",
    "count_med=med.groupby('insee',as_index=False)['coordonnees'].count()"
   ]
  },
  {
   "cell_type": "code",
   "execution_count": null,
   "metadata": {},
   "outputs": [],
   "source": []
  },
  {
   "cell_type": "code",
   "execution_count": 175,
   "metadata": {},
   "outputs": [
    {
     "data": {
      "text/plain": [
       "nature_exercice    object\n",
       "convention         object\n",
       "coordonnees        object\n",
       "adresse            object\n",
       "insee               int64\n",
       "dtype: object"
      ]
     },
     "execution_count": 175,
     "metadata": {},
     "output_type": "execute_result"
    }
   ],
   "source": [
    "med.dtypes"
   ]
  },
  {
   "cell_type": "code",
   "execution_count": 176,
   "metadata": {},
   "outputs": [
    {
     "data": {
      "text/plain": [
       "insee          int64\n",
       "coordonnees    int64\n",
       "dtype: object"
      ]
     },
     "execution_count": 176,
     "metadata": {},
     "output_type": "execute_result"
    }
   ],
   "source": [
    "count_med.dtypes"
   ]
  },
  {
   "cell_type": "code",
   "execution_count": 177,
   "metadata": {},
   "outputs": [],
   "source": [
    "med.insee=med.insee.astype(int)"
   ]
  },
  {
   "cell_type": "code",
   "execution_count": 178,
   "metadata": {},
   "outputs": [
    {
     "data": {
      "text/plain": [
       "Index(['nature_exercice', 'convention', 'coordonnees', 'adresse', 'insee'], dtype='object')"
      ]
     },
     "execution_count": 178,
     "metadata": {},
     "output_type": "execute_result"
    }
   ],
   "source": [
    "med.columns"
   ]
  },
  {
   "cell_type": "code",
   "execution_count": 179,
   "metadata": {},
   "outputs": [],
   "source": [
    "med=med[['nature_exercice','coordonnees','insee']]"
   ]
  },
  {
   "cell_type": "code",
   "execution_count": 180,
   "metadata": {},
   "outputs": [],
   "source": [
    "med=med.merge(count_med,on='insee')"
   ]
  },
  {
   "cell_type": "code",
   "execution_count": 181,
   "metadata": {},
   "outputs": [],
   "source": [
    "med.columns=['nature','coordonnees','insee','nombre']"
   ]
  },
  {
   "cell_type": "code",
   "execution_count": 182,
   "metadata": {},
   "outputs": [],
   "source": [
    "new= med[\"coordonnees\"].str.split(\",\", n = 1, expand = True) "
   ]
  },
  {
   "cell_type": "code",
   "execution_count": 183,
   "metadata": {},
   "outputs": [],
   "source": [
    "med_data['lat'] = new[0]\n",
    "med_data['lon'] = new[1]"
   ]
  },
  {
   "cell_type": "code",
   "execution_count": 184,
   "metadata": {},
   "outputs": [
    {
     "data": {
      "text/html": [
       "<div>\n",
       "<style scoped>\n",
       "    .dataframe tbody tr th:only-of-type {\n",
       "        vertical-align: middle;\n",
       "    }\n",
       "\n",
       "    .dataframe tbody tr th {\n",
       "        vertical-align: top;\n",
       "    }\n",
       "\n",
       "    .dataframe thead th {\n",
       "        text-align: right;\n",
       "    }\n",
       "</style>\n",
       "<table border=\"1\" class=\"dataframe\">\n",
       "  <thead>\n",
       "    <tr style=\"text-align: right;\">\n",
       "      <th></th>\n",
       "      <th>nature</th>\n",
       "      <th>coordonnees</th>\n",
       "      <th>insee</th>\n",
       "      <th>nombre</th>\n",
       "      <th>geometry</th>\n",
       "      <th>new</th>\n",
       "      <th>lat</th>\n",
       "      <th>lon</th>\n",
       "    </tr>\n",
       "  </thead>\n",
       "  <tbody>\n",
       "    <tr>\n",
       "      <th>0</th>\n",
       "      <td>Libéral activité salariée</td>\n",
       "      <td>48.970077</td>\n",
       "      <td>95197</td>\n",
       "      <td>32</td>\n",
       "      <td>POLYGON ((2.30969 48.97072, 2.30979 48.97119, ...</td>\n",
       "      <td>48.970077</td>\n",
       "      <td>48.829281</td>\n",
       "      <td>2.3568</td>\n",
       "    </tr>\n",
       "    <tr>\n",
       "      <th>1</th>\n",
       "      <td>Libéral intégral</td>\n",
       "      <td>48.970077</td>\n",
       "      <td>95197</td>\n",
       "      <td>32</td>\n",
       "      <td>POLYGON ((2.30969 48.97072, 2.30979 48.97119, ...</td>\n",
       "      <td>48.970077</td>\n",
       "      <td>48.824815</td>\n",
       "      <td>2.357629</td>\n",
       "    </tr>\n",
       "    <tr>\n",
       "      <th>2</th>\n",
       "      <td>Libéral intégral</td>\n",
       "      <td>48.96271</td>\n",
       "      <td>95197</td>\n",
       "      <td>32</td>\n",
       "      <td>POLYGON ((2.30969 48.97072, 2.30979 48.97119, ...</td>\n",
       "      <td>48.96271</td>\n",
       "      <td>48.883061</td>\n",
       "      <td>2.329228</td>\n",
       "    </tr>\n",
       "    <tr>\n",
       "      <th>3</th>\n",
       "      <td>Libéral intégral</td>\n",
       "      <td>48.96271</td>\n",
       "      <td>95197</td>\n",
       "      <td>32</td>\n",
       "      <td>POLYGON ((2.30969 48.97072, 2.30979 48.97119, ...</td>\n",
       "      <td>48.96271</td>\n",
       "      <td>48.833789</td>\n",
       "      <td>2.308108</td>\n",
       "    </tr>\n",
       "    <tr>\n",
       "      <th>4</th>\n",
       "      <td>Libéral activité salariée</td>\n",
       "      <td>48.971396</td>\n",
       "      <td>95197</td>\n",
       "      <td>32</td>\n",
       "      <td>POLYGON ((2.30969 48.97072, 2.30979 48.97119, ...</td>\n",
       "      <td>48.971396</td>\n",
       "      <td>48.853281</td>\n",
       "      <td>2.293727</td>\n",
       "    </tr>\n",
       "    <tr>\n",
       "      <th>...</th>\n",
       "      <td>...</td>\n",
       "      <td>...</td>\n",
       "      <td>...</td>\n",
       "      <td>...</td>\n",
       "      <td>...</td>\n",
       "      <td>...</td>\n",
       "      <td>...</td>\n",
       "      <td>...</td>\n",
       "    </tr>\n",
       "    <tr>\n",
       "      <th>7773</th>\n",
       "      <td>Libéral intégral</td>\n",
       "      <td>49.014456</td>\n",
       "      <td>77241</td>\n",
       "      <td>4</td>\n",
       "      <td>POLYGON ((2.67922 49.01336, 2.68390 49.01933, ...</td>\n",
       "      <td>49.014456</td>\n",
       "      <td>48.857847</td>\n",
       "      <td>2.304228</td>\n",
       "    </tr>\n",
       "    <tr>\n",
       "      <th>7774</th>\n",
       "      <td>Libéral intégral</td>\n",
       "      <td>48.704353</td>\n",
       "      <td>91136</td>\n",
       "      <td>1</td>\n",
       "      <td>POLYGON ((2.25880 48.70794, 2.25881 48.70836, ...</td>\n",
       "      <td>48.704353</td>\n",
       "      <td>48.854348</td>\n",
       "      <td>2.383557</td>\n",
       "    </tr>\n",
       "    <tr>\n",
       "      <th>7775</th>\n",
       "      <td>Libéral intégral</td>\n",
       "      <td>49.064301</td>\n",
       "      <td>77322</td>\n",
       "      <td>2</td>\n",
       "      <td>POLYGON ((2.57098 49.06058, 2.57141 49.06093, ...</td>\n",
       "      <td>49.064301</td>\n",
       "      <td>48.844213</td>\n",
       "      <td>2.342242</td>\n",
       "    </tr>\n",
       "    <tr>\n",
       "      <th>7776</th>\n",
       "      <td>Libéral intégral</td>\n",
       "      <td>49.064414</td>\n",
       "      <td>77322</td>\n",
       "      <td>2</td>\n",
       "      <td>POLYGON ((2.57098 49.06058, 2.57141 49.06093, ...</td>\n",
       "      <td>49.064414</td>\n",
       "      <td>48.865643</td>\n",
       "      <td>2.288865</td>\n",
       "    </tr>\n",
       "    <tr>\n",
       "      <th>7777</th>\n",
       "      <td>Libéral intégral</td>\n",
       "      <td>49.050302</td>\n",
       "      <td>77259</td>\n",
       "      <td>1</td>\n",
       "      <td>POLYGON ((2.64263 49.04490, 2.64272 49.04625, ...</td>\n",
       "      <td>49.050302</td>\n",
       "      <td>48.851257</td>\n",
       "      <td>2.319338</td>\n",
       "    </tr>\n",
       "  </tbody>\n",
       "</table>\n",
       "<p>7778 rows × 8 columns</p>\n",
       "</div>"
      ],
      "text/plain": [
       "                         nature coordonnees  insee  nombre  \\\n",
       "0     Libéral activité salariée   48.970077  95197      32   \n",
       "1              Libéral intégral   48.970077  95197      32   \n",
       "2              Libéral intégral    48.96271  95197      32   \n",
       "3              Libéral intégral    48.96271  95197      32   \n",
       "4     Libéral activité salariée   48.971396  95197      32   \n",
       "...                         ...         ...    ...     ...   \n",
       "7773           Libéral intégral   49.014456  77241       4   \n",
       "7774           Libéral intégral   48.704353  91136       1   \n",
       "7775           Libéral intégral   49.064301  77322       2   \n",
       "7776           Libéral intégral   49.064414  77322       2   \n",
       "7777           Libéral intégral   49.050302  77259       1   \n",
       "\n",
       "                                               geometry        new        lat  \\\n",
       "0     POLYGON ((2.30969 48.97072, 2.30979 48.97119, ...  48.970077  48.829281   \n",
       "1     POLYGON ((2.30969 48.97072, 2.30979 48.97119, ...  48.970077  48.824815   \n",
       "2     POLYGON ((2.30969 48.97072, 2.30979 48.97119, ...   48.96271  48.883061   \n",
       "3     POLYGON ((2.30969 48.97072, 2.30979 48.97119, ...   48.96271  48.833789   \n",
       "4     POLYGON ((2.30969 48.97072, 2.30979 48.97119, ...  48.971396  48.853281   \n",
       "...                                                 ...        ...        ...   \n",
       "7773  POLYGON ((2.67922 49.01336, 2.68390 49.01933, ...  49.014456  48.857847   \n",
       "7774  POLYGON ((2.25880 48.70794, 2.25881 48.70836, ...  48.704353  48.854348   \n",
       "7775  POLYGON ((2.57098 49.06058, 2.57141 49.06093, ...  49.064301  48.844213   \n",
       "7776  POLYGON ((2.57098 49.06058, 2.57141 49.06093, ...  49.064414  48.865643   \n",
       "7777  POLYGON ((2.64263 49.04490, 2.64272 49.04625, ...  49.050302  48.851257   \n",
       "\n",
       "           lon  \n",
       "0       2.3568  \n",
       "1     2.357629  \n",
       "2     2.329228  \n",
       "3     2.308108  \n",
       "4     2.293727  \n",
       "...        ...  \n",
       "7773  2.304228  \n",
       "7774  2.383557  \n",
       "7775  2.342242  \n",
       "7776  2.288865  \n",
       "7777  2.319338  \n",
       "\n",
       "[7778 rows x 8 columns]"
      ]
     },
     "execution_count": 184,
     "metadata": {},
     "output_type": "execute_result"
    }
   ],
   "source": [
    "med_data "
   ]
  },
  {
   "cell_type": "code",
   "execution_count": 153,
   "metadata": {},
   "outputs": [],
   "source": [
    "def df_to_geojson(df, properties, lat='lat', lon='lon'):\n",
    "    geojson = {'type':'FeatureCollection', 'features':[]}\n",
    "    for _, row in df.iterrows():\n",
    "        feature = {'type':'Feature',\n",
    "                   'properties':{},\n",
    "                   'geometry':{'type':'Point',\n",
    "                               'coordinates':[]}}\n",
    "        feature['geometry']['coordinates'] = [row[lon],row[lat]]\n",
    "        for prop in properties:\n",
    "            feature['properties'][prop] = row[prop]\n",
    "        geojson['features'].append(feature)\n",
    "    return geojson"
   ]
  },
  {
   "cell_type": "code",
   "execution_count": 154,
   "metadata": {},
   "outputs": [],
   "source": [
    "cols = ['insee','nombre','nature']\n",
    "geojson = df_to_geojson(med_data, cols)"
   ]
  },
  {
   "cell_type": "code",
   "execution_count": 160,
   "metadata": {},
   "outputs": [],
   "source": [
    "import json\n",
    "\n",
    "with open('med_data.geojson', 'a') as f:\n",
    "    json.dump(geojson, f)"
   ]
  },
  {
   "cell_type": "code",
   "execution_count": null,
   "metadata": {},
   "outputs": [],
   "source": []
  },
  {
   "cell_type": "code",
   "execution_count": 77,
   "metadata": {},
   "outputs": [],
   "source": [
    "#med_data.to_csv('med_data.csv')"
   ]
  },
  {
   "cell_type": "code",
   "execution_count": 86,
   "metadata": {},
   "outputs": [],
   "source": [
    "med_data[\"coordonnees\"]= med_data[\"coordonnees\"].str.split(\",\", n = 2, expand = True) "
   ]
  },
  {
   "cell_type": "code",
   "execution_count": 85,
   "metadata": {},
   "outputs": [
    {
     "data": {
      "text/html": [
       "<div>\n",
       "<style scoped>\n",
       "    .dataframe tbody tr th:only-of-type {\n",
       "        vertical-align: middle;\n",
       "    }\n",
       "\n",
       "    .dataframe tbody tr th {\n",
       "        vertical-align: top;\n",
       "    }\n",
       "\n",
       "    .dataframe thead th {\n",
       "        text-align: right;\n",
       "    }\n",
       "</style>\n",
       "<table border=\"1\" class=\"dataframe\">\n",
       "  <thead>\n",
       "    <tr style=\"text-align: right;\">\n",
       "      <th></th>\n",
       "      <th>nature</th>\n",
       "      <th>coordonnees</th>\n",
       "      <th>insee</th>\n",
       "      <th>nombre</th>\n",
       "      <th>geometry</th>\n",
       "    </tr>\n",
       "  </thead>\n",
       "  <tbody>\n",
       "    <tr>\n",
       "      <th>0</th>\n",
       "      <td>Libéral activité salariée</td>\n",
       "      <td>48.970077</td>\n",
       "      <td>95197</td>\n",
       "      <td>32</td>\n",
       "      <td>POLYGON ((2.30969 48.97072, 2.30979 48.97119, ...</td>\n",
       "    </tr>\n",
       "    <tr>\n",
       "      <th>1</th>\n",
       "      <td>Libéral intégral</td>\n",
       "      <td>48.970077</td>\n",
       "      <td>95197</td>\n",
       "      <td>32</td>\n",
       "      <td>POLYGON ((2.30969 48.97072, 2.30979 48.97119, ...</td>\n",
       "    </tr>\n",
       "    <tr>\n",
       "      <th>2</th>\n",
       "      <td>Libéral intégral</td>\n",
       "      <td>48.96271</td>\n",
       "      <td>95197</td>\n",
       "      <td>32</td>\n",
       "      <td>POLYGON ((2.30969 48.97072, 2.30979 48.97119, ...</td>\n",
       "    </tr>\n",
       "    <tr>\n",
       "      <th>3</th>\n",
       "      <td>Libéral intégral</td>\n",
       "      <td>48.96271</td>\n",
       "      <td>95197</td>\n",
       "      <td>32</td>\n",
       "      <td>POLYGON ((2.30969 48.97072, 2.30979 48.97119, ...</td>\n",
       "    </tr>\n",
       "    <tr>\n",
       "      <th>4</th>\n",
       "      <td>Libéral activité salariée</td>\n",
       "      <td>48.971396</td>\n",
       "      <td>95197</td>\n",
       "      <td>32</td>\n",
       "      <td>POLYGON ((2.30969 48.97072, 2.30979 48.97119, ...</td>\n",
       "    </tr>\n",
       "    <tr>\n",
       "      <th>...</th>\n",
       "      <td>...</td>\n",
       "      <td>...</td>\n",
       "      <td>...</td>\n",
       "      <td>...</td>\n",
       "      <td>...</td>\n",
       "    </tr>\n",
       "    <tr>\n",
       "      <th>7773</th>\n",
       "      <td>Libéral intégral</td>\n",
       "      <td>49.014456</td>\n",
       "      <td>77241</td>\n",
       "      <td>4</td>\n",
       "      <td>POLYGON ((2.67922 49.01336, 2.68390 49.01933, ...</td>\n",
       "    </tr>\n",
       "    <tr>\n",
       "      <th>7774</th>\n",
       "      <td>Libéral intégral</td>\n",
       "      <td>48.704353</td>\n",
       "      <td>91136</td>\n",
       "      <td>1</td>\n",
       "      <td>POLYGON ((2.25880 48.70794, 2.25881 48.70836, ...</td>\n",
       "    </tr>\n",
       "    <tr>\n",
       "      <th>7775</th>\n",
       "      <td>Libéral intégral</td>\n",
       "      <td>49.064301</td>\n",
       "      <td>77322</td>\n",
       "      <td>2</td>\n",
       "      <td>POLYGON ((2.57098 49.06058, 2.57141 49.06093, ...</td>\n",
       "    </tr>\n",
       "    <tr>\n",
       "      <th>7776</th>\n",
       "      <td>Libéral intégral</td>\n",
       "      <td>49.064414</td>\n",
       "      <td>77322</td>\n",
       "      <td>2</td>\n",
       "      <td>POLYGON ((2.57098 49.06058, 2.57141 49.06093, ...</td>\n",
       "    </tr>\n",
       "    <tr>\n",
       "      <th>7777</th>\n",
       "      <td>Libéral intégral</td>\n",
       "      <td>49.050302</td>\n",
       "      <td>77259</td>\n",
       "      <td>1</td>\n",
       "      <td>POLYGON ((2.64263 49.04490, 2.64272 49.04625, ...</td>\n",
       "    </tr>\n",
       "  </tbody>\n",
       "</table>\n",
       "<p>7778 rows × 5 columns</p>\n",
       "</div>"
      ],
      "text/plain": [
       "                         nature coordonnees  insee  nombre  \\\n",
       "0     Libéral activité salariée   48.970077  95197      32   \n",
       "1              Libéral intégral   48.970077  95197      32   \n",
       "2              Libéral intégral    48.96271  95197      32   \n",
       "3              Libéral intégral    48.96271  95197      32   \n",
       "4     Libéral activité salariée   48.971396  95197      32   \n",
       "...                         ...         ...    ...     ...   \n",
       "7773           Libéral intégral   49.014456  77241       4   \n",
       "7774           Libéral intégral   48.704353  91136       1   \n",
       "7775           Libéral intégral   49.064301  77322       2   \n",
       "7776           Libéral intégral   49.064414  77322       2   \n",
       "7777           Libéral intégral   49.050302  77259       1   \n",
       "\n",
       "                                               geometry  \n",
       "0     POLYGON ((2.30969 48.97072, 2.30979 48.97119, ...  \n",
       "1     POLYGON ((2.30969 48.97072, 2.30979 48.97119, ...  \n",
       "2     POLYGON ((2.30969 48.97072, 2.30979 48.97119, ...  \n",
       "3     POLYGON ((2.30969 48.97072, 2.30979 48.97119, ...  \n",
       "4     POLYGON ((2.30969 48.97072, 2.30979 48.97119, ...  \n",
       "...                                                 ...  \n",
       "7773  POLYGON ((2.67922 49.01336, 2.68390 49.01933, ...  \n",
       "7774  POLYGON ((2.25880 48.70794, 2.25881 48.70836, ...  \n",
       "7775  POLYGON ((2.57098 49.06058, 2.57141 49.06093, ...  \n",
       "7776  POLYGON ((2.57098 49.06058, 2.57141 49.06093, ...  \n",
       "7777  POLYGON ((2.64263 49.04490, 2.64272 49.04625, ...  \n",
       "\n",
       "[7778 rows x 5 columns]"
      ]
     },
     "execution_count": 85,
     "metadata": {},
     "output_type": "execute_result"
    }
   ],
   "source": [
    "med_data"
   ]
  },
  {
   "cell_type": "code",
   "execution_count": 185,
   "metadata": {},
   "outputs": [],
   "source": [
    "import geopandas as gpd \n",
    "pop=gpd.read_file(r'C:\\Users\\morga\\Documents\\GitHub\\MLPython\\dataviz\\Graphique_bokeh\\pop_comgeo.geojson')"
   ]
  },
  {
   "cell_type": "code",
   "execution_count": 186,
   "metadata": {},
   "outputs": [],
   "source": [
    "pop=pop[['insee','geometry']]"
   ]
  },
  {
   "cell_type": "code",
   "execution_count": 187,
   "metadata": {},
   "outputs": [],
   "source": [
    "pop=pop.drop_duplicates()"
   ]
  },
  {
   "cell_type": "code",
   "execution_count": 188,
   "metadata": {},
   "outputs": [],
   "source": [
    "pop.insee=pop.insee.astype(int)"
   ]
  },
  {
   "cell_type": "code",
   "execution_count": 192,
   "metadata": {},
   "outputs": [],
   "source": [
    "med_merge=med_data[['nature','nombre','insee']]"
   ]
  },
  {
   "cell_type": "code",
   "execution_count": 193,
   "metadata": {},
   "outputs": [],
   "source": [
    "med_merge = med_merge.merge(pop)"
   ]
  },
  {
   "cell_type": "code",
   "execution_count": 202,
   "metadata": {},
   "outputs": [
    {
     "data": {
      "text/plain": [
       "Index(['nature', 'nombre', 'insee', 'geometry'], dtype='object')"
      ]
     },
     "execution_count": 202,
     "metadata": {},
     "output_type": "execute_result"
    }
   ],
   "source": [
    "med_merge.columns"
   ]
  },
  {
   "cell_type": "code",
   "execution_count": 203,
   "metadata": {},
   "outputs": [],
   "source": [
    "from geopandas import GeoDataFrame\n",
    "med_merge = GeoDataFrame(med_merge, geometry=med_merge['geometry'])"
   ]
  },
  {
   "cell_type": "code",
   "execution_count": 207,
   "metadata": {},
   "outputs": [],
   "source": [
    "med_merge.to_file(\"med_merge.geojson\", driver='GeoJSON')"
   ]
  },
  {
   "cell_type": "code",
   "execution_count": 206,
   "metadata": {},
   "outputs": [],
   "source": [
    "med_merge=med_merge[['insee','nombre','geometry']]"
   ]
  },
  {
   "cell_type": "code",
   "execution_count": 213,
   "metadata": {},
   "outputs": [
    {
     "data": {
      "text/plain": [
       "393"
      ]
     },
     "execution_count": 213,
     "metadata": {},
     "output_type": "execute_result"
    }
   ],
   "source": [
    "med_merge.nombre.max()"
   ]
  },
  {
   "cell_type": "markdown",
   "metadata": {},
   "source": [
    "# Traffic (lié aux stations et non aux communes)"
   ]
  },
  {
   "cell_type": "raw",
   "metadata": {},
   "source": [
    "traffic=pd.read_csv(r'C:/Users/morga/Downloads/validations-sur-le-reseau-ferre-nombre-de-validations-par-jour-2e-sem.csv',sep=';')\n",
    "\n",
    "traffic=traffic[traffic['CODE_STIF_TRNS']==810]\n",
    "\n",
    "CHAT = traffic[traffic['LIBELLE_ARRET'].str.startswith('CHAT')]\n",
    "\n",
    "traffic=traffic[traffic['CODE_STIF_RES']==802]\n",
    "\n",
    "traffic=traffic.append(CHAT)\n",
    "\n",
    "traffic=traffic.groupby(['JOUR','LIBELLE_ARRET'],as_index=False)['NB_VALD'].sum()\n",
    "\n",
    "traffic=traffic[['LIBELLE_ARRET','NB_VALD']]\n",
    "\n",
    "traffic=traffic.groupby(['LIBELLE_ARRET'],as_index=False).mean()"
   ]
  },
  {
   "cell_type": "raw",
   "metadata": {},
   "source": [
    "perc_traffic=pd.read_csv(dir+'\\\\brut\\\\validations-sur-le-reseau-ferre-profils-horaires-par-jour-type-2e-sem.csv')\n",
    "\n",
    "perc_traffic=perc_traffic[perc_traffic['CODE_STIF_TRNS']==810]\n",
    "\n",
    "perc_traffic=perc_traffic[['LIBELLE_ARRET','TRNC_HORR_60','pourc_validations']]"
   ]
  },
  {
   "cell_type": "raw",
   "metadata": {},
   "source": [
    "perc_traffic.head()"
   ]
  },
  {
   "cell_type": "raw",
   "metadata": {},
   "source": [
    "traffic.head()"
   ]
  },
  {
   "cell_type": "raw",
   "metadata": {},
   "source": [
    "traffic_par_heure=perc_traffic.merge(traffic,how='left')"
   ]
  },
  {
   "cell_type": "raw",
   "metadata": {},
   "source": [
    "traffic_par_heure=traffic_par_heure.assign(NB_VALD_HOUR=traffic_par_heure.pourc_validations*traffic_par_heure.NB_VALD)"
   ]
  },
  {
   "cell_type": "raw",
   "metadata": {},
   "source": [
    "traffic_par_heure.to_csv('traffic_par_heure.csv')"
   ]
  },
  {
   "cell_type": "code",
   "execution_count": 219,
   "metadata": {},
   "outputs": [],
   "source": [
    "traffic_par_heure=pd.read_csv('traffic_par_heure.csv')"
   ]
  },
  {
   "cell_type": "code",
   "execution_count": null,
   "metadata": {},
   "outputs": [],
   "source": []
  },
  {
   "cell_type": "code",
   "execution_count": 247,
   "metadata": {},
   "outputs": [],
   "source": [
    "import geopandas as gpd \n",
    "stations=gpd.read_file(r'C:\\Users\\morga\\Documents\\GitHub\\MLPython\\dataviz\\Graphique_bokeh\\stations.geojson')"
   ]
  },
  {
   "cell_type": "code",
   "execution_count": 248,
   "metadata": {},
   "outputs": [],
   "source": [
    "stations=stations.merge(traffic_par_heure,left_on='nom_long',right_on='LIBELLE_ARRET',how='right')"
   ]
  },
  {
   "cell_type": "code",
   "execution_count": null,
   "metadata": {},
   "outputs": [],
   "source": []
  },
  {
   "cell_type": "code",
   "execution_count": 250,
   "metadata": {},
   "outputs": [],
   "source": [
    "stations=stations[['LIBELLE_ARRET','TRNC_HORR_60','NB_VALD_HOUR','pourc_validations','geometry']]"
   ]
  },
  {
   "cell_type": "code",
   "execution_count": 251,
   "metadata": {},
   "outputs": [],
   "source": [
    "stations=stations.dropna()"
   ]
  },
  {
   "cell_type": "code",
   "execution_count": 252,
   "metadata": {},
   "outputs": [],
   "source": [
    "stations=stations.drop_duplicates()"
   ]
  },
  {
   "cell_type": "code",
   "execution_count": 253,
   "metadata": {},
   "outputs": [
    {
     "data": {
      "text/html": [
       "<div>\n",
       "<style scoped>\n",
       "    .dataframe tbody tr th:only-of-type {\n",
       "        vertical-align: middle;\n",
       "    }\n",
       "\n",
       "    .dataframe tbody tr th {\n",
       "        vertical-align: top;\n",
       "    }\n",
       "\n",
       "    .dataframe thead th {\n",
       "        text-align: right;\n",
       "    }\n",
       "</style>\n",
       "<table border=\"1\" class=\"dataframe\">\n",
       "  <thead>\n",
       "    <tr style=\"text-align: right;\">\n",
       "      <th></th>\n",
       "      <th>LIBELLE_ARRET</th>\n",
       "      <th>TRNC_HORR_60</th>\n",
       "      <th>NB_VALD_HOUR</th>\n",
       "      <th>pourc_validations</th>\n",
       "      <th>geometry</th>\n",
       "    </tr>\n",
       "  </thead>\n",
       "  <tbody>\n",
       "    <tr>\n",
       "      <th>0</th>\n",
       "      <td>MASSY-PALAISEAU</td>\n",
       "      <td>17H-18H</td>\n",
       "      <td>193416.439728</td>\n",
       "      <td>11.01</td>\n",
       "      <td>POINT (2.25828 48.72469)</td>\n",
       "    </tr>\n",
       "    <tr>\n",
       "      <th>9</th>\n",
       "      <td>MASSY-PALAISEAU</td>\n",
       "      <td>3H-4H</td>\n",
       "      <td>175.673424</td>\n",
       "      <td>0.01</td>\n",
       "      <td>POINT (2.25828 48.72469)</td>\n",
       "    </tr>\n",
       "    <tr>\n",
       "      <th>18</th>\n",
       "      <td>MASSY-PALAISEAU</td>\n",
       "      <td>12H-13H</td>\n",
       "      <td>62715.412337</td>\n",
       "      <td>3.57</td>\n",
       "      <td>POINT (2.25828 48.72469)</td>\n",
       "    </tr>\n",
       "    <tr>\n",
       "      <th>27</th>\n",
       "      <td>MASSY-PALAISEAU</td>\n",
       "      <td>16H-17H</td>\n",
       "      <td>112958.011576</td>\n",
       "      <td>6.43</td>\n",
       "      <td>POINT (2.25828 48.72469)</td>\n",
       "    </tr>\n",
       "    <tr>\n",
       "      <th>36</th>\n",
       "      <td>MASSY-PALAISEAU</td>\n",
       "      <td>1H-2H</td>\n",
       "      <td>351.346848</td>\n",
       "      <td>0.02</td>\n",
       "      <td>POINT (2.25828 48.72469)</td>\n",
       "    </tr>\n",
       "    <tr>\n",
       "      <th>...</th>\n",
       "      <td>...</td>\n",
       "      <td>...</td>\n",
       "      <td>...</td>\n",
       "      <td>...</td>\n",
       "      <td>...</td>\n",
       "    </tr>\n",
       "    <tr>\n",
       "      <th>7621</th>\n",
       "      <td>SEVRAN-LIVRY</td>\n",
       "      <td>13H-14H</td>\n",
       "      <td>14204.027049</td>\n",
       "      <td>3.45</td>\n",
       "      <td>POINT (2.53471 48.93628)</td>\n",
       "    </tr>\n",
       "    <tr>\n",
       "      <th>7626</th>\n",
       "      <td>SEVRAN-LIVRY</td>\n",
       "      <td>1H-2H</td>\n",
       "      <td>288.197650</td>\n",
       "      <td>0.07</td>\n",
       "      <td>POINT (2.53471 48.93628)</td>\n",
       "    </tr>\n",
       "    <tr>\n",
       "      <th>7631</th>\n",
       "      <td>SEVRAN-LIVRY</td>\n",
       "      <td>4H-5H</td>\n",
       "      <td>25155.537760</td>\n",
       "      <td>6.11</td>\n",
       "      <td>POINT (2.53471 48.93628)</td>\n",
       "    </tr>\n",
       "    <tr>\n",
       "      <th>7636</th>\n",
       "      <td>SEVRAN-LIVRY</td>\n",
       "      <td>6H-7H</td>\n",
       "      <td>59039.347213</td>\n",
       "      <td>14.34</td>\n",
       "      <td>POINT (2.53471 48.93628)</td>\n",
       "    </tr>\n",
       "    <tr>\n",
       "      <th>7641</th>\n",
       "      <td>SEVRAN-LIVRY</td>\n",
       "      <td>7H-8H</td>\n",
       "      <td>51463.866120</td>\n",
       "      <td>12.50</td>\n",
       "      <td>POINT (2.53471 48.93628)</td>\n",
       "    </tr>\n",
       "  </tbody>\n",
       "</table>\n",
       "<p>1054 rows × 5 columns</p>\n",
       "</div>"
      ],
      "text/plain": [
       "        LIBELLE_ARRET TRNC_HORR_60   NB_VALD_HOUR  pourc_validations  \\\n",
       "0     MASSY-PALAISEAU      17H-18H  193416.439728              11.01   \n",
       "9     MASSY-PALAISEAU        3H-4H     175.673424               0.01   \n",
       "18    MASSY-PALAISEAU      12H-13H   62715.412337               3.57   \n",
       "27    MASSY-PALAISEAU      16H-17H  112958.011576               6.43   \n",
       "36    MASSY-PALAISEAU        1H-2H     351.346848               0.02   \n",
       "...               ...          ...            ...                ...   \n",
       "7621     SEVRAN-LIVRY      13H-14H   14204.027049               3.45   \n",
       "7626     SEVRAN-LIVRY        1H-2H     288.197650               0.07   \n",
       "7631     SEVRAN-LIVRY        4H-5H   25155.537760               6.11   \n",
       "7636     SEVRAN-LIVRY        6H-7H   59039.347213              14.34   \n",
       "7641     SEVRAN-LIVRY        7H-8H   51463.866120              12.50   \n",
       "\n",
       "                      geometry  \n",
       "0     POINT (2.25828 48.72469)  \n",
       "9     POINT (2.25828 48.72469)  \n",
       "18    POINT (2.25828 48.72469)  \n",
       "27    POINT (2.25828 48.72469)  \n",
       "36    POINT (2.25828 48.72469)  \n",
       "...                        ...  \n",
       "7621  POINT (2.53471 48.93628)  \n",
       "7626  POINT (2.53471 48.93628)  \n",
       "7631  POINT (2.53471 48.93628)  \n",
       "7636  POINT (2.53471 48.93628)  \n",
       "7641  POINT (2.53471 48.93628)  \n",
       "\n",
       "[1054 rows x 5 columns]"
      ]
     },
     "execution_count": 253,
     "metadata": {},
     "output_type": "execute_result"
    }
   ],
   "source": [
    "stations"
   ]
  },
  {
   "cell_type": "code",
   "execution_count": 254,
   "metadata": {},
   "outputs": [],
   "source": [
    "new=stations.TRNC_HORR_60.str.split(\"H\", n = 1, expand = True) "
   ]
  },
  {
   "cell_type": "code",
   "execution_count": 255,
   "metadata": {},
   "outputs": [],
   "source": [
    "stations['heure']=new[0]"
   ]
  },
  {
   "cell_type": "code",
   "execution_count": 256,
   "metadata": {},
   "outputs": [],
   "source": [
    "stations=stations[['LIBELLE_ARRET','NB_VALD_HOUR','heure','geometry']]"
   ]
  },
  {
   "cell_type": "code",
   "execution_count": 258,
   "metadata": {},
   "outputs": [],
   "source": [
    "from geopandas import GeoDataFrame\n",
    "stations2 = GeoDataFrame(stations, geometry=med_merge['geometry'])"
   ]
  },
  {
   "cell_type": "code",
   "execution_count": 259,
   "metadata": {},
   "outputs": [],
   "source": [
    "stations2.to_file(\"stations2.geojson\", driver='GeoJSON')"
   ]
  },
  {
   "cell_type": "markdown",
   "metadata": {},
   "source": [
    "Cartes pour visualiser le résultat "
   ]
  },
  {
   "cell_type": "code",
   "execution_count": null,
   "metadata": {},
   "outputs": [],
   "source": [
    "import geopandas as gpd \n",
    "pop=gpd.read_file(r'C:\\Users\\morga\\Documents\\GitHub\\MLPython\\dataviz\\Graphique_bokeh\\pop_comgeo.geojson')\n",
    "pop.insee=pop.insee.astype(int)\n",
    "data_map=variables.merge(pop,on='insee')"
   ]
  },
  {
   "cell_type": "code",
   "execution_count": null,
   "metadata": {},
   "outputs": [],
   "source": [
    "data_map.columns"
   ]
  },
  {
   "cell_type": "code",
   "execution_count": null,
   "metadata": {},
   "outputs": [],
   "source": [
    "import mapclassify\n",
    "import geoplot\n",
    "import matplotlib.pyplot as plt \n",
    "data_map=data_map.set_geometry('geometry')"
   ]
  },
  {
   "cell_type": "code",
   "execution_count": null,
   "metadata": {},
   "outputs": [],
   "source": [
    "scheme = mapclassify.Quantiles(data_map.TauxChomage, k=10)\n",
    "geoplot.choropleth(\n",
    "    data_map, hue=data_map.TauxChomage, scheme=scheme,\n",
    "    cmap='OrRd', figsize=(10, 5),legend=True\n",
    ")\n",
    "plt.title('Taux de chômage')"
   ]
  },
  {
   "cell_type": "code",
   "execution_count": null,
   "metadata": {},
   "outputs": [],
   "source": [
    "scheme = mapclassify.Quantiles(data_map.TauxProprietaires, k=10)\n",
    "geoplot.choropleth(\n",
    "    data_map, hue=data_map.TauxProprietaires, scheme=scheme,\n",
    "    cmap='OrRd', figsize=(10, 5),legend=True\n",
    ")\n",
    "plt.title('Taux de propriétaires')"
   ]
  },
  {
   "cell_type": "code",
   "execution_count": null,
   "metadata": {},
   "outputs": [],
   "source": [
    "scheme = mapclassify.Quantiles(data_map.pm10, k=10)\n",
    "geoplot.choropleth(\n",
    "    data_map, hue=data_map.pm10, scheme=scheme,\n",
    "    cmap='OrRd', figsize=(10, 5),legend=True\n",
    ")\n",
    "plt.title('Taux pollution pm10')"
   ]
  },
  {
   "cell_type": "code",
   "execution_count": null,
   "metadata": {},
   "outputs": [],
   "source": [
    "scheme = mapclassify.Quantiles(data_map.dipl_su_tx, k=10)\n",
    "geoplot.choropleth(\n",
    "    data_map, hue=data_map.dipl_su_tx, scheme=scheme,\n",
    "    cmap='OrRd', figsize=(10, 5),legend=True\n",
    ")\n",
    "plt.title('dipl_su_tx')"
   ]
  },
  {
   "cell_type": "code",
   "execution_count": null,
   "metadata": {},
   "outputs": [],
   "source": [
    "\n",
    "geoplot.choropleth(\n",
    "    data_map, hue=data_map.Tour1Candidat1,\n",
    "    cmap='OrRd', figsize=(10, 5),legend=True\n",
    ")\n",
    "plt.title('vote_politique')"
   ]
  }
 ],
 "metadata": {
  "kernelspec": {
   "display_name": "Python 3",
   "language": "python",
   "name": "python3"
  },
  "language_info": {
   "codemirror_mode": {
    "name": "ipython",
    "version": 3
   },
   "file_extension": ".py",
   "mimetype": "text/x-python",
   "name": "python",
   "nbconvert_exporter": "python",
   "pygments_lexer": "ipython3",
   "version": "3.7.6"
  }
 },
 "nbformat": 4,
 "nbformat_minor": 4
}
