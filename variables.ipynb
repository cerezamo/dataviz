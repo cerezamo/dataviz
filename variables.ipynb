{
 "cells": [
  {
   "cell_type": "markdown",
   "metadata": {},
   "source": [
    "# Creation de la base finale pour JS "
   ]
  },
  {
   "cell_type": "markdown",
   "metadata": {},
   "source": [
    "Votes et abstention"
   ]
  },
  {
   "cell_type": "code",
   "execution_count": 2,
   "metadata": {},
   "outputs": [],
   "source": [
    "import pandas as pd\n",
    "import geopandas as gpd\n",
    "import os \n",
    "import matplotlib.pyplot as plt"
   ]
  },
  {
   "cell_type": "code",
   "execution_count": 4,
   "metadata": {},
   "outputs": [],
   "source": [
    "dir=os.getcwd()"
   ]
  },
  {
   "cell_type": "markdown",
   "metadata": {},
   "source": [
    "Densite de population"
   ]
  },
  {
   "cell_type": "code",
   "execution_count": 3,
   "metadata": {},
   "outputs": [
    {
     "ename": "FileNotFoundError",
     "evalue": "[Errno 2] File /home/steve/Documents/ENSAE/Data_StoryTelling/dataviz\\brut\\metropole-densites-de-population-par-commune.csv does not exist: '/home/steve/Documents/ENSAE/Data_StoryTelling/dataviz\\\\brut\\\\metropole-densites-de-population-par-commune.csv'",
     "output_type": "error",
     "traceback": [
      "\u001b[0;31m---------------------------------------------------------------------------\u001b[0m",
      "\u001b[0;31mFileNotFoundError\u001b[0m                         Traceback (most recent call last)",
      "\u001b[0;32m<ipython-input-3-68c8d7e14d48>\u001b[0m in \u001b[0;36m<module>\u001b[0;34m\u001b[0m\n\u001b[0;32m----> 1\u001b[0;31m \u001b[0mdens\u001b[0m\u001b[0;34m=\u001b[0m\u001b[0mpd\u001b[0m\u001b[0;34m.\u001b[0m\u001b[0mread_csv\u001b[0m\u001b[0;34m(\u001b[0m\u001b[0mdir\u001b[0m\u001b[0;34m+\u001b[0m\u001b[0;34m'\\\\brut\\\\metropole-densites-de-population-par-commune.csv'\u001b[0m\u001b[0;34m,\u001b[0m\u001b[0msep\u001b[0m\u001b[0;34m=\u001b[0m\u001b[0;34m';'\u001b[0m\u001b[0;34m)\u001b[0m\u001b[0;34m\u001b[0m\u001b[0;34m\u001b[0m\u001b[0m\n\u001b[0m\u001b[1;32m      2\u001b[0m \u001b[0mdens\u001b[0m\u001b[0;34m=\u001b[0m\u001b[0mdens\u001b[0m\u001b[0;34m.\u001b[0m\u001b[0mrename\u001b[0m\u001b[0;34m(\u001b[0m\u001b[0mcolumns\u001b[0m\u001b[0;34m=\u001b[0m\u001b[0;34m{\u001b[0m\u001b[0;34m'Code INSEE'\u001b[0m\u001b[0;34m:\u001b[0m\u001b[0;34m'insee'\u001b[0m\u001b[0;34m,\u001b[0m\u001b[0;34m\"Densité d'habitants (hab/km2)\"\u001b[0m \u001b[0;34m:\u001b[0m \u001b[0;34m'densitehabkm2'\u001b[0m\u001b[0;34m}\u001b[0m\u001b[0;34m)\u001b[0m\u001b[0;34m\u001b[0m\u001b[0;34m\u001b[0m\u001b[0m\n\u001b[1;32m      3\u001b[0m \u001b[0mdens\u001b[0m\u001b[0;34m=\u001b[0m\u001b[0mdens\u001b[0m\u001b[0;34m[\u001b[0m\u001b[0;34m[\u001b[0m\u001b[0;34m'insee'\u001b[0m\u001b[0;34m,\u001b[0m\u001b[0;34m'densitehabkm2'\u001b[0m\u001b[0;34m]\u001b[0m\u001b[0;34m]\u001b[0m\u001b[0;34m\u001b[0m\u001b[0;34m\u001b[0m\u001b[0m\n",
      "\u001b[0;32m~/anaconda3/envs/storyTelling/lib/python3.8/site-packages/pandas/io/parsers.py\u001b[0m in \u001b[0;36mparser_f\u001b[0;34m(filepath_or_buffer, sep, delimiter, header, names, index_col, usecols, squeeze, prefix, mangle_dupe_cols, dtype, engine, converters, true_values, false_values, skipinitialspace, skiprows, skipfooter, nrows, na_values, keep_default_na, na_filter, verbose, skip_blank_lines, parse_dates, infer_datetime_format, keep_date_col, date_parser, dayfirst, cache_dates, iterator, chunksize, compression, thousands, decimal, lineterminator, quotechar, quoting, doublequote, escapechar, comment, encoding, dialect, error_bad_lines, warn_bad_lines, delim_whitespace, low_memory, memory_map, float_precision)\u001b[0m\n\u001b[1;32m    674\u001b[0m         )\n\u001b[1;32m    675\u001b[0m \u001b[0;34m\u001b[0m\u001b[0m\n\u001b[0;32m--> 676\u001b[0;31m         \u001b[0;32mreturn\u001b[0m \u001b[0m_read\u001b[0m\u001b[0;34m(\u001b[0m\u001b[0mfilepath_or_buffer\u001b[0m\u001b[0;34m,\u001b[0m \u001b[0mkwds\u001b[0m\u001b[0;34m)\u001b[0m\u001b[0;34m\u001b[0m\u001b[0;34m\u001b[0m\u001b[0m\n\u001b[0m\u001b[1;32m    677\u001b[0m \u001b[0;34m\u001b[0m\u001b[0m\n\u001b[1;32m    678\u001b[0m     \u001b[0mparser_f\u001b[0m\u001b[0;34m.\u001b[0m\u001b[0m__name__\u001b[0m \u001b[0;34m=\u001b[0m \u001b[0mname\u001b[0m\u001b[0;34m\u001b[0m\u001b[0;34m\u001b[0m\u001b[0m\n",
      "\u001b[0;32m~/anaconda3/envs/storyTelling/lib/python3.8/site-packages/pandas/io/parsers.py\u001b[0m in \u001b[0;36m_read\u001b[0;34m(filepath_or_buffer, kwds)\u001b[0m\n\u001b[1;32m    446\u001b[0m \u001b[0;34m\u001b[0m\u001b[0m\n\u001b[1;32m    447\u001b[0m     \u001b[0;31m# Create the parser.\u001b[0m\u001b[0;34m\u001b[0m\u001b[0;34m\u001b[0m\u001b[0;34m\u001b[0m\u001b[0m\n\u001b[0;32m--> 448\u001b[0;31m     \u001b[0mparser\u001b[0m \u001b[0;34m=\u001b[0m \u001b[0mTextFileReader\u001b[0m\u001b[0;34m(\u001b[0m\u001b[0mfp_or_buf\u001b[0m\u001b[0;34m,\u001b[0m \u001b[0;34m**\u001b[0m\u001b[0mkwds\u001b[0m\u001b[0;34m)\u001b[0m\u001b[0;34m\u001b[0m\u001b[0;34m\u001b[0m\u001b[0m\n\u001b[0m\u001b[1;32m    449\u001b[0m \u001b[0;34m\u001b[0m\u001b[0m\n\u001b[1;32m    450\u001b[0m     \u001b[0;32mif\u001b[0m \u001b[0mchunksize\u001b[0m \u001b[0;32mor\u001b[0m \u001b[0miterator\u001b[0m\u001b[0;34m:\u001b[0m\u001b[0;34m\u001b[0m\u001b[0;34m\u001b[0m\u001b[0m\n",
      "\u001b[0;32m~/anaconda3/envs/storyTelling/lib/python3.8/site-packages/pandas/io/parsers.py\u001b[0m in \u001b[0;36m__init__\u001b[0;34m(self, f, engine, **kwds)\u001b[0m\n\u001b[1;32m    878\u001b[0m             \u001b[0mself\u001b[0m\u001b[0;34m.\u001b[0m\u001b[0moptions\u001b[0m\u001b[0;34m[\u001b[0m\u001b[0;34m\"has_index_names\"\u001b[0m\u001b[0;34m]\u001b[0m \u001b[0;34m=\u001b[0m \u001b[0mkwds\u001b[0m\u001b[0;34m[\u001b[0m\u001b[0;34m\"has_index_names\"\u001b[0m\u001b[0;34m]\u001b[0m\u001b[0;34m\u001b[0m\u001b[0;34m\u001b[0m\u001b[0m\n\u001b[1;32m    879\u001b[0m \u001b[0;34m\u001b[0m\u001b[0m\n\u001b[0;32m--> 880\u001b[0;31m         \u001b[0mself\u001b[0m\u001b[0;34m.\u001b[0m\u001b[0m_make_engine\u001b[0m\u001b[0;34m(\u001b[0m\u001b[0mself\u001b[0m\u001b[0;34m.\u001b[0m\u001b[0mengine\u001b[0m\u001b[0;34m)\u001b[0m\u001b[0;34m\u001b[0m\u001b[0;34m\u001b[0m\u001b[0m\n\u001b[0m\u001b[1;32m    881\u001b[0m \u001b[0;34m\u001b[0m\u001b[0m\n\u001b[1;32m    882\u001b[0m     \u001b[0;32mdef\u001b[0m \u001b[0mclose\u001b[0m\u001b[0;34m(\u001b[0m\u001b[0mself\u001b[0m\u001b[0;34m)\u001b[0m\u001b[0;34m:\u001b[0m\u001b[0;34m\u001b[0m\u001b[0;34m\u001b[0m\u001b[0m\n",
      "\u001b[0;32m~/anaconda3/envs/storyTelling/lib/python3.8/site-packages/pandas/io/parsers.py\u001b[0m in \u001b[0;36m_make_engine\u001b[0;34m(self, engine)\u001b[0m\n\u001b[1;32m   1112\u001b[0m     \u001b[0;32mdef\u001b[0m \u001b[0m_make_engine\u001b[0m\u001b[0;34m(\u001b[0m\u001b[0mself\u001b[0m\u001b[0;34m,\u001b[0m \u001b[0mengine\u001b[0m\u001b[0;34m=\u001b[0m\u001b[0;34m\"c\"\u001b[0m\u001b[0;34m)\u001b[0m\u001b[0;34m:\u001b[0m\u001b[0;34m\u001b[0m\u001b[0;34m\u001b[0m\u001b[0m\n\u001b[1;32m   1113\u001b[0m         \u001b[0;32mif\u001b[0m \u001b[0mengine\u001b[0m \u001b[0;34m==\u001b[0m \u001b[0;34m\"c\"\u001b[0m\u001b[0;34m:\u001b[0m\u001b[0;34m\u001b[0m\u001b[0;34m\u001b[0m\u001b[0m\n\u001b[0;32m-> 1114\u001b[0;31m             \u001b[0mself\u001b[0m\u001b[0;34m.\u001b[0m\u001b[0m_engine\u001b[0m \u001b[0;34m=\u001b[0m \u001b[0mCParserWrapper\u001b[0m\u001b[0;34m(\u001b[0m\u001b[0mself\u001b[0m\u001b[0;34m.\u001b[0m\u001b[0mf\u001b[0m\u001b[0;34m,\u001b[0m \u001b[0;34m**\u001b[0m\u001b[0mself\u001b[0m\u001b[0;34m.\u001b[0m\u001b[0moptions\u001b[0m\u001b[0;34m)\u001b[0m\u001b[0;34m\u001b[0m\u001b[0;34m\u001b[0m\u001b[0m\n\u001b[0m\u001b[1;32m   1115\u001b[0m         \u001b[0;32melse\u001b[0m\u001b[0;34m:\u001b[0m\u001b[0;34m\u001b[0m\u001b[0;34m\u001b[0m\u001b[0m\n\u001b[1;32m   1116\u001b[0m             \u001b[0;32mif\u001b[0m \u001b[0mengine\u001b[0m \u001b[0;34m==\u001b[0m \u001b[0;34m\"python\"\u001b[0m\u001b[0;34m:\u001b[0m\u001b[0;34m\u001b[0m\u001b[0;34m\u001b[0m\u001b[0m\n",
      "\u001b[0;32m~/anaconda3/envs/storyTelling/lib/python3.8/site-packages/pandas/io/parsers.py\u001b[0m in \u001b[0;36m__init__\u001b[0;34m(self, src, **kwds)\u001b[0m\n\u001b[1;32m   1889\u001b[0m         \u001b[0mkwds\u001b[0m\u001b[0;34m[\u001b[0m\u001b[0;34m\"usecols\"\u001b[0m\u001b[0;34m]\u001b[0m \u001b[0;34m=\u001b[0m \u001b[0mself\u001b[0m\u001b[0;34m.\u001b[0m\u001b[0musecols\u001b[0m\u001b[0;34m\u001b[0m\u001b[0;34m\u001b[0m\u001b[0m\n\u001b[1;32m   1890\u001b[0m \u001b[0;34m\u001b[0m\u001b[0m\n\u001b[0;32m-> 1891\u001b[0;31m         \u001b[0mself\u001b[0m\u001b[0;34m.\u001b[0m\u001b[0m_reader\u001b[0m \u001b[0;34m=\u001b[0m \u001b[0mparsers\u001b[0m\u001b[0;34m.\u001b[0m\u001b[0mTextReader\u001b[0m\u001b[0;34m(\u001b[0m\u001b[0msrc\u001b[0m\u001b[0;34m,\u001b[0m \u001b[0;34m**\u001b[0m\u001b[0mkwds\u001b[0m\u001b[0;34m)\u001b[0m\u001b[0;34m\u001b[0m\u001b[0;34m\u001b[0m\u001b[0m\n\u001b[0m\u001b[1;32m   1892\u001b[0m         \u001b[0mself\u001b[0m\u001b[0;34m.\u001b[0m\u001b[0munnamed_cols\u001b[0m \u001b[0;34m=\u001b[0m \u001b[0mself\u001b[0m\u001b[0;34m.\u001b[0m\u001b[0m_reader\u001b[0m\u001b[0;34m.\u001b[0m\u001b[0munnamed_cols\u001b[0m\u001b[0;34m\u001b[0m\u001b[0;34m\u001b[0m\u001b[0m\n\u001b[1;32m   1893\u001b[0m \u001b[0;34m\u001b[0m\u001b[0m\n",
      "\u001b[0;32mpandas/_libs/parsers.pyx\u001b[0m in \u001b[0;36mpandas._libs.parsers.TextReader.__cinit__\u001b[0;34m()\u001b[0m\n",
      "\u001b[0;32mpandas/_libs/parsers.pyx\u001b[0m in \u001b[0;36mpandas._libs.parsers.TextReader._setup_parser_source\u001b[0;34m()\u001b[0m\n",
      "\u001b[0;31mFileNotFoundError\u001b[0m: [Errno 2] File /home/steve/Documents/ENSAE/Data_StoryTelling/dataviz\\brut\\metropole-densites-de-population-par-commune.csv does not exist: '/home/steve/Documents/ENSAE/Data_StoryTelling/dataviz\\\\brut\\\\metropole-densites-de-population-par-commune.csv'"
     ]
    }
   ],
   "source": [
    "dens=pd.read_csv(dir+'\\\\brut\\\\metropole-densites-de-population-par-commune.csv',sep=';')\n",
    "dens=dens.rename(columns={'Code INSEE':'insee',\"Densité d'habitants (hab/km2)\" : 'densitehabkm2'})\n",
    "dens=dens[['insee','densitehabkm2']]"
   ]
  },
  {
   "cell_type": "code",
   "execution_count": null,
   "metadata": {},
   "outputs": [],
   "source": [
    "dens.insee=dens.insee.astype(int)\n",
    "dens.dtypes"
   ]
  },
  {
   "cell_type": "code",
   "execution_count": null,
   "metadata": {},
   "outputs": [],
   "source": [
    "A=dens.sort_values('insee').sort_values('insee')"
   ]
  },
  {
   "cell_type": "code",
   "execution_count": null,
   "metadata": {},
   "outputs": [],
   "source": [
    "list(A.insee)"
   ]
  },
  {
   "cell_type": "markdown",
   "metadata": {},
   "source": [
    "Niveau de vie et taux de pauvreté"
   ]
  },
  {
   "cell_type": "code",
   "execution_count": null,
   "metadata": {},
   "outputs": [],
   "source": [
    "com=pd.read_csv(dir+'\\\\brut\\\\base-comparateur-de-territoires.csv',sep=';')\n",
    "com=com.rename(columns={'CODGEO':'insee','MED16':'medianendv','TP6016':'tp'})\n",
    "com=com[['insee','tp','medianendv']]"
   ]
  },
  {
   "cell_type": "code",
   "execution_count": null,
   "metadata": {},
   "outputs": [],
   "source": [
    "com.insee=com.insee.astype(int)\n",
    "com.dtypes"
   ]
  },
  {
   "cell_type": "code",
   "execution_count": null,
   "metadata": {},
   "outputs": [],
   "source": [
    "com.head() # tp on a pas pour tout "
   ]
  },
  {
   "cell_type": "code",
   "execution_count": null,
   "metadata": {},
   "outputs": [],
   "source": [
    "len(com.insee.unique())"
   ]
  },
  {
   "cell_type": "markdown",
   "metadata": {},
   "source": [
    "Pollution"
   ]
  },
  {
   "cell_type": "code",
   "execution_count": null,
   "metadata": {},
   "outputs": [],
   "source": [
    "pol=pd.read_csv(dir+'\\\\brut\\\\indices_QA_commune_IDF_2017.csv',sep=',')\n",
    "\n",
    "pol=pol.groupby('ninsee',as_index=False).mean()\n",
    "\n",
    "pol=pol.rename(columns={'ninsee':'insee'})"
   ]
  },
  {
   "cell_type": "code",
   "execution_count": null,
   "metadata": {},
   "outputs": [],
   "source": [
    "pol.insee=pol.insee.astype(int)"
   ]
  },
  {
   "cell_type": "code",
   "execution_count": null,
   "metadata": {},
   "outputs": [],
   "source": [
    "pol.dtypes"
   ]
  },
  {
   "cell_type": "markdown",
   "metadata": {},
   "source": [
    "Diplomes "
   ]
  },
  {
   "cell_type": "code",
   "execution_count": null,
   "metadata": {},
   "outputs": [],
   "source": [
    "dipl = pd.read_csv(dir+'\\\\brut\\\\base-cc-diplomes-formation-2016.csv',sep=';')"
   ]
  },
  {
   "cell_type": "code",
   "execution_count": null,
   "metadata": {},
   "outputs": [],
   "source": [
    "dipl=dipl[['CODGEO','P16_NSCOL15P','P16_NSCOL15P_SUP']]\n",
    "\n",
    "dipl=dipl.rename(columns={'P16_NSCOL15P':'nb_nscol','P16_NSCOL15P_SUP':'dipl_sup','CODGEO':'insee'})\n",
    "\n",
    "dipl=dipl.assign(dipl_su_tx=dipl.dipl_sup/dipl.nb_nscol)\n",
    "\n",
    "dipl=dipl[['insee','dipl_su_tx']]\n"
   ]
  },
  {
   "cell_type": "code",
   "execution_count": null,
   "metadata": {},
   "outputs": [],
   "source": [
    "dipl.dtypes"
   ]
  },
  {
   "cell_type": "code",
   "execution_count": null,
   "metadata": {},
   "outputs": [],
   "source": [
    "import numpy as np"
   ]
  },
  {
   "cell_type": "code",
   "execution_count": null,
   "metadata": {},
   "outputs": [],
   "source": [
    "dipl=dipl[pd.to_numeric(dipl['insee'], errors='coerce').notnull()]"
   ]
  },
  {
   "cell_type": "code",
   "execution_count": null,
   "metadata": {},
   "outputs": [],
   "source": [
    "dipl.insee=dipl.insee.astype(int)"
   ]
  },
  {
   "cell_type": "markdown",
   "metadata": {},
   "source": [
    "Prix au mètre carré "
   ]
  },
  {
   "cell_type": "code",
   "execution_count": null,
   "metadata": {},
   "outputs": [],
   "source": [
    "prix=pd.read_csv(dir+'\\\\brut\\\\prixm2-communes-2017.csv',sep=',')\n",
    "\n",
    "prix=prix[['INSEE_COM','Prixm2']]\n",
    "\n",
    "prix=prix.rename(columns={'INSEE_COM':'insee','Prixm2':'prixm2'})"
   ]
  },
  {
   "cell_type": "code",
   "execution_count": null,
   "metadata": {},
   "outputs": [],
   "source": [
    "prix.dtypes"
   ]
  },
  {
   "cell_type": "code",
   "execution_count": null,
   "metadata": {},
   "outputs": [],
   "source": [
    "prix=prix[pd.to_numeric(prix['insee'], errors='coerce').notnull()]\n",
    "prix.insee=prix.insee.astype(int)"
   ]
  },
  {
   "cell_type": "code",
   "execution_count": null,
   "metadata": {},
   "outputs": [],
   "source": [
    "prix.dtypes"
   ]
  },
  {
   "cell_type": "markdown",
   "metadata": {},
   "source": [
    "Impôt sur la fortune"
   ]
  },
  {
   "cell_type": "code",
   "execution_count": null,
   "metadata": {},
   "outputs": [],
   "source": [
    "isf=pd.read_excel(dir+'\\\\brut\\\\ificom2018.xlsx',headers=True,sheet_name='définitif impot')\n",
    "\n",
    "isf=isf[['Code commune (INSEE)','nombre de redevables','patrimoine moyen en €','impôt moyen en €']]\n",
    "\n",
    "isf.columns=['insee','nb_redevables','patrimoineeuro','impotmoyeneuro']"
   ]
  },
  {
   "cell_type": "code",
   "execution_count": null,
   "metadata": {},
   "outputs": [],
   "source": [
    "isf.dtypes"
   ]
  },
  {
   "cell_type": "code",
   "execution_count": null,
   "metadata": {},
   "outputs": [],
   "source": [
    "isf['insee']= isf['insee'].transform(lambda x : x.replace(' ','')) "
   ]
  },
  {
   "cell_type": "code",
   "execution_count": null,
   "metadata": {},
   "outputs": [],
   "source": [
    "isf=isf[pd.to_numeric(isf['insee'], errors='coerce').notnull()]\n",
    "isf.insee=isf.insee.astype(int)"
   ]
  },
  {
   "cell_type": "code",
   "execution_count": null,
   "metadata": {},
   "outputs": [],
   "source": [
    "isf.dtypes"
   ]
  },
  {
   "cell_type": "code",
   "execution_count": null,
   "metadata": {},
   "outputs": [],
   "source": [
    "#Base Sarah \n",
    "eco=pd.read_csv(dir+'\\\\brut\\\\data_chom_prop.csv')\n",
    "eco.head()"
   ]
  },
  {
   "cell_type": "code",
   "execution_count": null,
   "metadata": {},
   "outputs": [],
   "source": [
    "eco=eco.drop(columns=['Unnamed: 0'])\n",
    "eco=eco.rename(columns={'CODGEO':'insee'})"
   ]
  },
  {
   "cell_type": "code",
   "execution_count": null,
   "metadata": {},
   "outputs": [],
   "source": [
    "eco.dtypes"
   ]
  },
  {
   "cell_type": "markdown",
   "metadata": {},
   "source": [
    "Votes"
   ]
  },
  {
   "cell_type": "code",
   "execution_count": null,
   "metadata": {},
   "outputs": [],
   "source": [
    "#vote =pd.read_csv(dir+'\\\\brut\\\\data_final_vote.csv')\n",
    "#vote=vote[['CODGEO','Tour1Candidat1']]"
   ]
  },
  {
   "cell_type": "code",
   "execution_count": null,
   "metadata": {},
   "outputs": [],
   "source": [
    "#vote=vote.rename(columns={'CODGEO':'insee'})"
   ]
  },
  {
   "cell_type": "code",
   "execution_count": null,
   "metadata": {},
   "outputs": [],
   "source": [
    "# Vote à la mano \n",
    "vote = pd.read_excel(dir+'\\\\brut\\\\vote_mano.xlsx')"
   ]
  },
  {
   "cell_type": "markdown",
   "metadata": {},
   "source": [
    "Merge "
   ]
  },
  {
   "cell_type": "code",
   "execution_count": null,
   "metadata": {},
   "outputs": [],
   "source": [
    "bases=[eco,dens,dipl,pol,vote,com,isf,prix]"
   ]
  },
  {
   "cell_type": "code",
   "execution_count": null,
   "metadata": {},
   "outputs": [],
   "source": [
    "import geopandas as gpd \n",
    "pop=gpd.read_file(r'C:\\Users\\morga\\Documents\\GitHub\\MLPython\\dataviz\\Graphique_bokeh\\pop_comgeo.geojson')\n",
    "variables= pd.DataFrame(pop.insee)\n",
    "variables.insee=variables.insee.astype(int)"
   ]
  },
  {
   "cell_type": "code",
   "execution_count": null,
   "metadata": {},
   "outputs": [],
   "source": [
    "pop.plot()"
   ]
  },
  {
   "cell_type": "code",
   "execution_count": null,
   "metadata": {},
   "outputs": [],
   "source": []
  },
  {
   "cell_type": "code",
   "execution_count": null,
   "metadata": {},
   "outputs": [],
   "source": [
    "for data in bases:\n",
    "    variables=variables.merge(data,how='left',on='insee')"
   ]
  },
  {
   "cell_type": "code",
   "execution_count": null,
   "metadata": {},
   "outputs": [],
   "source": [
    "variables.head()"
   ]
  },
  {
   "cell_type": "code",
   "execution_count": null,
   "metadata": {},
   "outputs": [],
   "source": []
  },
  {
   "cell_type": "code",
   "execution_count": null,
   "metadata": {},
   "outputs": [],
   "source": [
    "# SOucis avec les élections j'ai pas les correspondances !! "
   ]
  },
  {
   "cell_type": "code",
   "execution_count": null,
   "metadata": {},
   "outputs": [],
   "source": [
    "variables.drop_duplicates( inplace = True) "
   ]
  },
  {
   "cell_type": "code",
   "execution_count": null,
   "metadata": {},
   "outputs": [],
   "source": [
    "#variables.drop('Unnamed: 0', axis=1, inplace=True)"
   ]
  },
  {
   "cell_type": "code",
   "execution_count": null,
   "metadata": {},
   "outputs": [],
   "source": [
    "variables = variables.round(2)"
   ]
  },
  {
   "cell_type": "code",
   "execution_count": null,
   "metadata": {},
   "outputs": [],
   "source": [
    "variables.to_csv('variables.csv')"
   ]
  },
  {
   "cell_type": "markdown",
   "metadata": {},
   "source": [
    "Creation du CSV our la population slider"
   ]
  },
  {
   "cell_type": "code",
   "execution_count": null,
   "metadata": {},
   "outputs": [],
   "source": [
    "import geopandas as gpd \n",
    "pop=gpd.read_file(r'C:\\Users\\morga\\Documents\\GitHub\\MLPython\\dataviz\\Graphique_bokeh\\pop_comgeo.geojson')"
   ]
  },
  {
   "cell_type": "code",
   "execution_count": null,
   "metadata": {},
   "outputs": [],
   "source": [
    "pop=pop[['insee','year','population','pct_ch','steps']]"
   ]
  },
  {
   "cell_type": "code",
   "execution_count": null,
   "metadata": {},
   "outputs": [],
   "source": [
    "pop.to_csv('population_csv.csv')"
   ]
  },
  {
   "cell_type": "code",
   "execution_count": null,
   "metadata": {},
   "outputs": [],
   "source": [
    "pop[pop.insee=='78561']"
   ]
  },
  {
   "cell_type": "markdown",
   "metadata": {},
   "source": [
    "Professionnels de Santé"
   ]
  },
  {
   "cell_type": "code",
   "execution_count": 173,
   "metadata": {},
   "outputs": [],
   "source": [
    "med=pd.read_csv(dir+'\\\\brut\\\\annuaire-et-localisation-des-professionnels-de-sante.csv',sep=';')\n",
    "\n",
    "med=med[[\"Nature de l'exercice\",\"Convention du professionnel\",\"Coordonnées\",'Adresse','Code INSEE']]\n",
    "\n",
    "med.columns=['nature_exercice','convention','coordonnees','adresse','insee']"
   ]
  },
  {
   "cell_type": "code",
   "execution_count": 174,
   "metadata": {},
   "outputs": [],
   "source": [
    "# Ici interessant de mettre des marqueurs ? Je laisse comme ça => sinon compter \n",
    "count_med=med.groupby('insee',as_index=False)['coordonnees'].count()"
   ]
  },
  {
   "cell_type": "code",
   "execution_count": null,
   "metadata": {},
   "outputs": [],
   "source": []
  },
  {
   "cell_type": "code",
   "execution_count": 175,
   "metadata": {},
   "outputs": [
    {
     "data": {
      "text/plain": [
       "nature_exercice    object\n",
       "convention         object\n",
       "coordonnees        object\n",
       "adresse            object\n",
       "insee               int64\n",
       "dtype: object"
      ]
     },
     "execution_count": 175,
     "metadata": {},
     "output_type": "execute_result"
    }
   ],
   "source": [
    "med.dtypes"
   ]
  },
  {
   "cell_type": "code",
   "execution_count": 176,
   "metadata": {},
   "outputs": [
    {
     "data": {
      "text/plain": [
       "insee          int64\n",
       "coordonnees    int64\n",
       "dtype: object"
      ]
     },
     "execution_count": 176,
     "metadata": {},
     "output_type": "execute_result"
    }
   ],
   "source": [
    "count_med.dtypes"
   ]
  },
  {
   "cell_type": "code",
   "execution_count": 177,
   "metadata": {},
   "outputs": [],
   "source": [
    "med.insee=med.insee.astype(int)"
   ]
  },
  {
   "cell_type": "code",
   "execution_count": 178,
   "metadata": {},
   "outputs": [
    {
     "data": {
      "text/plain": [
       "Index(['nature_exercice', 'convention', 'coordonnees', 'adresse', 'insee'], dtype='object')"
      ]
     },
     "execution_count": 178,
     "metadata": {},
     "output_type": "execute_result"
    }
   ],
   "source": [
    "med.columns"
   ]
  },
  {
   "cell_type": "code",
   "execution_count": 179,
   "metadata": {},
   "outputs": [],
   "source": [
    "med=med[['nature_exercice','coordonnees','insee']]"
   ]
  },
  {
   "cell_type": "code",
   "execution_count": 180,
   "metadata": {},
   "outputs": [],
   "source": [
    "med=med.merge(count_med,on='insee')"
   ]
  },
  {
   "cell_type": "code",
   "execution_count": 181,
   "metadata": {},
   "outputs": [],
   "source": [
    "med.columns=['nature','coordonnees','insee','nombre']"
   ]
  },
  {
   "cell_type": "code",
   "execution_count": 182,
   "metadata": {},
   "outputs": [],
   "source": [
    "new= med[\"coordonnees\"].str.split(\",\", n = 1, expand = True) "
   ]
  },
  {
   "cell_type": "code",
   "execution_count": 183,
   "metadata": {},
   "outputs": [],
   "source": [
    "med_data['lat'] = new[0]\n",
    "med_data['lon'] = new[1]"
   ]
  },
  {
   "cell_type": "code",
   "execution_count": 184,
   "metadata": {},
   "outputs": [
    {
     "data": {
      "text/html": [
       "<div>\n",
       "<style scoped>\n",
       "    .dataframe tbody tr th:only-of-type {\n",
       "        vertical-align: middle;\n",
       "    }\n",
       "\n",
       "    .dataframe tbody tr th {\n",
       "        vertical-align: top;\n",
       "    }\n",
       "\n",
       "    .dataframe thead th {\n",
       "        text-align: right;\n",
       "    }\n",
       "</style>\n",
       "<table border=\"1\" class=\"dataframe\">\n",
       "  <thead>\n",
       "    <tr style=\"text-align: right;\">\n",
       "      <th></th>\n",
       "      <th>nature</th>\n",
       "      <th>coordonnees</th>\n",
       "      <th>insee</th>\n",
       "      <th>nombre</th>\n",
       "      <th>geometry</th>\n",
       "      <th>new</th>\n",
       "      <th>lat</th>\n",
       "      <th>lon</th>\n",
       "    </tr>\n",
       "  </thead>\n",
       "  <tbody>\n",
       "    <tr>\n",
       "      <th>0</th>\n",
       "      <td>Libéral activité salariée</td>\n",
       "      <td>48.970077</td>\n",
       "      <td>95197</td>\n",
       "      <td>32</td>\n",
       "      <td>POLYGON ((2.30969 48.97072, 2.30979 48.97119, ...</td>\n",
       "      <td>48.970077</td>\n",
       "      <td>48.829281</td>\n",
       "      <td>2.3568</td>\n",
       "    </tr>\n",
       "    <tr>\n",
       "      <th>1</th>\n",
       "      <td>Libéral intégral</td>\n",
       "      <td>48.970077</td>\n",
       "      <td>95197</td>\n",
       "      <td>32</td>\n",
       "      <td>POLYGON ((2.30969 48.97072, 2.30979 48.97119, ...</td>\n",
       "      <td>48.970077</td>\n",
       "      <td>48.824815</td>\n",
       "      <td>2.357629</td>\n",
       "    </tr>\n",
       "    <tr>\n",
       "      <th>2</th>\n",
       "      <td>Libéral intégral</td>\n",
       "      <td>48.96271</td>\n",
       "      <td>95197</td>\n",
       "      <td>32</td>\n",
       "      <td>POLYGON ((2.30969 48.97072, 2.30979 48.97119, ...</td>\n",
       "      <td>48.96271</td>\n",
       "      <td>48.883061</td>\n",
       "      <td>2.329228</td>\n",
       "    </tr>\n",
       "    <tr>\n",
       "      <th>3</th>\n",
       "      <td>Libéral intégral</td>\n",
       "      <td>48.96271</td>\n",
       "      <td>95197</td>\n",
       "      <td>32</td>\n",
       "      <td>POLYGON ((2.30969 48.97072, 2.30979 48.97119, ...</td>\n",
       "      <td>48.96271</td>\n",
       "      <td>48.833789</td>\n",
       "      <td>2.308108</td>\n",
       "    </tr>\n",
       "    <tr>\n",
       "      <th>4</th>\n",
       "      <td>Libéral activité salariée</td>\n",
       "      <td>48.971396</td>\n",
       "      <td>95197</td>\n",
       "      <td>32</td>\n",
       "      <td>POLYGON ((2.30969 48.97072, 2.30979 48.97119, ...</td>\n",
       "      <td>48.971396</td>\n",
       "      <td>48.853281</td>\n",
       "      <td>2.293727</td>\n",
       "    </tr>\n",
       "    <tr>\n",
       "      <th>...</th>\n",
       "      <td>...</td>\n",
       "      <td>...</td>\n",
       "      <td>...</td>\n",
       "      <td>...</td>\n",
       "      <td>...</td>\n",
       "      <td>...</td>\n",
       "      <td>...</td>\n",
       "      <td>...</td>\n",
       "    </tr>\n",
       "    <tr>\n",
       "      <th>7773</th>\n",
       "      <td>Libéral intégral</td>\n",
       "      <td>49.014456</td>\n",
       "      <td>77241</td>\n",
       "      <td>4</td>\n",
       "      <td>POLYGON ((2.67922 49.01336, 2.68390 49.01933, ...</td>\n",
       "      <td>49.014456</td>\n",
       "      <td>48.857847</td>\n",
       "      <td>2.304228</td>\n",
       "    </tr>\n",
       "    <tr>\n",
       "      <th>7774</th>\n",
       "      <td>Libéral intégral</td>\n",
       "      <td>48.704353</td>\n",
       "      <td>91136</td>\n",
       "      <td>1</td>\n",
       "      <td>POLYGON ((2.25880 48.70794, 2.25881 48.70836, ...</td>\n",
       "      <td>48.704353</td>\n",
       "      <td>48.854348</td>\n",
       "      <td>2.383557</td>\n",
       "    </tr>\n",
       "    <tr>\n",
       "      <th>7775</th>\n",
       "      <td>Libéral intégral</td>\n",
       "      <td>49.064301</td>\n",
       "      <td>77322</td>\n",
       "      <td>2</td>\n",
       "      <td>POLYGON ((2.57098 49.06058, 2.57141 49.06093, ...</td>\n",
       "      <td>49.064301</td>\n",
       "      <td>48.844213</td>\n",
       "      <td>2.342242</td>\n",
       "    </tr>\n",
       "    <tr>\n",
       "      <th>7776</th>\n",
       "      <td>Libéral intégral</td>\n",
       "      <td>49.064414</td>\n",
       "      <td>77322</td>\n",
       "      <td>2</td>\n",
       "      <td>POLYGON ((2.57098 49.06058, 2.57141 49.06093, ...</td>\n",
       "      <td>49.064414</td>\n",
       "      <td>48.865643</td>\n",
       "      <td>2.288865</td>\n",
       "    </tr>\n",
       "    <tr>\n",
       "      <th>7777</th>\n",
       "      <td>Libéral intégral</td>\n",
       "      <td>49.050302</td>\n",
       "      <td>77259</td>\n",
       "      <td>1</td>\n",
       "      <td>POLYGON ((2.64263 49.04490, 2.64272 49.04625, ...</td>\n",
       "      <td>49.050302</td>\n",
       "      <td>48.851257</td>\n",
       "      <td>2.319338</td>\n",
       "    </tr>\n",
       "  </tbody>\n",
       "</table>\n",
       "<p>7778 rows × 8 columns</p>\n",
       "</div>"
      ],
      "text/plain": [
       "                         nature coordonnees  insee  nombre  \\\n",
       "0     Libéral activité salariée   48.970077  95197      32   \n",
       "1              Libéral intégral   48.970077  95197      32   \n",
       "2              Libéral intégral    48.96271  95197      32   \n",
       "3              Libéral intégral    48.96271  95197      32   \n",
       "4     Libéral activité salariée   48.971396  95197      32   \n",
       "...                         ...         ...    ...     ...   \n",
       "7773           Libéral intégral   49.014456  77241       4   \n",
       "7774           Libéral intégral   48.704353  91136       1   \n",
       "7775           Libéral intégral   49.064301  77322       2   \n",
       "7776           Libéral intégral   49.064414  77322       2   \n",
       "7777           Libéral intégral   49.050302  77259       1   \n",
       "\n",
       "                                               geometry        new        lat  \\\n",
       "0     POLYGON ((2.30969 48.97072, 2.30979 48.97119, ...  48.970077  48.829281   \n",
       "1     POLYGON ((2.30969 48.97072, 2.30979 48.97119, ...  48.970077  48.824815   \n",
       "2     POLYGON ((2.30969 48.97072, 2.30979 48.97119, ...   48.96271  48.883061   \n",
       "3     POLYGON ((2.30969 48.97072, 2.30979 48.97119, ...   48.96271  48.833789   \n",
       "4     POLYGON ((2.30969 48.97072, 2.30979 48.97119, ...  48.971396  48.853281   \n",
       "...                                                 ...        ...        ...   \n",
       "7773  POLYGON ((2.67922 49.01336, 2.68390 49.01933, ...  49.014456  48.857847   \n",
       "7774  POLYGON ((2.25880 48.70794, 2.25881 48.70836, ...  48.704353  48.854348   \n",
       "7775  POLYGON ((2.57098 49.06058, 2.57141 49.06093, ...  49.064301  48.844213   \n",
       "7776  POLYGON ((2.57098 49.06058, 2.57141 49.06093, ...  49.064414  48.865643   \n",
       "7777  POLYGON ((2.64263 49.04490, 2.64272 49.04625, ...  49.050302  48.851257   \n",
       "\n",
       "           lon  \n",
       "0       2.3568  \n",
       "1     2.357629  \n",
       "2     2.329228  \n",
       "3     2.308108  \n",
       "4     2.293727  \n",
       "...        ...  \n",
       "7773  2.304228  \n",
       "7774  2.383557  \n",
       "7775  2.342242  \n",
       "7776  2.288865  \n",
       "7777  2.319338  \n",
       "\n",
       "[7778 rows x 8 columns]"
      ]
     },
     "execution_count": 184,
     "metadata": {},
     "output_type": "execute_result"
    }
   ],
   "source": [
    "med_data "
   ]
  },
  {
   "cell_type": "code",
   "execution_count": 153,
   "metadata": {},
   "outputs": [],
   "source": [
    "def df_to_geojson(df, properties, lat='lat', lon='lon'):\n",
    "    geojson = {'type':'FeatureCollection', 'features':[]}\n",
    "    for _, row in df.iterrows():\n",
    "        feature = {'type':'Feature',\n",
    "                   'properties':{},\n",
    "                   'geometry':{'type':'Point',\n",
    "                               'coordinates':[]}}\n",
    "        feature['geometry']['coordinates'] = [row[lon],row[lat]]\n",
    "        for prop in properties:\n",
    "            feature['properties'][prop] = row[prop]\n",
    "        geojson['features'].append(feature)\n",
    "    return geojson"
   ]
  },
  {
   "cell_type": "code",
   "execution_count": 154,
   "metadata": {},
   "outputs": [],
   "source": [
    "cols = ['insee','nombre','nature']\n",
    "geojson = df_to_geojson(med_data, cols)"
   ]
  },
  {
   "cell_type": "code",
   "execution_count": 160,
   "metadata": {},
   "outputs": [],
   "source": [
    "import json\n",
    "\n",
    "with open('med_data.geojson', 'a') as f:\n",
    "    json.dump(geojson, f)"
   ]
  },
  {
   "cell_type": "code",
   "execution_count": null,
   "metadata": {},
   "outputs": [],
   "source": []
  },
  {
   "cell_type": "code",
   "execution_count": 77,
   "metadata": {},
   "outputs": [],
   "source": [
    "#med_data.to_csv('med_data.csv')"
   ]
  },
  {
   "cell_type": "code",
   "execution_count": 86,
   "metadata": {},
   "outputs": [],
   "source": [
    "med_data[\"coordonnees\"]= med_data[\"coordonnees\"].str.split(\",\", n = 2, expand = True) "
   ]
  },
  {
   "cell_type": "code",
   "execution_count": 85,
   "metadata": {},
   "outputs": [
    {
     "data": {
      "text/html": [
       "<div>\n",
       "<style scoped>\n",
       "    .dataframe tbody tr th:only-of-type {\n",
       "        vertical-align: middle;\n",
       "    }\n",
       "\n",
       "    .dataframe tbody tr th {\n",
       "        vertical-align: top;\n",
       "    }\n",
       "\n",
       "    .dataframe thead th {\n",
       "        text-align: right;\n",
       "    }\n",
       "</style>\n",
       "<table border=\"1\" class=\"dataframe\">\n",
       "  <thead>\n",
       "    <tr style=\"text-align: right;\">\n",
       "      <th></th>\n",
       "      <th>nature</th>\n",
       "      <th>coordonnees</th>\n",
       "      <th>insee</th>\n",
       "      <th>nombre</th>\n",
       "      <th>geometry</th>\n",
       "    </tr>\n",
       "  </thead>\n",
       "  <tbody>\n",
       "    <tr>\n",
       "      <th>0</th>\n",
       "      <td>Libéral activité salariée</td>\n",
       "      <td>48.970077</td>\n",
       "      <td>95197</td>\n",
       "      <td>32</td>\n",
       "      <td>POLYGON ((2.30969 48.97072, 2.30979 48.97119, ...</td>\n",
       "    </tr>\n",
       "    <tr>\n",
       "      <th>1</th>\n",
       "      <td>Libéral intégral</td>\n",
       "      <td>48.970077</td>\n",
       "      <td>95197</td>\n",
       "      <td>32</td>\n",
       "      <td>POLYGON ((2.30969 48.97072, 2.30979 48.97119, ...</td>\n",
       "    </tr>\n",
       "    <tr>\n",
       "      <th>2</th>\n",
       "      <td>Libéral intégral</td>\n",
       "      <td>48.96271</td>\n",
       "      <td>95197</td>\n",
       "      <td>32</td>\n",
       "      <td>POLYGON ((2.30969 48.97072, 2.30979 48.97119, ...</td>\n",
       "    </tr>\n",
       "    <tr>\n",
       "      <th>3</th>\n",
       "      <td>Libéral intégral</td>\n",
       "      <td>48.96271</td>\n",
       "      <td>95197</td>\n",
       "      <td>32</td>\n",
       "      <td>POLYGON ((2.30969 48.97072, 2.30979 48.97119, ...</td>\n",
       "    </tr>\n",
       "    <tr>\n",
       "      <th>4</th>\n",
       "      <td>Libéral activité salariée</td>\n",
       "      <td>48.971396</td>\n",
       "      <td>95197</td>\n",
       "      <td>32</td>\n",
       "      <td>POLYGON ((2.30969 48.97072, 2.30979 48.97119, ...</td>\n",
       "    </tr>\n",
       "    <tr>\n",
       "      <th>...</th>\n",
       "      <td>...</td>\n",
       "      <td>...</td>\n",
       "      <td>...</td>\n",
       "      <td>...</td>\n",
       "      <td>...</td>\n",
       "    </tr>\n",
       "    <tr>\n",
       "      <th>7773</th>\n",
       "      <td>Libéral intégral</td>\n",
       "      <td>49.014456</td>\n",
       "      <td>77241</td>\n",
       "      <td>4</td>\n",
       "      <td>POLYGON ((2.67922 49.01336, 2.68390 49.01933, ...</td>\n",
       "    </tr>\n",
       "    <tr>\n",
       "      <th>7774</th>\n",
       "      <td>Libéral intégral</td>\n",
       "      <td>48.704353</td>\n",
       "      <td>91136</td>\n",
       "      <td>1</td>\n",
       "      <td>POLYGON ((2.25880 48.70794, 2.25881 48.70836, ...</td>\n",
       "    </tr>\n",
       "    <tr>\n",
       "      <th>7775</th>\n",
       "      <td>Libéral intégral</td>\n",
       "      <td>49.064301</td>\n",
       "      <td>77322</td>\n",
       "      <td>2</td>\n",
       "      <td>POLYGON ((2.57098 49.06058, 2.57141 49.06093, ...</td>\n",
       "    </tr>\n",
       "    <tr>\n",
       "      <th>7776</th>\n",
       "      <td>Libéral intégral</td>\n",
       "      <td>49.064414</td>\n",
       "      <td>77322</td>\n",
       "      <td>2</td>\n",
       "      <td>POLYGON ((2.57098 49.06058, 2.57141 49.06093, ...</td>\n",
       "    </tr>\n",
       "    <tr>\n",
       "      <th>7777</th>\n",
       "      <td>Libéral intégral</td>\n",
       "      <td>49.050302</td>\n",
       "      <td>77259</td>\n",
       "      <td>1</td>\n",
       "      <td>POLYGON ((2.64263 49.04490, 2.64272 49.04625, ...</td>\n",
       "    </tr>\n",
       "  </tbody>\n",
       "</table>\n",
       "<p>7778 rows × 5 columns</p>\n",
       "</div>"
      ],
      "text/plain": [
       "                         nature coordonnees  insee  nombre  \\\n",
       "0     Libéral activité salariée   48.970077  95197      32   \n",
       "1              Libéral intégral   48.970077  95197      32   \n",
       "2              Libéral intégral    48.96271  95197      32   \n",
       "3              Libéral intégral    48.96271  95197      32   \n",
       "4     Libéral activité salariée   48.971396  95197      32   \n",
       "...                         ...         ...    ...     ...   \n",
       "7773           Libéral intégral   49.014456  77241       4   \n",
       "7774           Libéral intégral   48.704353  91136       1   \n",
       "7775           Libéral intégral   49.064301  77322       2   \n",
       "7776           Libéral intégral   49.064414  77322       2   \n",
       "7777           Libéral intégral   49.050302  77259       1   \n",
       "\n",
       "                                               geometry  \n",
       "0     POLYGON ((2.30969 48.97072, 2.30979 48.97119, ...  \n",
       "1     POLYGON ((2.30969 48.97072, 2.30979 48.97119, ...  \n",
       "2     POLYGON ((2.30969 48.97072, 2.30979 48.97119, ...  \n",
       "3     POLYGON ((2.30969 48.97072, 2.30979 48.97119, ...  \n",
       "4     POLYGON ((2.30969 48.97072, 2.30979 48.97119, ...  \n",
       "...                                                 ...  \n",
       "7773  POLYGON ((2.67922 49.01336, 2.68390 49.01933, ...  \n",
       "7774  POLYGON ((2.25880 48.70794, 2.25881 48.70836, ...  \n",
       "7775  POLYGON ((2.57098 49.06058, 2.57141 49.06093, ...  \n",
       "7776  POLYGON ((2.57098 49.06058, 2.57141 49.06093, ...  \n",
       "7777  POLYGON ((2.64263 49.04490, 2.64272 49.04625, ...  \n",
       "\n",
       "[7778 rows x 5 columns]"
      ]
     },
     "execution_count": 85,
     "metadata": {},
     "output_type": "execute_result"
    }
   ],
   "source": [
    "med_data"
   ]
  },
  {
   "cell_type": "code",
   "execution_count": 185,
   "metadata": {},
   "outputs": [],
   "source": [
    "import geopandas as gpd \n",
    "pop=gpd.read_file(r'C:\\Users\\morga\\Documents\\GitHub\\MLPython\\dataviz\\Graphique_bokeh\\pop_comgeo.geojson')"
   ]
  },
  {
   "cell_type": "code",
   "execution_count": 186,
   "metadata": {},
   "outputs": [],
   "source": [
    "pop=pop[['insee','geometry']]"
   ]
  },
  {
   "cell_type": "code",
   "execution_count": 187,
   "metadata": {},
   "outputs": [],
   "source": [
    "pop=pop.drop_duplicates()"
   ]
  },
  {
   "cell_type": "code",
   "execution_count": 188,
   "metadata": {},
   "outputs": [],
   "source": [
    "pop.insee=pop.insee.astype(int)"
   ]
  },
  {
   "cell_type": "code",
   "execution_count": 192,
   "metadata": {},
   "outputs": [],
   "source": [
    "med_merge=med_data[['nature','nombre','insee']]"
   ]
  },
  {
   "cell_type": "code",
   "execution_count": 193,
   "metadata": {},
   "outputs": [],
   "source": [
    "med_merge = med_merge.merge(pop)"
   ]
  },
  {
   "cell_type": "code",
   "execution_count": 202,
   "metadata": {},
   "outputs": [
    {
     "data": {
      "text/plain": [
       "Index(['nature', 'nombre', 'insee', 'geometry'], dtype='object')"
      ]
     },
     "execution_count": 202,
     "metadata": {},
     "output_type": "execute_result"
    }
   ],
   "source": [
    "med_merge.columns"
   ]
  },
  {
   "cell_type": "code",
   "execution_count": 203,
   "metadata": {},
   "outputs": [],
   "source": [
    "from geopandas import GeoDataFrame\n",
    "med_merge = GeoDataFrame(med_merge, geometry=med_merge['geometry'])"
   ]
  },
  {
   "cell_type": "code",
   "execution_count": 207,
   "metadata": {},
   "outputs": [],
   "source": [
    "med_merge.to_file(\"med_merge.geojson\", driver='GeoJSON')"
   ]
  },
  {
   "cell_type": "code",
   "execution_count": 206,
   "metadata": {},
   "outputs": [],
   "source": [
    "med_merge=med_merge[['insee','nombre','geometry']]"
   ]
  },
  {
   "cell_type": "code",
   "execution_count": 213,
   "metadata": {},
   "outputs": [
    {
     "data": {
      "text/plain": [
       "393"
      ]
     },
     "execution_count": 213,
     "metadata": {},
     "output_type": "execute_result"
    }
   ],
   "source": [
    "med_merge.nombre.max()"
   ]
  },
  {
   "cell_type": "markdown",
   "metadata": {},
   "source": [
    "# Traffic (lié aux stations et non aux communes)"
   ]
  },
  {
   "cell_type": "raw",
   "metadata": {},
   "source": [
    "traffic=pd.read_csv(r'C:/Users/morga/Downloads/validations-sur-le-reseau-ferre-nombre-de-validations-par-jour-2e-sem.csv',sep=';')\n",
    "\n",
    "traffic=traffic[traffic['CODE_STIF_TRNS']==810]\n",
    "\n",
    "CHAT = traffic[traffic['LIBELLE_ARRET'].str.startswith('CHAT')]\n",
    "\n",
    "traffic=traffic[traffic['CODE_STIF_RES']==802]\n",
    "\n",
    "traffic=traffic.append(CHAT)\n",
    "\n",
    "traffic=traffic.groupby(['JOUR','LIBELLE_ARRET'],as_index=False)['NB_VALD'].sum()\n",
    "\n",
    "traffic=traffic[['LIBELLE_ARRET','NB_VALD']]\n",
    "\n",
    "traffic=traffic.groupby(['LIBELLE_ARRET'],as_index=False).mean()"
   ]
  },
  {
   "cell_type": "raw",
   "metadata": {},
   "source": [
    "perc_traffic=pd.read_csv(dir+'\\\\brut\\\\validations-sur-le-reseau-ferre-profils-horaires-par-jour-type-2e-sem.csv')\n",
    "\n",
    "perc_traffic=perc_traffic[perc_traffic['CODE_STIF_TRNS']==810]\n",
    "\n",
    "perc_traffic=perc_traffic[['LIBELLE_ARRET','TRNC_HORR_60','pourc_validations']]"
   ]
  },
  {
   "cell_type": "raw",
   "metadata": {},
   "source": [
    "perc_traffic.head()"
   ]
  },
  {
   "cell_type": "raw",
   "metadata": {},
   "source": [
    "traffic.head()"
   ]
  },
  {
   "cell_type": "raw",
   "metadata": {},
   "source": [
    "traffic_par_heure=perc_traffic.merge(traffic,how='left')"
   ]
  },
  {
   "cell_type": "raw",
   "metadata": {},
   "source": [
    "traffic_par_heure=traffic_par_heure.assign(NB_VALD_HOUR=traffic_par_heure.pourc_validations*traffic_par_heure.NB_VALD)"
   ]
  },
  {
   "cell_type": "raw",
   "metadata": {},
   "source": [
    "traffic_par_heure.to_csv('traffic_par_heure.csv')"
   ]
  },
  {
   "cell_type": "code",
   "execution_count": 407,
   "metadata": {},
   "outputs": [],
   "source": [
    "traffic_par_heure=pd.read_csv('traffic_par_heure.csv')"
   ]
  },
  {
   "cell_type": "code",
   "execution_count": 408,
   "metadata": {},
   "outputs": [
    {
     "data": {
      "text/plain": [
       "['LA HACQUINIERE',\n",
       " 'BURES-SUR-YVETTE',\n",
       " 'GIF-SUR-YVETTE',\n",
       " 'ORSAY-VILLE',\n",
       " 'COURCELLE-SUR-YVETTE',\n",
       " 'SAINT-REMY-LES-CHEVREUSE',\n",
       " 'LE GUICHET',\n",
       " 'LOZERE',\n",
       " 'PALAISEAU-VILLEBON',\n",
       " 'PALAISEAU',\n",
       " 'MASSY-PALAISEAU',\n",
       " 'MASSY-VERRIERES',\n",
       " 'VILLEPARISIS-MITRY-LE-NEUF',\n",
       " 'MITRY-CLAYE',\n",
       " 'LES BACONNETS',\n",
       " 'FONTAINE-MICHALON',\n",
       " 'ANTONY',\n",
       " 'LA CROIX-DE-BERNY-FRESNES',\n",
       " 'PARC-DE-SCEAUX',\n",
       " 'BOURG-LA-REINE',\n",
       " 'ROBINSON',\n",
       " 'FONTENAY-AUX-ROSES',\n",
       " 'BAGNEUX',\n",
       " 'ARCUEIL-CACHAN',\n",
       " 'LAPLACE',\n",
       " 'GENTILLY',\n",
       " 'CITE UNIVERSITAIRE',\n",
       " 'DENFERT-ROCHEREAU',\n",
       " 'PORT ROYAL',\n",
       " 'LUXEMBOURG',\n",
       " 'LA PLAINE-STADE DE FRANCE',\n",
       " 'LA COURNEUVE-AUBERVILLIERS',\n",
       " 'LE BOURGET',\n",
       " 'AULNAY-SOUS-BOIS',\n",
       " 'BLANC-MESNIL',\n",
       " 'DRANCY',\n",
       " 'SEVRAN-LIVRY',\n",
       " 'VERT-GALANT',\n",
       " 'SEVRAN-BEAUDOTTES',\n",
       " 'VILLEPINTE',\n",
       " 'PARC DES EXPOSITIONS',\n",
       " 'AEROPORT CHARLES DE GAULLE 1',\n",
       " 'SAINT-MICHEL NOTRE DAME',\n",
       " 'AEROPORT CHARLES DE GAULLE 2-TGV',\n",
       " 'CHATELET-LES HALLES',\n",
       " 'SCEAUX']"
      ]
     },
     "execution_count": 408,
     "metadata": {},
     "output_type": "execute_result"
    }
   ],
   "source": [
    "list(traffic_par_heure.LIBELLE_ARRET.unique())"
   ]
  },
  {
   "cell_type": "code",
   "execution_count": 409,
   "metadata": {},
   "outputs": [],
   "source": [
    "traffic_par_heure['LIBELLE_ARRET']= traffic_par_heure['LIBELLE_ARRET'].str.replace('SAINT-MICHEL NOTRE DAME', 'SAINT-MICHEL', regex=True)"
   ]
  },
  {
   "cell_type": "code",
   "execution_count": 410,
   "metadata": {},
   "outputs": [],
   "source": [
    "import geopandas as gpd \n",
    "stations=gpd.read_file(r'C:\\Users\\morga\\Documents\\GitHub\\MLPython\\dataviz\\Graphique_bokeh\\stations.geojson')"
   ]
  },
  {
   "cell_type": "code",
   "execution_count": 411,
   "metadata": {},
   "outputs": [
    {
     "data": {
      "text/plain": [
       "['MASSY-PALAISEAU',\n",
       " 'SAINT-REMY-LES-CHEVREUSE',\n",
       " 'GIF-SUR-YVETTE',\n",
       " 'BURES-SUR-YVETTE',\n",
       " 'PORT ROYAL',\n",
       " 'LA CROIX-DE-BERNY-FRESNES',\n",
       " 'GENTILLY',\n",
       " 'LAPLACE',\n",
       " 'LA HACQUINIERE',\n",
       " 'BOURG-LA-REINE',\n",
       " 'PARC-DE-SCEAUX',\n",
       " 'BAGNEUX',\n",
       " 'MASSY-VERRIERES',\n",
       " 'FONTAINE-MICHALON',\n",
       " 'LES BACONNETS',\n",
       " 'PALAISEAU-VILLEBON',\n",
       " 'LOZERE',\n",
       " 'ARCUEIL-CACHAN',\n",
       " 'ANTONY',\n",
       " 'ORSAY-VILLE',\n",
       " 'PALAISEAU',\n",
       " 'LE GUICHET',\n",
       " 'COURCELLE-SUR-YVETTE',\n",
       " 'DENFERT-ROCHEREAU',\n",
       " 'CITE UNIVERSITAIRE',\n",
       " 'SAINT-MICHEL',\n",
       " 'LUXEMBOURG',\n",
       " 'CHATELET-LES HALLES',\n",
       " 'LA PLAINE-STADE DE FRANCE',\n",
       " 'DRANCY',\n",
       " 'BLANC-MESNIL',\n",
       " 'PARC DES EXPOSITIONS',\n",
       " 'ROBINSON',\n",
       " 'SCEAUX',\n",
       " 'GARE DU NORD',\n",
       " 'MITRY-CLAYE',\n",
       " 'VILLEPARISIS-MITRY-LE-NEUF',\n",
       " 'LA COURNEUVE-AUBERVILLIERS',\n",
       " 'VERT-GALANT',\n",
       " 'AEROPORT CHARLES DE GAULLE 2-TGV',\n",
       " 'AULNAY-SOUS-BOIS',\n",
       " 'FONTENAY-AUX-ROSES',\n",
       " 'AEROPORT CHARLES DE GAULLE 1',\n",
       " 'LE BOURGET',\n",
       " 'SEVRAN-BEAUDOTTES',\n",
       " 'VILLEPINTE',\n",
       " 'SEVRAN-LIVRY']"
      ]
     },
     "execution_count": 411,
     "metadata": {},
     "output_type": "execute_result"
    }
   ],
   "source": [
    "list(stations.nom_long.unique())"
   ]
  },
  {
   "cell_type": "code",
   "execution_count": 412,
   "metadata": {},
   "outputs": [],
   "source": [
    "stations=stations.merge(traffic_par_heure,left_on='nom_long',right_on='LIBELLE_ARRET',how='right')"
   ]
  },
  {
   "cell_type": "code",
   "execution_count": 413,
   "metadata": {},
   "outputs": [],
   "source": [
    "stations=stations[stations['year']==2017]"
   ]
  },
  {
   "cell_type": "code",
   "execution_count": 414,
   "metadata": {},
   "outputs": [],
   "source": [
    "stations=stations[['LIBELLE_ARRET','TRNC_HORR_60','NB_VALD_HOUR','pourc_validations','geometry']]"
   ]
  },
  {
   "cell_type": "code",
   "execution_count": 415,
   "metadata": {},
   "outputs": [],
   "source": [
    "stations=stations.dropna()"
   ]
  },
  {
   "cell_type": "code",
   "execution_count": 416,
   "metadata": {},
   "outputs": [],
   "source": [
    "stations=stations.drop_duplicates()"
   ]
  },
  {
   "cell_type": "code",
   "execution_count": 417,
   "metadata": {},
   "outputs": [
    {
     "data": {
      "text/html": [
       "<div>\n",
       "<style scoped>\n",
       "    .dataframe tbody tr th:only-of-type {\n",
       "        vertical-align: middle;\n",
       "    }\n",
       "\n",
       "    .dataframe tbody tr th {\n",
       "        vertical-align: top;\n",
       "    }\n",
       "\n",
       "    .dataframe thead th {\n",
       "        text-align: right;\n",
       "    }\n",
       "</style>\n",
       "<table border=\"1\" class=\"dataframe\">\n",
       "  <thead>\n",
       "    <tr style=\"text-align: right;\">\n",
       "      <th></th>\n",
       "      <th>LIBELLE_ARRET</th>\n",
       "      <th>TRNC_HORR_60</th>\n",
       "      <th>NB_VALD_HOUR</th>\n",
       "      <th>pourc_validations</th>\n",
       "      <th>geometry</th>\n",
       "    </tr>\n",
       "  </thead>\n",
       "  <tbody>\n",
       "    <tr>\n",
       "      <th>8</th>\n",
       "      <td>MASSY-PALAISEAU</td>\n",
       "      <td>17H-18H</td>\n",
       "      <td>193416.439728</td>\n",
       "      <td>11.01</td>\n",
       "      <td>POINT (2.25828 48.72469)</td>\n",
       "    </tr>\n",
       "    <tr>\n",
       "      <th>17</th>\n",
       "      <td>MASSY-PALAISEAU</td>\n",
       "      <td>3H-4H</td>\n",
       "      <td>175.673424</td>\n",
       "      <td>0.01</td>\n",
       "      <td>POINT (2.25828 48.72469)</td>\n",
       "    </tr>\n",
       "    <tr>\n",
       "      <th>26</th>\n",
       "      <td>MASSY-PALAISEAU</td>\n",
       "      <td>12H-13H</td>\n",
       "      <td>62715.412337</td>\n",
       "      <td>3.57</td>\n",
       "      <td>POINT (2.25828 48.72469)</td>\n",
       "    </tr>\n",
       "    <tr>\n",
       "      <th>35</th>\n",
       "      <td>MASSY-PALAISEAU</td>\n",
       "      <td>16H-17H</td>\n",
       "      <td>112958.011576</td>\n",
       "      <td>6.43</td>\n",
       "      <td>POINT (2.25828 48.72469)</td>\n",
       "    </tr>\n",
       "    <tr>\n",
       "      <th>44</th>\n",
       "      <td>MASSY-PALAISEAU</td>\n",
       "      <td>1H-2H</td>\n",
       "      <td>351.346848</td>\n",
       "      <td>0.02</td>\n",
       "      <td>POINT (2.25828 48.72469)</td>\n",
       "    </tr>\n",
       "    <tr>\n",
       "      <th>...</th>\n",
       "      <td>...</td>\n",
       "      <td>...</td>\n",
       "      <td>...</td>\n",
       "      <td>...</td>\n",
       "      <td>...</td>\n",
       "    </tr>\n",
       "    <tr>\n",
       "      <th>7793</th>\n",
       "      <td>SEVRAN-LIVRY</td>\n",
       "      <td>13H-14H</td>\n",
       "      <td>14204.027049</td>\n",
       "      <td>3.45</td>\n",
       "      <td>POINT (2.53471 48.93628)</td>\n",
       "    </tr>\n",
       "    <tr>\n",
       "      <th>7798</th>\n",
       "      <td>SEVRAN-LIVRY</td>\n",
       "      <td>1H-2H</td>\n",
       "      <td>288.197650</td>\n",
       "      <td>0.07</td>\n",
       "      <td>POINT (2.53471 48.93628)</td>\n",
       "    </tr>\n",
       "    <tr>\n",
       "      <th>7803</th>\n",
       "      <td>SEVRAN-LIVRY</td>\n",
       "      <td>4H-5H</td>\n",
       "      <td>25155.537760</td>\n",
       "      <td>6.11</td>\n",
       "      <td>POINT (2.53471 48.93628)</td>\n",
       "    </tr>\n",
       "    <tr>\n",
       "      <th>7808</th>\n",
       "      <td>SEVRAN-LIVRY</td>\n",
       "      <td>6H-7H</td>\n",
       "      <td>59039.347213</td>\n",
       "      <td>14.34</td>\n",
       "      <td>POINT (2.53471 48.93628)</td>\n",
       "    </tr>\n",
       "    <tr>\n",
       "      <th>7813</th>\n",
       "      <td>SEVRAN-LIVRY</td>\n",
       "      <td>7H-8H</td>\n",
       "      <td>51463.866120</td>\n",
       "      <td>12.50</td>\n",
       "      <td>POINT (2.53471 48.93628)</td>\n",
       "    </tr>\n",
       "  </tbody>\n",
       "</table>\n",
       "<p>1078 rows × 5 columns</p>\n",
       "</div>"
      ],
      "text/plain": [
       "        LIBELLE_ARRET TRNC_HORR_60   NB_VALD_HOUR  pourc_validations  \\\n",
       "8     MASSY-PALAISEAU      17H-18H  193416.439728              11.01   \n",
       "17    MASSY-PALAISEAU        3H-4H     175.673424               0.01   \n",
       "26    MASSY-PALAISEAU      12H-13H   62715.412337               3.57   \n",
       "35    MASSY-PALAISEAU      16H-17H  112958.011576               6.43   \n",
       "44    MASSY-PALAISEAU        1H-2H     351.346848               0.02   \n",
       "...               ...          ...            ...                ...   \n",
       "7793     SEVRAN-LIVRY      13H-14H   14204.027049               3.45   \n",
       "7798     SEVRAN-LIVRY        1H-2H     288.197650               0.07   \n",
       "7803     SEVRAN-LIVRY        4H-5H   25155.537760               6.11   \n",
       "7808     SEVRAN-LIVRY        6H-7H   59039.347213              14.34   \n",
       "7813     SEVRAN-LIVRY        7H-8H   51463.866120              12.50   \n",
       "\n",
       "                      geometry  \n",
       "8     POINT (2.25828 48.72469)  \n",
       "17    POINT (2.25828 48.72469)  \n",
       "26    POINT (2.25828 48.72469)  \n",
       "35    POINT (2.25828 48.72469)  \n",
       "44    POINT (2.25828 48.72469)  \n",
       "...                        ...  \n",
       "7793  POINT (2.53471 48.93628)  \n",
       "7798  POINT (2.53471 48.93628)  \n",
       "7803  POINT (2.53471 48.93628)  \n",
       "7808  POINT (2.53471 48.93628)  \n",
       "7813  POINT (2.53471 48.93628)  \n",
       "\n",
       "[1078 rows x 5 columns]"
      ]
     },
     "execution_count": 417,
     "metadata": {},
     "output_type": "execute_result"
    }
   ],
   "source": [
    "stations"
   ]
  },
  {
   "cell_type": "code",
   "execution_count": 418,
   "metadata": {},
   "outputs": [],
   "source": [
    "new=stations.TRNC_HORR_60.str.split(\"H\", n = 1, expand = True) "
   ]
  },
  {
   "cell_type": "code",
   "execution_count": 419,
   "metadata": {},
   "outputs": [],
   "source": [
    "stations['heure']=new[0]"
   ]
  },
  {
   "cell_type": "code",
   "execution_count": 420,
   "metadata": {},
   "outputs": [],
   "source": [
    "stations=stations[['LIBELLE_ARRET','NB_VALD_HOUR','pourc_validations','heure','geometry']]"
   ]
  },
  {
   "cell_type": "code",
   "execution_count": 421,
   "metadata": {},
   "outputs": [
    {
     "data": {
      "text/html": [
       "<div>\n",
       "<style scoped>\n",
       "    .dataframe tbody tr th:only-of-type {\n",
       "        vertical-align: middle;\n",
       "    }\n",
       "\n",
       "    .dataframe tbody tr th {\n",
       "        vertical-align: top;\n",
       "    }\n",
       "\n",
       "    .dataframe thead th {\n",
       "        text-align: right;\n",
       "    }\n",
       "</style>\n",
       "<table border=\"1\" class=\"dataframe\">\n",
       "  <thead>\n",
       "    <tr style=\"text-align: right;\">\n",
       "      <th></th>\n",
       "      <th>LIBELLE_ARRET</th>\n",
       "      <th>NB_VALD_HOUR</th>\n",
       "      <th>pourc_validations</th>\n",
       "      <th>heure</th>\n",
       "      <th>geometry</th>\n",
       "    </tr>\n",
       "  </thead>\n",
       "  <tbody>\n",
       "    <tr>\n",
       "      <th>8</th>\n",
       "      <td>MASSY-PALAISEAU</td>\n",
       "      <td>193416.439728</td>\n",
       "      <td>11.01</td>\n",
       "      <td>17</td>\n",
       "      <td>POINT (2.25828 48.72469)</td>\n",
       "    </tr>\n",
       "    <tr>\n",
       "      <th>17</th>\n",
       "      <td>MASSY-PALAISEAU</td>\n",
       "      <td>175.673424</td>\n",
       "      <td>0.01</td>\n",
       "      <td>3</td>\n",
       "      <td>POINT (2.25828 48.72469)</td>\n",
       "    </tr>\n",
       "    <tr>\n",
       "      <th>26</th>\n",
       "      <td>MASSY-PALAISEAU</td>\n",
       "      <td>62715.412337</td>\n",
       "      <td>3.57</td>\n",
       "      <td>12</td>\n",
       "      <td>POINT (2.25828 48.72469)</td>\n",
       "    </tr>\n",
       "    <tr>\n",
       "      <th>35</th>\n",
       "      <td>MASSY-PALAISEAU</td>\n",
       "      <td>112958.011576</td>\n",
       "      <td>6.43</td>\n",
       "      <td>16</td>\n",
       "      <td>POINT (2.25828 48.72469)</td>\n",
       "    </tr>\n",
       "    <tr>\n",
       "      <th>44</th>\n",
       "      <td>MASSY-PALAISEAU</td>\n",
       "      <td>351.346848</td>\n",
       "      <td>0.02</td>\n",
       "      <td>1</td>\n",
       "      <td>POINT (2.25828 48.72469)</td>\n",
       "    </tr>\n",
       "    <tr>\n",
       "      <th>...</th>\n",
       "      <td>...</td>\n",
       "      <td>...</td>\n",
       "      <td>...</td>\n",
       "      <td>...</td>\n",
       "      <td>...</td>\n",
       "    </tr>\n",
       "    <tr>\n",
       "      <th>7793</th>\n",
       "      <td>SEVRAN-LIVRY</td>\n",
       "      <td>14204.027049</td>\n",
       "      <td>3.45</td>\n",
       "      <td>13</td>\n",
       "      <td>POINT (2.53471 48.93628)</td>\n",
       "    </tr>\n",
       "    <tr>\n",
       "      <th>7798</th>\n",
       "      <td>SEVRAN-LIVRY</td>\n",
       "      <td>288.197650</td>\n",
       "      <td>0.07</td>\n",
       "      <td>1</td>\n",
       "      <td>POINT (2.53471 48.93628)</td>\n",
       "    </tr>\n",
       "    <tr>\n",
       "      <th>7803</th>\n",
       "      <td>SEVRAN-LIVRY</td>\n",
       "      <td>25155.537760</td>\n",
       "      <td>6.11</td>\n",
       "      <td>4</td>\n",
       "      <td>POINT (2.53471 48.93628)</td>\n",
       "    </tr>\n",
       "    <tr>\n",
       "      <th>7808</th>\n",
       "      <td>SEVRAN-LIVRY</td>\n",
       "      <td>59039.347213</td>\n",
       "      <td>14.34</td>\n",
       "      <td>6</td>\n",
       "      <td>POINT (2.53471 48.93628)</td>\n",
       "    </tr>\n",
       "    <tr>\n",
       "      <th>7813</th>\n",
       "      <td>SEVRAN-LIVRY</td>\n",
       "      <td>51463.866120</td>\n",
       "      <td>12.50</td>\n",
       "      <td>7</td>\n",
       "      <td>POINT (2.53471 48.93628)</td>\n",
       "    </tr>\n",
       "  </tbody>\n",
       "</table>\n",
       "<p>1078 rows × 5 columns</p>\n",
       "</div>"
      ],
      "text/plain": [
       "        LIBELLE_ARRET   NB_VALD_HOUR  pourc_validations heure  \\\n",
       "8     MASSY-PALAISEAU  193416.439728              11.01    17   \n",
       "17    MASSY-PALAISEAU     175.673424               0.01     3   \n",
       "26    MASSY-PALAISEAU   62715.412337               3.57    12   \n",
       "35    MASSY-PALAISEAU  112958.011576               6.43    16   \n",
       "44    MASSY-PALAISEAU     351.346848               0.02     1   \n",
       "...               ...            ...                ...   ...   \n",
       "7793     SEVRAN-LIVRY   14204.027049               3.45    13   \n",
       "7798     SEVRAN-LIVRY     288.197650               0.07     1   \n",
       "7803     SEVRAN-LIVRY   25155.537760               6.11     4   \n",
       "7808     SEVRAN-LIVRY   59039.347213              14.34     6   \n",
       "7813     SEVRAN-LIVRY   51463.866120              12.50     7   \n",
       "\n",
       "                      geometry  \n",
       "8     POINT (2.25828 48.72469)  \n",
       "17    POINT (2.25828 48.72469)  \n",
       "26    POINT (2.25828 48.72469)  \n",
       "35    POINT (2.25828 48.72469)  \n",
       "44    POINT (2.25828 48.72469)  \n",
       "...                        ...  \n",
       "7793  POINT (2.53471 48.93628)  \n",
       "7798  POINT (2.53471 48.93628)  \n",
       "7803  POINT (2.53471 48.93628)  \n",
       "7808  POINT (2.53471 48.93628)  \n",
       "7813  POINT (2.53471 48.93628)  \n",
       "\n",
       "[1078 rows x 5 columns]"
      ]
     },
     "execution_count": 421,
     "metadata": {},
     "output_type": "execute_result"
    }
   ],
   "source": [
    "stations"
   ]
  },
  {
   "cell_type": "code",
   "execution_count": 422,
   "metadata": {},
   "outputs": [
    {
     "name": "stderr",
     "output_type": "stream",
     "text": [
      "C:\\Users\\morga\\AppData\\Roaming\\Python\\Python37\\site-packages\\ipykernel_launcher.py:1: SettingWithCopyWarning: \n",
      "A value is trying to be set on a copy of a slice from a DataFrame.\n",
      "Try using .loc[row_indexer,col_indexer] = value instead\n",
      "\n",
      "See the caveats in the documentation: https://pandas.pydata.org/pandas-docs/stable/user_guide/indexing.html#returning-a-view-versus-a-copy\n",
      "  \"\"\"Entry point for launching an IPython kernel.\n"
     ]
    }
   ],
   "source": [
    "stations['heure']=stations.heure.astype(int)"
   ]
  },
  {
   "cell_type": "code",
   "execution_count": 423,
   "metadata": {},
   "outputs": [],
   "source": [
    "stations6=stations[stations['heure']==6]\n",
    "stations8=stations[stations['heure']==8]\n",
    "stations10=stations[stations['heure']==10]"
   ]
  },
  {
   "cell_type": "code",
   "execution_count": 424,
   "metadata": {},
   "outputs": [],
   "source": [
    "for i in list(stations.heure.unique()):\n",
    "    stations_heure=stations[stations['heure']==i]\n",
    "    stations_heure.to_file(\"stations\"+str(i)+\".geojson\", driver='GeoJSON')"
   ]
  },
  {
   "cell_type": "code",
   "execution_count": 426,
   "metadata": {},
   "outputs": [
    {
     "data": {
      "text/html": [
       "<div>\n",
       "<style scoped>\n",
       "    .dataframe tbody tr th:only-of-type {\n",
       "        vertical-align: middle;\n",
       "    }\n",
       "\n",
       "    .dataframe tbody tr th {\n",
       "        vertical-align: top;\n",
       "    }\n",
       "\n",
       "    .dataframe thead th {\n",
       "        text-align: right;\n",
       "    }\n",
       "</style>\n",
       "<table border=\"1\" class=\"dataframe\">\n",
       "  <thead>\n",
       "    <tr style=\"text-align: right;\">\n",
       "      <th></th>\n",
       "      <th>LIBELLE_ARRET</th>\n",
       "      <th>NB_VALD_HOUR</th>\n",
       "      <th>pourc_validations</th>\n",
       "      <th>heure</th>\n",
       "      <th>geometry</th>\n",
       "    </tr>\n",
       "  </thead>\n",
       "  <tbody>\n",
       "    <tr>\n",
       "      <th>152</th>\n",
       "      <td>MASSY-PALAISEAU</td>\n",
       "      <td>265969.563804</td>\n",
       "      <td>15.14</td>\n",
       "      <td>8</td>\n",
       "      <td>POINT (2.25828 48.72469)</td>\n",
       "    </tr>\n",
       "    <tr>\n",
       "      <th>296</th>\n",
       "      <td>SAINT-REMY-LES-CHEVREUSE</td>\n",
       "      <td>24116.423729</td>\n",
       "      <td>18.60</td>\n",
       "      <td>8</td>\n",
       "      <td>POINT (2.07124 48.70275)</td>\n",
       "    </tr>\n",
       "    <tr>\n",
       "      <th>557</th>\n",
       "      <td>GIF-SUR-YVETTE</td>\n",
       "      <td>23814.345652</td>\n",
       "      <td>17.52</td>\n",
       "      <td>8</td>\n",
       "      <td>POINT (2.13657 48.69820)</td>\n",
       "    </tr>\n",
       "    <tr>\n",
       "      <th>737</th>\n",
       "      <td>BURES-SUR-YVETTE</td>\n",
       "      <td>10695.615652</td>\n",
       "      <td>7.92</td>\n",
       "      <td>8</td>\n",
       "      <td>POINT (2.16438 48.69625)</td>\n",
       "    </tr>\n",
       "    <tr>\n",
       "      <th>845</th>\n",
       "      <td>PORT ROYAL</td>\n",
       "      <td>47789.878261</td>\n",
       "      <td>6.40</td>\n",
       "      <td>8</td>\n",
       "      <td>POINT (2.33710 48.84003)</td>\n",
       "    </tr>\n",
       "    <tr>\n",
       "      <th>1196</th>\n",
       "      <td>LA CROIX-DE-BERNY-FRESNES</td>\n",
       "      <td>111641.637283</td>\n",
       "      <td>14.21</td>\n",
       "      <td>8</td>\n",
       "      <td>POINT (2.30423 48.76169)</td>\n",
       "    </tr>\n",
       "    <tr>\n",
       "      <th>1448</th>\n",
       "      <td>GENTILLY</td>\n",
       "      <td>75083.872826</td>\n",
       "      <td>13.74</td>\n",
       "      <td>8</td>\n",
       "      <td>POINT (2.34089 48.81523)</td>\n",
       "    </tr>\n",
       "    <tr>\n",
       "      <th>1511</th>\n",
       "      <td>LAPLACE</td>\n",
       "      <td>100956.411196</td>\n",
       "      <td>11.97</td>\n",
       "      <td>8</td>\n",
       "      <td>POINT (2.33435 48.80830)</td>\n",
       "    </tr>\n",
       "    <tr>\n",
       "      <th>1736</th>\n",
       "      <td>LA HACQUINIERE</td>\n",
       "      <td>13651.639130</td>\n",
       "      <td>23.84</td>\n",
       "      <td>8</td>\n",
       "      <td>POINT (2.15164 48.69526)</td>\n",
       "    </tr>\n",
       "    <tr>\n",
       "      <th>2033</th>\n",
       "      <td>BOURG-LA-REINE</td>\n",
       "      <td>212018.367500</td>\n",
       "      <td>20.26</td>\n",
       "      <td>8</td>\n",
       "      <td>POINT (2.31231 48.78031)</td>\n",
       "    </tr>\n",
       "    <tr>\n",
       "      <th>2168</th>\n",
       "      <td>PARC-DE-SCEAUX</td>\n",
       "      <td>22716.393478</td>\n",
       "      <td>17.62</td>\n",
       "      <td>8</td>\n",
       "      <td>POINT (2.31021 48.77072)</td>\n",
       "    </tr>\n",
       "    <tr>\n",
       "      <th>2447</th>\n",
       "      <td>BAGNEUX</td>\n",
       "      <td>90777.763370</td>\n",
       "      <td>16.14</td>\n",
       "      <td>8</td>\n",
       "      <td>POINT (2.32220 48.79334)</td>\n",
       "    </tr>\n",
       "    <tr>\n",
       "      <th>2654</th>\n",
       "      <td>MASSY-VERRIERES</td>\n",
       "      <td>26227.325924</td>\n",
       "      <td>24.49</td>\n",
       "      <td>8</td>\n",
       "      <td>POINT (2.27348 48.73472)</td>\n",
       "    </tr>\n",
       "    <tr>\n",
       "      <th>2825</th>\n",
       "      <td>FONTAINE-MICHALON</td>\n",
       "      <td>42266.553098</td>\n",
       "      <td>26.13</td>\n",
       "      <td>8</td>\n",
       "      <td>POINT (2.29639 48.74337)</td>\n",
       "    </tr>\n",
       "    <tr>\n",
       "      <th>2960</th>\n",
       "      <td>LES BACONNETS</td>\n",
       "      <td>95380.423736</td>\n",
       "      <td>21.52</td>\n",
       "      <td>8</td>\n",
       "      <td>POINT (2.28767 48.73968)</td>\n",
       "    </tr>\n",
       "    <tr>\n",
       "      <th>3194</th>\n",
       "      <td>PALAISEAU-VILLEBON</td>\n",
       "      <td>27014.117391</td>\n",
       "      <td>18.74</td>\n",
       "      <td>8</td>\n",
       "      <td>POINT (2.23731 48.70814)</td>\n",
       "    </tr>\n",
       "    <tr>\n",
       "      <th>3473</th>\n",
       "      <td>LOZERE</td>\n",
       "      <td>19099.619348</td>\n",
       "      <td>16.58</td>\n",
       "      <td>8</td>\n",
       "      <td>POINT (2.21226 48.70597)</td>\n",
       "    </tr>\n",
       "    <tr>\n",
       "      <th>3662</th>\n",
       "      <td>ARCUEIL-CACHAN</td>\n",
       "      <td>138617.460163</td>\n",
       "      <td>16.19</td>\n",
       "      <td>8</td>\n",
       "      <td>POINT (2.32814 48.79889)</td>\n",
       "    </tr>\n",
       "    <tr>\n",
       "      <th>3842</th>\n",
       "      <td>ANTONY</td>\n",
       "      <td>212292.971739</td>\n",
       "      <td>18.80</td>\n",
       "      <td>8</td>\n",
       "      <td>POINT (2.30099 48.75495)</td>\n",
       "    </tr>\n",
       "    <tr>\n",
       "      <th>4076</th>\n",
       "      <td>ORSAY-VILLE</td>\n",
       "      <td>34700.160000</td>\n",
       "      <td>10.12</td>\n",
       "      <td>8</td>\n",
       "      <td>POINT (2.18105 48.69751)</td>\n",
       "    </tr>\n",
       "    <tr>\n",
       "      <th>4328</th>\n",
       "      <td>PALAISEAU</td>\n",
       "      <td>30359.974674</td>\n",
       "      <td>19.22</td>\n",
       "      <td>8</td>\n",
       "      <td>POINT (2.24567 48.71695)</td>\n",
       "    </tr>\n",
       "    <tr>\n",
       "      <th>4454</th>\n",
       "      <td>LE GUICHET</td>\n",
       "      <td>14939.174457</td>\n",
       "      <td>8.81</td>\n",
       "      <td>8</td>\n",
       "      <td>POINT (2.19273 48.70540)</td>\n",
       "    </tr>\n",
       "    <tr>\n",
       "      <th>4751</th>\n",
       "      <td>COURCELLE-SUR-YVETTE</td>\n",
       "      <td>5689.159286</td>\n",
       "      <td>10.03</td>\n",
       "      <td>8</td>\n",
       "      <td>POINT (2.09798 48.70122)</td>\n",
       "    </tr>\n",
       "    <tr>\n",
       "      <th>4859</th>\n",
       "      <td>DENFERT-ROCHEREAU</td>\n",
       "      <td>104007.313207</td>\n",
       "      <td>11.31</td>\n",
       "      <td>8</td>\n",
       "      <td>POINT (2.33285 48.83429)</td>\n",
       "    </tr>\n",
       "    <tr>\n",
       "      <th>5138</th>\n",
       "      <td>CITE UNIVERSITAIRE</td>\n",
       "      <td>181860.639620</td>\n",
       "      <td>10.77</td>\n",
       "      <td>8</td>\n",
       "      <td>POINT (2.33898 48.82027)</td>\n",
       "    </tr>\n",
       "    <tr>\n",
       "      <th>5267</th>\n",
       "      <td>SAINT-MICHEL</td>\n",
       "      <td>34558.555435</td>\n",
       "      <td>3.66</td>\n",
       "      <td>8</td>\n",
       "      <td>POINT (2.34466 48.85325)</td>\n",
       "    </tr>\n",
       "    <tr>\n",
       "      <th>5519</th>\n",
       "      <td>LUXEMBOURG</td>\n",
       "      <td>58175.975163</td>\n",
       "      <td>4.63</td>\n",
       "      <td>8</td>\n",
       "      <td>POINT (2.33993 48.84574)</td>\n",
       "    </tr>\n",
       "    <tr>\n",
       "      <th>5663</th>\n",
       "      <td>CHATELET-LES HALLES</td>\n",
       "      <td>198091.810326</td>\n",
       "      <td>3.62</td>\n",
       "      <td>8</td>\n",
       "      <td>POINT (2.34701 48.86182)</td>\n",
       "    </tr>\n",
       "    <tr>\n",
       "      <th>5718</th>\n",
       "      <td>LA PLAINE-STADE DE FRANCE</td>\n",
       "      <td>65106.525217</td>\n",
       "      <td>4.48</td>\n",
       "      <td>8</td>\n",
       "      <td>POINT (2.36267 48.91811)</td>\n",
       "    </tr>\n",
       "    <tr>\n",
       "      <th>5873</th>\n",
       "      <td>DRANCY</td>\n",
       "      <td>82812.978261</td>\n",
       "      <td>11.75</td>\n",
       "      <td>8</td>\n",
       "      <td>POINT (2.45477 48.93271)</td>\n",
       "    </tr>\n",
       "    <tr>\n",
       "      <th>5998</th>\n",
       "      <td>BLANC-MESNIL</td>\n",
       "      <td>42268.669231</td>\n",
       "      <td>11.90</td>\n",
       "      <td>8</td>\n",
       "      <td>POINT (2.47567 48.93231)</td>\n",
       "    </tr>\n",
       "    <tr>\n",
       "      <th>6118</th>\n",
       "      <td>PARC DES EXPOSITIONS</td>\n",
       "      <td>10001.282088</td>\n",
       "      <td>2.57</td>\n",
       "      <td>8</td>\n",
       "      <td>POINT (2.51436 48.97342)</td>\n",
       "    </tr>\n",
       "    <tr>\n",
       "      <th>6203</th>\n",
       "      <td>ROBINSON</td>\n",
       "      <td>89512.867174</td>\n",
       "      <td>17.97</td>\n",
       "      <td>8</td>\n",
       "      <td>POINT (2.28143 48.78024)</td>\n",
       "    </tr>\n",
       "    <tr>\n",
       "      <th>6373</th>\n",
       "      <td>SCEAUX</td>\n",
       "      <td>33674.940707</td>\n",
       "      <td>21.19</td>\n",
       "      <td>8</td>\n",
       "      <td>POINT (2.29765 48.78136)</td>\n",
       "    </tr>\n",
       "    <tr>\n",
       "      <th>6448</th>\n",
       "      <td>MITRY-CLAYE</td>\n",
       "      <td>31225.600000</td>\n",
       "      <td>12.88</td>\n",
       "      <td>8</td>\n",
       "      <td>POINT (2.64241 48.97586)</td>\n",
       "    </tr>\n",
       "    <tr>\n",
       "      <th>6538</th>\n",
       "      <td>VILLEPARISIS-MITRY-LE-NEUF</td>\n",
       "      <td>27888.467049</td>\n",
       "      <td>9.87</td>\n",
       "      <td>8</td>\n",
       "      <td>POINT (2.60314 48.95315)</td>\n",
       "    </tr>\n",
       "    <tr>\n",
       "      <th>6718</th>\n",
       "      <td>LA COURNEUVE-AUBERVILLIERS</td>\n",
       "      <td>126487.592880</td>\n",
       "      <td>10.79</td>\n",
       "      <td>8</td>\n",
       "      <td>POINT (2.38639 48.92435)</td>\n",
       "    </tr>\n",
       "    <tr>\n",
       "      <th>6828</th>\n",
       "      <td>VERT-GALANT</td>\n",
       "      <td>58111.865217</td>\n",
       "      <td>10.53</td>\n",
       "      <td>8</td>\n",
       "      <td>POINT (2.56645 48.94418)</td>\n",
       "    </tr>\n",
       "    <tr>\n",
       "      <th>6878</th>\n",
       "      <td>AEROPORT CHARLES DE GAULLE 2-TGV</td>\n",
       "      <td>25559.804645</td>\n",
       "      <td>4.15</td>\n",
       "      <td>8</td>\n",
       "      <td>POINT (2.57059 49.00469)</td>\n",
       "    </tr>\n",
       "    <tr>\n",
       "      <th>7063</th>\n",
       "      <td>AULNAY-SOUS-BOIS</td>\n",
       "      <td>183410.459348</td>\n",
       "      <td>11.58</td>\n",
       "      <td>8</td>\n",
       "      <td>POINT (2.49551 48.93220)</td>\n",
       "    </tr>\n",
       "    <tr>\n",
       "      <th>7198</th>\n",
       "      <td>FONTENAY-AUX-ROSES</td>\n",
       "      <td>57480.886957</td>\n",
       "      <td>21.60</td>\n",
       "      <td>8</td>\n",
       "      <td>POINT (2.29249 48.78761)</td>\n",
       "    </tr>\n",
       "    <tr>\n",
       "      <th>7253</th>\n",
       "      <td>AEROPORT CHARLES DE GAULLE 1</td>\n",
       "      <td>16439.704045</td>\n",
       "      <td>3.46</td>\n",
       "      <td>8</td>\n",
       "      <td>POINT (2.56123 49.00976)</td>\n",
       "    </tr>\n",
       "    <tr>\n",
       "      <th>7428</th>\n",
       "      <td>LE BOURGET</td>\n",
       "      <td>85655.224457</td>\n",
       "      <td>8.03</td>\n",
       "      <td>8</td>\n",
       "      <td>POINT (2.42579 48.93074)</td>\n",
       "    </tr>\n",
       "    <tr>\n",
       "      <th>7553</th>\n",
       "      <td>SEVRAN-BEAUDOTTES</td>\n",
       "      <td>104998.253933</td>\n",
       "      <td>12.40</td>\n",
       "      <td>8</td>\n",
       "      <td>POINT (2.52472 48.94761)</td>\n",
       "    </tr>\n",
       "    <tr>\n",
       "      <th>7623</th>\n",
       "      <td>VILLEPINTE</td>\n",
       "      <td>26805.276796</td>\n",
       "      <td>10.55</td>\n",
       "      <td>8</td>\n",
       "      <td>POINT (2.51264 48.96271)</td>\n",
       "    </tr>\n",
       "    <tr>\n",
       "      <th>7768</th>\n",
       "      <td>SEVRAN-LIVRY</td>\n",
       "      <td>44588.293607</td>\n",
       "      <td>10.83</td>\n",
       "      <td>8</td>\n",
       "      <td>POINT (2.53471 48.93628)</td>\n",
       "    </tr>\n",
       "  </tbody>\n",
       "</table>\n",
       "</div>"
      ],
      "text/plain": [
       "                         LIBELLE_ARRET   NB_VALD_HOUR  pourc_validations  \\\n",
       "152                    MASSY-PALAISEAU  265969.563804              15.14   \n",
       "296           SAINT-REMY-LES-CHEVREUSE   24116.423729              18.60   \n",
       "557                     GIF-SUR-YVETTE   23814.345652              17.52   \n",
       "737                   BURES-SUR-YVETTE   10695.615652               7.92   \n",
       "845                         PORT ROYAL   47789.878261               6.40   \n",
       "1196         LA CROIX-DE-BERNY-FRESNES  111641.637283              14.21   \n",
       "1448                          GENTILLY   75083.872826              13.74   \n",
       "1511                           LAPLACE  100956.411196              11.97   \n",
       "1736                    LA HACQUINIERE   13651.639130              23.84   \n",
       "2033                    BOURG-LA-REINE  212018.367500              20.26   \n",
       "2168                    PARC-DE-SCEAUX   22716.393478              17.62   \n",
       "2447                           BAGNEUX   90777.763370              16.14   \n",
       "2654                   MASSY-VERRIERES   26227.325924              24.49   \n",
       "2825                 FONTAINE-MICHALON   42266.553098              26.13   \n",
       "2960                     LES BACONNETS   95380.423736              21.52   \n",
       "3194                PALAISEAU-VILLEBON   27014.117391              18.74   \n",
       "3473                            LOZERE   19099.619348              16.58   \n",
       "3662                    ARCUEIL-CACHAN  138617.460163              16.19   \n",
       "3842                            ANTONY  212292.971739              18.80   \n",
       "4076                       ORSAY-VILLE   34700.160000              10.12   \n",
       "4328                         PALAISEAU   30359.974674              19.22   \n",
       "4454                        LE GUICHET   14939.174457               8.81   \n",
       "4751              COURCELLE-SUR-YVETTE    5689.159286              10.03   \n",
       "4859                 DENFERT-ROCHEREAU  104007.313207              11.31   \n",
       "5138                CITE UNIVERSITAIRE  181860.639620              10.77   \n",
       "5267                      SAINT-MICHEL   34558.555435               3.66   \n",
       "5519                        LUXEMBOURG   58175.975163               4.63   \n",
       "5663               CHATELET-LES HALLES  198091.810326               3.62   \n",
       "5718         LA PLAINE-STADE DE FRANCE   65106.525217               4.48   \n",
       "5873                            DRANCY   82812.978261              11.75   \n",
       "5998                      BLANC-MESNIL   42268.669231              11.90   \n",
       "6118              PARC DES EXPOSITIONS   10001.282088               2.57   \n",
       "6203                          ROBINSON   89512.867174              17.97   \n",
       "6373                            SCEAUX   33674.940707              21.19   \n",
       "6448                       MITRY-CLAYE   31225.600000              12.88   \n",
       "6538        VILLEPARISIS-MITRY-LE-NEUF   27888.467049               9.87   \n",
       "6718        LA COURNEUVE-AUBERVILLIERS  126487.592880              10.79   \n",
       "6828                       VERT-GALANT   58111.865217              10.53   \n",
       "6878  AEROPORT CHARLES DE GAULLE 2-TGV   25559.804645               4.15   \n",
       "7063                  AULNAY-SOUS-BOIS  183410.459348              11.58   \n",
       "7198                FONTENAY-AUX-ROSES   57480.886957              21.60   \n",
       "7253      AEROPORT CHARLES DE GAULLE 1   16439.704045               3.46   \n",
       "7428                        LE BOURGET   85655.224457               8.03   \n",
       "7553                 SEVRAN-BEAUDOTTES  104998.253933              12.40   \n",
       "7623                        VILLEPINTE   26805.276796              10.55   \n",
       "7768                      SEVRAN-LIVRY   44588.293607              10.83   \n",
       "\n",
       "      heure                  geometry  \n",
       "152       8  POINT (2.25828 48.72469)  \n",
       "296       8  POINT (2.07124 48.70275)  \n",
       "557       8  POINT (2.13657 48.69820)  \n",
       "737       8  POINT (2.16438 48.69625)  \n",
       "845       8  POINT (2.33710 48.84003)  \n",
       "1196      8  POINT (2.30423 48.76169)  \n",
       "1448      8  POINT (2.34089 48.81523)  \n",
       "1511      8  POINT (2.33435 48.80830)  \n",
       "1736      8  POINT (2.15164 48.69526)  \n",
       "2033      8  POINT (2.31231 48.78031)  \n",
       "2168      8  POINT (2.31021 48.77072)  \n",
       "2447      8  POINT (2.32220 48.79334)  \n",
       "2654      8  POINT (2.27348 48.73472)  \n",
       "2825      8  POINT (2.29639 48.74337)  \n",
       "2960      8  POINT (2.28767 48.73968)  \n",
       "3194      8  POINT (2.23731 48.70814)  \n",
       "3473      8  POINT (2.21226 48.70597)  \n",
       "3662      8  POINT (2.32814 48.79889)  \n",
       "3842      8  POINT (2.30099 48.75495)  \n",
       "4076      8  POINT (2.18105 48.69751)  \n",
       "4328      8  POINT (2.24567 48.71695)  \n",
       "4454      8  POINT (2.19273 48.70540)  \n",
       "4751      8  POINT (2.09798 48.70122)  \n",
       "4859      8  POINT (2.33285 48.83429)  \n",
       "5138      8  POINT (2.33898 48.82027)  \n",
       "5267      8  POINT (2.34466 48.85325)  \n",
       "5519      8  POINT (2.33993 48.84574)  \n",
       "5663      8  POINT (2.34701 48.86182)  \n",
       "5718      8  POINT (2.36267 48.91811)  \n",
       "5873      8  POINT (2.45477 48.93271)  \n",
       "5998      8  POINT (2.47567 48.93231)  \n",
       "6118      8  POINT (2.51436 48.97342)  \n",
       "6203      8  POINT (2.28143 48.78024)  \n",
       "6373      8  POINT (2.29765 48.78136)  \n",
       "6448      8  POINT (2.64241 48.97586)  \n",
       "6538      8  POINT (2.60314 48.95315)  \n",
       "6718      8  POINT (2.38639 48.92435)  \n",
       "6828      8  POINT (2.56645 48.94418)  \n",
       "6878      8  POINT (2.57059 49.00469)  \n",
       "7063      8  POINT (2.49551 48.93220)  \n",
       "7198      8  POINT (2.29249 48.78761)  \n",
       "7253      8  POINT (2.56123 49.00976)  \n",
       "7428      8  POINT (2.42579 48.93074)  \n",
       "7553      8  POINT (2.52472 48.94761)  \n",
       "7623      8  POINT (2.51264 48.96271)  \n",
       "7768      8  POINT (2.53471 48.93628)  "
      ]
     },
     "execution_count": 426,
     "metadata": {},
     "output_type": "execute_result"
    }
   ],
   "source": []
  },
  {
   "cell_type": "code",
   "execution_count": 375,
   "metadata": {},
   "outputs": [],
   "source": [
    "stations12=stations[stations['heure']==12]"
   ]
  },
  {
   "cell_type": "code",
   "execution_count": 376,
   "metadata": {},
   "outputs": [],
   "source": [
    "stations6.to_file(\"stations6.geojson\", driver='GeoJSON')"
   ]
  },
  {
   "cell_type": "code",
   "execution_count": 377,
   "metadata": {},
   "outputs": [],
   "source": [
    "stations8.to_file(\"stations8.geojson\", driver='GeoJSON')"
   ]
  },
  {
   "cell_type": "code",
   "execution_count": 378,
   "metadata": {},
   "outputs": [],
   "source": [
    "stations10.to_file(\"stations10.geojson\", driver='GeoJSON')"
   ]
  },
  {
   "cell_type": "code",
   "execution_count": 379,
   "metadata": {},
   "outputs": [],
   "source": [
    "stations12.to_file(\"stations12.geojson\", driver='GeoJSON')"
   ]
  },
  {
   "cell_type": "code",
   "execution_count": 323,
   "metadata": {},
   "outputs": [],
   "source": [
    "from geopandas import GeoDataFrame\n",
    "stations2 = GeoDataFrame(stations, geometry=med_merge['geometry'])"
   ]
  },
  {
   "cell_type": "code",
   "execution_count": 324,
   "metadata": {},
   "outputs": [],
   "source": []
  },
  {
   "cell_type": "markdown",
   "metadata": {},
   "source": [
    "Cartes pour visualiser le résultat "
   ]
  },
  {
   "cell_type": "code",
   "execution_count": null,
   "metadata": {},
   "outputs": [],
   "source": [
    "import geopandas as gpd \n",
    "pop=gpd.read_file(r'C:\\Users\\morga\\Documents\\GitHub\\MLPython\\dataviz\\Graphique_bokeh\\pop_comgeo.geojson')\n",
    "pop.insee=pop.insee.astype(int)\n",
    "data_map=variables.merge(pop,on='insee')"
   ]
  },
  {
   "cell_type": "code",
   "execution_count": null,
   "metadata": {},
   "outputs": [],
   "source": [
    "data_map.columns"
   ]
  },
  {
   "cell_type": "code",
   "execution_count": null,
   "metadata": {},
   "outputs": [],
   "source": [
    "import mapclassify\n",
    "import geoplot\n",
    "import matplotlib.pyplot as plt \n",
    "data_map=data_map.set_geometry('geometry')"
   ]
  },
  {
   "cell_type": "code",
   "execution_count": null,
   "metadata": {},
   "outputs": [],
   "source": [
    "scheme = mapclassify.Quantiles(data_map.TauxChomage, k=10)\n",
    "geoplot.choropleth(\n",
    "    data_map, hue=data_map.TauxChomage, scheme=scheme,\n",
    "    cmap='OrRd', figsize=(10, 5),legend=True\n",
    ")\n",
    "plt.title('Taux de chômage')"
   ]
  },
  {
   "cell_type": "code",
   "execution_count": null,
   "metadata": {},
   "outputs": [],
   "source": [
    "scheme = mapclassify.Quantiles(data_map.TauxProprietaires, k=10)\n",
    "geoplot.choropleth(\n",
    "    data_map, hue=data_map.TauxProprietaires, scheme=scheme,\n",
    "    cmap='OrRd', figsize=(10, 5),legend=True\n",
    ")\n",
    "plt.title('Taux de propriétaires')"
   ]
  },
  {
   "cell_type": "code",
   "execution_count": null,
   "metadata": {},
   "outputs": [],
   "source": [
    "scheme = mapclassify.Quantiles(data_map.pm10, k=10)\n",
    "geoplot.choropleth(\n",
    "    data_map, hue=data_map.pm10, scheme=scheme,\n",
    "    cmap='OrRd', figsize=(10, 5),legend=True\n",
    ")\n",
    "plt.title('Taux pollution pm10')"
   ]
  },
  {
   "cell_type": "code",
   "execution_count": null,
   "metadata": {},
   "outputs": [],
   "source": [
    "scheme = mapclassify.Quantiles(data_map.dipl_su_tx, k=10)\n",
    "geoplot.choropleth(\n",
    "    data_map, hue=data_map.dipl_su_tx, scheme=scheme,\n",
    "    cmap='OrRd', figsize=(10, 5),legend=True\n",
    ")\n",
    "plt.title('dipl_su_tx')"
   ]
  },
  {
   "cell_type": "code",
   "execution_count": null,
   "metadata": {},
   "outputs": [],
   "source": [
    "\n",
    "geoplot.choropleth(\n",
    "    data_map, hue=data_map.Tour1Candidat1,\n",
    "    cmap='OrRd', figsize=(10, 5),legend=True\n",
    ")\n",
    "plt.title('vote_politique')"
   ]
  }
 ],
 "metadata": {
  "kernelspec": {
   "display_name": "Python 3",
   "language": "python",
   "name": "python3"
  },
  "language_info": {
   "codemirror_mode": {
    "name": "ipython",
    "version": 3
   },
   "file_extension": ".py",
   "mimetype": "text/x-python",
   "name": "python",
   "nbconvert_exporter": "python",
   "pygments_lexer": "ipython3",
   "version": "3.7.6"
  }
 },
 "nbformat": 4,
 "nbformat_minor": 4
}
