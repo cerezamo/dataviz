{
 "cells": [
  {
   "cell_type": "code",
   "execution_count": 1,
   "metadata": {},
   "outputs": [],
   "source": [
    "import pandas as pd"
   ]
  },
  {
   "cell_type": "code",
   "execution_count": 2,
   "metadata": {},
   "outputs": [
    {
     "name": "stdout",
     "output_type": "stream",
     "text": [
      "utf-8\n"
     ]
    }
   ],
   "source": [
    "import sys\n",
    "#reload(sys)\n",
    "print(sys.getdefaultencoding())\n",
    "#sys.setdefaultencoding(\"utf-8\")"
   ]
  },
  {
   "cell_type": "code",
   "execution_count": 3,
   "metadata": {},
   "outputs": [],
   "source": [
    "df = pd.read_csv('variables.csv', index_col=0)"
   ]
  },
  {
   "cell_type": "code",
   "execution_count": 4,
   "metadata": {},
   "outputs": [
    {
     "data": {
      "text/html": [
       "<div>\n",
       "<style scoped>\n",
       "    .dataframe tbody tr th:only-of-type {\n",
       "        vertical-align: middle;\n",
       "    }\n",
       "\n",
       "    .dataframe tbody tr th {\n",
       "        vertical-align: top;\n",
       "    }\n",
       "\n",
       "    .dataframe thead th {\n",
       "        text-align: right;\n",
       "    }\n",
       "</style>\n",
       "<table border=\"1\" class=\"dataframe\">\n",
       "  <thead>\n",
       "    <tr style=\"text-align: right;\">\n",
       "      <th></th>\n",
       "      <th>insee</th>\n",
       "      <th>TauxProprietaires</th>\n",
       "      <th>TauxChomage</th>\n",
       "      <th>NiveauVieMedian</th>\n",
       "      <th>densitehabkm2</th>\n",
       "      <th>dipl_su_tx</th>\n",
       "      <th>no2</th>\n",
       "      <th>o3</th>\n",
       "      <th>pm10</th>\n",
       "      <th>Tour1Candidat1</th>\n",
       "      <th>tp</th>\n",
       "      <th>medianendv</th>\n",
       "      <th>nb_redevables</th>\n",
       "      <th>patrimoineeuro</th>\n",
       "      <th>impotmoyeneuro</th>\n",
       "      <th>prixm2</th>\n",
       "    </tr>\n",
       "  </thead>\n",
       "  <tbody>\n",
       "    <tr>\n",
       "      <th>0</th>\n",
       "      <td>78561</td>\n",
       "      <td>77.11</td>\n",
       "      <td>3.91</td>\n",
       "      <td>36311.0</td>\n",
       "      <td>66.26</td>\n",
       "      <td>0.57</td>\n",
       "      <td>16.34</td>\n",
       "      <td>32.08</td>\n",
       "      <td>24.54</td>\n",
       "      <td>FILLON FranÃ§ois</td>\n",
       "      <td>NaN</td>\n",
       "      <td>36311.47</td>\n",
       "      <td>NaN</td>\n",
       "      <td>NaN</td>\n",
       "      <td>NaN</td>\n",
       "      <td>2113.0</td>\n",
       "    </tr>\n",
       "    <tr>\n",
       "      <th>9</th>\n",
       "      <td>91338</td>\n",
       "      <td>70.49</td>\n",
       "      <td>6.92</td>\n",
       "      <td>28123.0</td>\n",
       "      <td>459.76</td>\n",
       "      <td>0.41</td>\n",
       "      <td>15.59</td>\n",
       "      <td>33.15</td>\n",
       "      <td>24.57</td>\n",
       "      <td>MACRON Emmanuel</td>\n",
       "      <td>5.0</td>\n",
       "      <td>28122.78</td>\n",
       "      <td>NaN</td>\n",
       "      <td>NaN</td>\n",
       "      <td>NaN</td>\n",
       "      <td>2881.0</td>\n",
       "    </tr>\n",
       "    <tr>\n",
       "      <th>18</th>\n",
       "      <td>91122</td>\n",
       "      <td>71.18</td>\n",
       "      <td>8.05</td>\n",
       "      <td>31769.0</td>\n",
       "      <td>2145.45</td>\n",
       "      <td>0.64</td>\n",
       "      <td>19.35</td>\n",
       "      <td>32.72</td>\n",
       "      <td>25.99</td>\n",
       "      <td>MACRON Emmanuel</td>\n",
       "      <td>5.0</td>\n",
       "      <td>31768.89</td>\n",
       "      <td>NaN</td>\n",
       "      <td>NaN</td>\n",
       "      <td>NaN</td>\n",
       "      <td>3848.0</td>\n",
       "    </tr>\n",
       "    <tr>\n",
       "      <th>27</th>\n",
       "      <td>78343</td>\n",
       "      <td>78.39</td>\n",
       "      <td>6.29</td>\n",
       "      <td>37659.0</td>\n",
       "      <td>620.88</td>\n",
       "      <td>0.63</td>\n",
       "      <td>21.62</td>\n",
       "      <td>30.88</td>\n",
       "      <td>26.07</td>\n",
       "      <td>FILLON FranÃ§ois</td>\n",
       "      <td>NaN</td>\n",
       "      <td>37659.33</td>\n",
       "      <td>NaN</td>\n",
       "      <td>NaN</td>\n",
       "      <td>NaN</td>\n",
       "      <td>4044.0</td>\n",
       "    </tr>\n",
       "    <tr>\n",
       "      <th>36</th>\n",
       "      <td>91679</td>\n",
       "      <td>74.40</td>\n",
       "      <td>7.32</td>\n",
       "      <td>31538.0</td>\n",
       "      <td>201.80</td>\n",
       "      <td>0.54</td>\n",
       "      <td>19.32</td>\n",
       "      <td>31.87</td>\n",
       "      <td>25.61</td>\n",
       "      <td>MACRON Emmanuel</td>\n",
       "      <td>NaN</td>\n",
       "      <td>31538.40</td>\n",
       "      <td>NaN</td>\n",
       "      <td>NaN</td>\n",
       "      <td>NaN</td>\n",
       "      <td>3673.0</td>\n",
       "    </tr>\n",
       "  </tbody>\n",
       "</table>\n",
       "</div>"
      ],
      "text/plain": [
       "    insee  TauxProprietaires  TauxChomage  NiveauVieMedian  densitehabkm2  \\\n",
       "0   78561              77.11         3.91          36311.0          66.26   \n",
       "9   91338              70.49         6.92          28123.0         459.76   \n",
       "18  91122              71.18         8.05          31769.0        2145.45   \n",
       "27  78343              78.39         6.29          37659.0         620.88   \n",
       "36  91679              74.40         7.32          31538.0         201.80   \n",
       "\n",
       "    dipl_su_tx    no2     o3   pm10    Tour1Candidat1   tp  medianendv  \\\n",
       "0         0.57  16.34  32.08  24.54  FILLON FranÃ§ois  NaN    36311.47   \n",
       "9         0.41  15.59  33.15  24.57   MACRON Emmanuel  5.0    28122.78   \n",
       "18        0.64  19.35  32.72  25.99   MACRON Emmanuel  5.0    31768.89   \n",
       "27        0.63  21.62  30.88  26.07  FILLON FranÃ§ois  NaN    37659.33   \n",
       "36        0.54  19.32  31.87  25.61   MACRON Emmanuel  NaN    31538.40   \n",
       "\n",
       "    nb_redevables  patrimoineeuro  impotmoyeneuro  prixm2  \n",
       "0             NaN             NaN             NaN  2113.0  \n",
       "9             NaN             NaN             NaN  2881.0  \n",
       "18            NaN             NaN             NaN  3848.0  \n",
       "27            NaN             NaN             NaN  4044.0  \n",
       "36            NaN             NaN             NaN  3673.0  "
      ]
     },
     "execution_count": 4,
     "metadata": {},
     "output_type": "execute_result"
    }
   ],
   "source": [
    "df.head()"
   ]
  },
  {
   "cell_type": "code",
   "execution_count": 5,
   "metadata": {},
   "outputs": [
    {
     "data": {
      "text/plain": [
       "array(['FILLON FranÃ§ois', 'MACRON Emmanuel', 'MÃ‰LENCHON Jean-Luc',\n",
       "       'LE PEN Marine'], dtype=object)"
      ]
     },
     "execution_count": 5,
     "metadata": {},
     "output_type": "execute_result"
    }
   ],
   "source": [
    "df.Tour1Candidat1.unique()"
   ]
  },
  {
   "cell_type": "code",
   "execution_count": 6,
   "metadata": {},
   "outputs": [],
   "source": [
    "df['candidat_last_name'] = df['Tour1Candidat1'].apply(lambda x: x.split(' ')[0])"
   ]
  },
  {
   "cell_type": "code",
   "execution_count": 7,
   "metadata": {},
   "outputs": [
    {
     "data": {
      "text/plain": [
       "array(['FILLON', 'MACRON', 'MÃ‰LENCHON', 'LE'], dtype=object)"
      ]
     },
     "execution_count": 7,
     "metadata": {},
     "output_type": "execute_result"
    }
   ],
   "source": [
    "df.candidat_last_name.unique()"
   ]
  },
  {
   "cell_type": "code",
   "execution_count": 8,
   "metadata": {},
   "outputs": [],
   "source": [
    "mapping  = {\"FILLON\":\"#2166ac\", \"MACRON\":\"#f4a582\", \"MÃ‰LENCHON\":\"#b2182b\", \"LE\":\"#053061\"}"
   ]
  },
  {
   "cell_type": "code",
   "execution_count": 9,
   "metadata": {},
   "outputs": [],
   "source": [
    "df['candidat_couleur'] = df['candidat_last_name'].apply(lambda x: mapping[x])"
   ]
  },
  {
   "cell_type": "code",
   "execution_count": 10,
   "metadata": {},
   "outputs": [],
   "source": [
    "mapping  = {'FILLON FranÃ§ois': 'François FILLON', 'MACRON Emmanuel':'Emmanuel MACRON', 'MÃ‰LENCHON Jean-Luc':'Jean-Luc MELENCHON','LE PEN Marine':'Marine LE PEN'}"
   ]
  },
  {
   "cell_type": "code",
   "execution_count": 11,
   "metadata": {},
   "outputs": [],
   "source": [
    "df['Tour1Candidat1'] = df['Tour1Candidat1'].apply(lambda x: mapping[x])"
   ]
  },
  {
   "cell_type": "code",
   "execution_count": 12,
   "metadata": {},
   "outputs": [
    {
     "data": {
      "text/html": [
       "<div>\n",
       "<style scoped>\n",
       "    .dataframe tbody tr th:only-of-type {\n",
       "        vertical-align: middle;\n",
       "    }\n",
       "\n",
       "    .dataframe tbody tr th {\n",
       "        vertical-align: top;\n",
       "    }\n",
       "\n",
       "    .dataframe thead th {\n",
       "        text-align: right;\n",
       "    }\n",
       "</style>\n",
       "<table border=\"1\" class=\"dataframe\">\n",
       "  <thead>\n",
       "    <tr style=\"text-align: right;\">\n",
       "      <th></th>\n",
       "      <th>insee</th>\n",
       "      <th>TauxProprietaires</th>\n",
       "      <th>TauxChomage</th>\n",
       "      <th>NiveauVieMedian</th>\n",
       "      <th>densitehabkm2</th>\n",
       "      <th>dipl_su_tx</th>\n",
       "      <th>no2</th>\n",
       "      <th>o3</th>\n",
       "      <th>pm10</th>\n",
       "      <th>Tour1Candidat1</th>\n",
       "      <th>tp</th>\n",
       "      <th>medianendv</th>\n",
       "      <th>nb_redevables</th>\n",
       "      <th>patrimoineeuro</th>\n",
       "      <th>impotmoyeneuro</th>\n",
       "      <th>prixm2</th>\n",
       "      <th>candidat_last_name</th>\n",
       "      <th>candidat_couleur</th>\n",
       "    </tr>\n",
       "  </thead>\n",
       "  <tbody>\n",
       "    <tr>\n",
       "      <th>0</th>\n",
       "      <td>78561</td>\n",
       "      <td>77.11</td>\n",
       "      <td>3.91</td>\n",
       "      <td>36311.0</td>\n",
       "      <td>66.26</td>\n",
       "      <td>0.57</td>\n",
       "      <td>16.34</td>\n",
       "      <td>32.08</td>\n",
       "      <td>24.54</td>\n",
       "      <td>François FILLON</td>\n",
       "      <td>NaN</td>\n",
       "      <td>36311.47</td>\n",
       "      <td>NaN</td>\n",
       "      <td>NaN</td>\n",
       "      <td>NaN</td>\n",
       "      <td>2113.0</td>\n",
       "      <td>FILLON</td>\n",
       "      <td>#3483eb</td>\n",
       "    </tr>\n",
       "    <tr>\n",
       "      <th>9</th>\n",
       "      <td>91338</td>\n",
       "      <td>70.49</td>\n",
       "      <td>6.92</td>\n",
       "      <td>28123.0</td>\n",
       "      <td>459.76</td>\n",
       "      <td>0.41</td>\n",
       "      <td>15.59</td>\n",
       "      <td>33.15</td>\n",
       "      <td>24.57</td>\n",
       "      <td>Emmanuel MACRON</td>\n",
       "      <td>5.0</td>\n",
       "      <td>28122.78</td>\n",
       "      <td>NaN</td>\n",
       "      <td>NaN</td>\n",
       "      <td>NaN</td>\n",
       "      <td>2881.0</td>\n",
       "      <td>MACRON</td>\n",
       "      <td>#3d34eb</td>\n",
       "    </tr>\n",
       "    <tr>\n",
       "      <th>18</th>\n",
       "      <td>91122</td>\n",
       "      <td>71.18</td>\n",
       "      <td>8.05</td>\n",
       "      <td>31769.0</td>\n",
       "      <td>2145.45</td>\n",
       "      <td>0.64</td>\n",
       "      <td>19.35</td>\n",
       "      <td>32.72</td>\n",
       "      <td>25.99</td>\n",
       "      <td>Emmanuel MACRON</td>\n",
       "      <td>5.0</td>\n",
       "      <td>31768.89</td>\n",
       "      <td>NaN</td>\n",
       "      <td>NaN</td>\n",
       "      <td>NaN</td>\n",
       "      <td>3848.0</td>\n",
       "      <td>MACRON</td>\n",
       "      <td>#3d34eb</td>\n",
       "    </tr>\n",
       "    <tr>\n",
       "      <th>27</th>\n",
       "      <td>78343</td>\n",
       "      <td>78.39</td>\n",
       "      <td>6.29</td>\n",
       "      <td>37659.0</td>\n",
       "      <td>620.88</td>\n",
       "      <td>0.63</td>\n",
       "      <td>21.62</td>\n",
       "      <td>30.88</td>\n",
       "      <td>26.07</td>\n",
       "      <td>François FILLON</td>\n",
       "      <td>NaN</td>\n",
       "      <td>37659.33</td>\n",
       "      <td>NaN</td>\n",
       "      <td>NaN</td>\n",
       "      <td>NaN</td>\n",
       "      <td>4044.0</td>\n",
       "      <td>FILLON</td>\n",
       "      <td>#3483eb</td>\n",
       "    </tr>\n",
       "    <tr>\n",
       "      <th>36</th>\n",
       "      <td>91679</td>\n",
       "      <td>74.40</td>\n",
       "      <td>7.32</td>\n",
       "      <td>31538.0</td>\n",
       "      <td>201.80</td>\n",
       "      <td>0.54</td>\n",
       "      <td>19.32</td>\n",
       "      <td>31.87</td>\n",
       "      <td>25.61</td>\n",
       "      <td>Emmanuel MACRON</td>\n",
       "      <td>NaN</td>\n",
       "      <td>31538.40</td>\n",
       "      <td>NaN</td>\n",
       "      <td>NaN</td>\n",
       "      <td>NaN</td>\n",
       "      <td>3673.0</td>\n",
       "      <td>MACRON</td>\n",
       "      <td>#3d34eb</td>\n",
       "    </tr>\n",
       "  </tbody>\n",
       "</table>\n",
       "</div>"
      ],
      "text/plain": [
       "    insee  TauxProprietaires  TauxChomage  NiveauVieMedian  densitehabkm2  \\\n",
       "0   78561              77.11         3.91          36311.0          66.26   \n",
       "9   91338              70.49         6.92          28123.0         459.76   \n",
       "18  91122              71.18         8.05          31769.0        2145.45   \n",
       "27  78343              78.39         6.29          37659.0         620.88   \n",
       "36  91679              74.40         7.32          31538.0         201.80   \n",
       "\n",
       "    dipl_su_tx    no2     o3   pm10   Tour1Candidat1   tp  medianendv  \\\n",
       "0         0.57  16.34  32.08  24.54  François FILLON  NaN    36311.47   \n",
       "9         0.41  15.59  33.15  24.57  Emmanuel MACRON  5.0    28122.78   \n",
       "18        0.64  19.35  32.72  25.99  Emmanuel MACRON  5.0    31768.89   \n",
       "27        0.63  21.62  30.88  26.07  François FILLON  NaN    37659.33   \n",
       "36        0.54  19.32  31.87  25.61  Emmanuel MACRON  NaN    31538.40   \n",
       "\n",
       "    nb_redevables  patrimoineeuro  impotmoyeneuro  prixm2 candidat_last_name  \\\n",
       "0             NaN             NaN             NaN  2113.0             FILLON   \n",
       "9             NaN             NaN             NaN  2881.0             MACRON   \n",
       "18            NaN             NaN             NaN  3848.0             MACRON   \n",
       "27            NaN             NaN             NaN  4044.0             FILLON   \n",
       "36            NaN             NaN             NaN  3673.0             MACRON   \n",
       "\n",
       "   candidat_couleur  \n",
       "0           #3483eb  \n",
       "9           #3d34eb  \n",
       "18          #3d34eb  \n",
       "27          #3483eb  \n",
       "36          #3d34eb  "
      ]
     },
     "execution_count": 12,
     "metadata": {},
     "output_type": "execute_result"
    }
   ],
   "source": [
    "df.head()"
   ]
  },
  {
   "cell_type": "code",
   "execution_count": null,
   "metadata": {},
   "outputs": [],
   "source": [
    "df.to_csv('variables_candidat_couleur.csv')"
   ]
  },
  {
   "cell_type": "code",
   "execution_count": null,
   "metadata": {},
   "outputs": [],
   "source": []
  },
  {
   "cell_type": "markdown",
   "metadata": {},
   "source": [
    "Shapefile départements "
   ]
  },
  {
   "cell_type": "code",
   "execution_count": 142,
   "metadata": {},
   "outputs": [],
   "source": [
    "import geopandas as gpd"
   ]
  },
  {
   "cell_type": "code",
   "execution_count": 143,
   "metadata": {},
   "outputs": [],
   "source": [
    "contours=gpd.read_file(r'C:\\Users\\morga\\Downloads\\departements-20140306-5m-shp\\departements-20140306-5m.shp')"
   ]
  },
  {
   "cell_type": "code",
   "execution_count": 189,
   "metadata": {},
   "outputs": [],
   "source": [
    "list_dep = ['75']"
   ]
  },
  {
   "cell_type": "code",
   "execution_count": 145,
   "metadata": {},
   "outputs": [],
   "source": [
    "contours=contours[contours['code_insee']>='74']"
   ]
  },
  {
   "cell_type": "code",
   "execution_count": 146,
   "metadata": {},
   "outputs": [],
   "source": [
    "contours=contours[contours['code_insee']<='96']\n"
   ]
  },
  {
   "cell_type": "code",
   "execution_count": 190,
   "metadata": {},
   "outputs": [],
   "source": [
    "contours=contours[contours['code_insee'].isin(list_dep) ]"
   ]
  },
  {
   "cell_type": "code",
   "execution_count": 191,
   "metadata": {},
   "outputs": [
    {
     "data": {
      "text/plain": [
       "<matplotlib.axes._subplots.AxesSubplot at 0x1ce575f59c8>"
      ]
     },
     "execution_count": 191,
     "metadata": {},
     "output_type": "execute_result"
    },
    {
     "data": {
      "image/png": "[encoded data removed]",
      "text/plain": [
       "<Figure size 432x288 with 1 Axes>"
      ]
     },
     "metadata": {
      "needs_background": "light"
     },
     "output_type": "display_data"
    }
   ],
   "source": [
    "contours.plot()"
   ]
  },
  {
   "cell_type": "code",
   "execution_count": 193,
   "metadata": {},
   "outputs": [],
   "source": [
    "contours.to_file('contours_paris.geojson')"
   ]
  },
  {
   "cell_type": "code",
   "execution_count": 169,
   "metadata": {},
   "outputs": [],
   "source": [
    "carte=gpd.read_file(r'C:\\Users\\morga\\Documents\\GitHub\\MLPython\\dataviz\\Graphique_bokeh\\pop_sansnoms.geojson')"
   ]
  },
  {
   "cell_type": "code",
   "execution_count": 170,
   "metadata": {},
   "outputs": [],
   "source": [
    "carte=carte[['insee','geometry']]"
   ]
  },
  {
   "cell_type": "code",
   "execution_count": 173,
   "metadata": {},
   "outputs": [],
   "source": [
    "carte.drop_duplicates(inplace=True)"
   ]
  },
  {
   "cell_type": "code",
   "execution_count": 188,
   "metadata": {},
   "outputs": [
    {
     "name": "stderr",
     "output_type": "stream",
     "text": [
      "C:\\Users\\morga\\Anaconda3\\lib\\site-packages\\geopandas\\tools\\sjoin.py:61: UserWarning: CRS of frames being joined does not match!(None != {'init': 'epsg:4326'})\n",
      "  \"(%s != %s)\" % (left_df.crs, right_df.crs)\n"
     ]
    },
    {
     "data": {
      "text/plain": [
       "<matplotlib.axes._subplots.AxesSubplot at 0x1ce57042a08>"
      ]
     },
     "execution_count": 188,
     "metadata": {},
     "output_type": "execute_result"
    },
    {
     "data": {
      "image/png": "[encoded data removed]",
      "text/plain": [
       "<Figure size 432x288 with 1 Axes>"
      ]
     },
     "metadata": {
      "needs_background": "light"
     },
     "output_type": "display_data"
    }
   ],
   "source": [
    "gpd.sjoin(contours, carte, op='intersects',how='left').plot()"
   ]
  },
  {
   "cell_type": "code",
   "execution_count": 176,
   "metadata": {},
   "outputs": [
    {
     "ename": "TypeError",
     "evalue": "overlay only takes GeoDataFrames with (multi)polygon  geometries.",
     "output_type": "error",
     "traceback": [
      "\u001b[1;31m---------------------------------------------------------------------------\u001b[0m",
      "\u001b[1;31mTypeError\u001b[0m                                 Traceback (most recent call last)",
      "\u001b[1;32m<ipython-input-176-966fe87be5fd>\u001b[0m in \u001b[0;36m<module>\u001b[1;34m\u001b[0m\n\u001b[1;32m----> 1\u001b[1;33m \u001b[0mgpd\u001b[0m\u001b[1;33m.\u001b[0m\u001b[0moverlay\u001b[0m\u001b[1;33m(\u001b[0m\u001b[0mcontours\u001b[0m\u001b[1;33m,\u001b[0m \u001b[0mcarte\u001b[0m\u001b[1;33m,\u001b[0m \u001b[0mhow\u001b[0m\u001b[1;33m=\u001b[0m\u001b[1;34m'intersection'\u001b[0m\u001b[1;33m)\u001b[0m\u001b[1;33m.\u001b[0m\u001b[0mplot\u001b[0m\u001b[1;33m(\u001b[0m\u001b[1;33m)\u001b[0m\u001b[1;33m\u001b[0m\u001b[1;33m\u001b[0m\u001b[0m\n\u001b[0m",
      "\u001b[1;32m~\\Anaconda3\\lib\\site-packages\\geopandas\\tools\\overlay.py\u001b[0m in \u001b[0;36moverlay\u001b[1;34m(df1, df2, how, make_valid, use_sindex)\u001b[0m\n\u001b[0;32m    377\u001b[0m     ):\n\u001b[0;32m    378\u001b[0m         raise TypeError(\n\u001b[1;32m--> 379\u001b[1;33m             \u001b[1;34m\"overlay only takes GeoDataFrames with (multi)polygon  geometries.\"\u001b[0m\u001b[1;33m\u001b[0m\u001b[1;33m\u001b[0m\u001b[0m\n\u001b[0m\u001b[0;32m    380\u001b[0m         )\n\u001b[0;32m    381\u001b[0m \u001b[1;33m\u001b[0m\u001b[0m\n",
      "\u001b[1;31mTypeError\u001b[0m: overlay only takes GeoDataFrames with (multi)polygon  geometries."
     ]
    }
   ],
   "source": [
    "gpd.overlay(contours, carte, how='intersection').plot()"
   ]
  },
  {
   "cell_type": "code",
   "execution_count": 156,
   "metadata": {},
   "outputs": [
    {
     "name": "stderr",
     "output_type": "stream",
     "text": [
      "C:\\Users\\morga\\AppData\\Roaming\\Python\\Python37\\site-packages\\ipykernel_launcher.py:1: SettingWithCopyWarning: \n",
      "A value is trying to be set on a copy of a slice from a DataFrame.\n",
      "Try using .loc[row_indexer,col_indexer] = value instead\n",
      "\n",
      "See the caveats in the documentation: https://pandas.pydata.org/pandas-docs/stable/user_guide/indexing.html#returning-a-view-versus-a-copy\n",
      "  \"\"\"Entry point for launching an IPython kernel.\n"
     ]
    }
   ],
   "source": [
    "carte['bound']=carte.boundary"
   ]
  },
  {
   "cell_type": "code",
   "execution_count": 157,
   "metadata": {},
   "outputs": [],
   "source": [
    "carte=carte[['insee','bound']]"
   ]
  },
  {
   "cell_type": "code",
   "execution_count": 165,
   "metadata": {},
   "outputs": [],
   "source": [
    "carte=carte.set_geometry('bound')"
   ]
  },
  {
   "cell_type": "code",
   "execution_count": 128,
   "metadata": {},
   "outputs": [
    {
     "data": {
      "text/plain": [
       "0       False\n",
       "1       False\n",
       "2       False\n",
       "3       False\n",
       "4       False\n",
       "        ...  \n",
       "4260    False\n",
       "4261    False\n",
       "4262    False\n",
       "4263    False\n",
       "4264    False\n",
       "Length: 4265, dtype: bool"
      ]
     },
     "execution_count": 128,
     "metadata": {},
     "output_type": "execute_result"
    }
   ],
   "source": [
    "contours.geometry.intersects(carte)"
   ]
  },
  {
   "cell_type": "code",
   "execution_count": 159,
   "metadata": {},
   "outputs": [
    {
     "ename": "AttributeError",
     "evalue": "'DataFrame' object has no attribute 'geom_type'",
     "output_type": "error",
     "traceback": [
      "\u001b[1;31m---------------------------------------------------------------------------\u001b[0m",
      "\u001b[1;31mAttributeError\u001b[0m                            Traceback (most recent call last)",
      "\u001b[1;32m<ipython-input-159-0b07b0522b82>\u001b[0m in \u001b[0;36m<module>\u001b[1;34m\u001b[0m\n\u001b[1;32m----> 1\u001b[1;33m \u001b[0mgpd\u001b[0m\u001b[1;33m.\u001b[0m\u001b[0moverlay\u001b[0m\u001b[1;33m(\u001b[0m\u001b[0mcarte\u001b[0m\u001b[1;33m,\u001b[0m \u001b[0mcontours\u001b[0m\u001b[1;33m,\u001b[0m \u001b[0mhow\u001b[0m\u001b[1;33m=\u001b[0m\u001b[1;34m'intersection'\u001b[0m\u001b[1;33m)\u001b[0m\u001b[1;33m.\u001b[0m\u001b[0mplot\u001b[0m\u001b[1;33m(\u001b[0m\u001b[1;33m)\u001b[0m\u001b[1;33m\u001b[0m\u001b[1;33m\u001b[0m\u001b[0m\n\u001b[0m",
      "\u001b[1;32m~\\Anaconda3\\lib\\site-packages\\geopandas\\tools\\overlay.py\u001b[0m in \u001b[0;36moverlay\u001b[1;34m(df1, df2, how, make_valid, use_sindex)\u001b[0m\n\u001b[0;32m    373\u001b[0m     \u001b[0maccepted_types\u001b[0m \u001b[1;33m=\u001b[0m \u001b[1;33m[\u001b[0m\u001b[1;34m\"Polygon\"\u001b[0m\u001b[1;33m,\u001b[0m \u001b[1;34m\"MultiPolygon\"\u001b[0m\u001b[1;33m]\u001b[0m\u001b[1;33m\u001b[0m\u001b[1;33m\u001b[0m\u001b[0m\n\u001b[0;32m    374\u001b[0m     if (\n\u001b[1;32m--> 375\u001b[1;33m         \u001b[1;32mnot\u001b[0m \u001b[0mdf1\u001b[0m\u001b[1;33m.\u001b[0m\u001b[0mgeom_type\u001b[0m\u001b[1;33m.\u001b[0m\u001b[0misin\u001b[0m\u001b[1;33m(\u001b[0m\u001b[0maccepted_types\u001b[0m\u001b[1;33m)\u001b[0m\u001b[1;33m.\u001b[0m\u001b[0mall\u001b[0m\u001b[1;33m(\u001b[0m\u001b[1;33m)\u001b[0m\u001b[1;33m\u001b[0m\u001b[1;33m\u001b[0m\u001b[0m\n\u001b[0m\u001b[0;32m    376\u001b[0m         \u001b[1;32mor\u001b[0m \u001b[1;32mnot\u001b[0m \u001b[0mdf2\u001b[0m\u001b[1;33m.\u001b[0m\u001b[0mgeom_type\u001b[0m\u001b[1;33m.\u001b[0m\u001b[0misin\u001b[0m\u001b[1;33m(\u001b[0m\u001b[0maccepted_types\u001b[0m\u001b[1;33m)\u001b[0m\u001b[1;33m.\u001b[0m\u001b[0mall\u001b[0m\u001b[1;33m(\u001b[0m\u001b[1;33m)\u001b[0m\u001b[1;33m\u001b[0m\u001b[1;33m\u001b[0m\u001b[0m\n\u001b[0;32m    377\u001b[0m     ):\n",
      "\u001b[1;32m~\\Anaconda3\\lib\\site-packages\\pandas\\core\\generic.py\u001b[0m in \u001b[0;36m__getattr__\u001b[1;34m(self, name)\u001b[0m\n\u001b[0;32m   5272\u001b[0m             \u001b[1;32mif\u001b[0m \u001b[0mself\u001b[0m\u001b[1;33m.\u001b[0m\u001b[0m_info_axis\u001b[0m\u001b[1;33m.\u001b[0m\u001b[0m_can_hold_identifiers_and_holds_name\u001b[0m\u001b[1;33m(\u001b[0m\u001b[0mname\u001b[0m\u001b[1;33m)\u001b[0m\u001b[1;33m:\u001b[0m\u001b[1;33m\u001b[0m\u001b[1;33m\u001b[0m\u001b[0m\n\u001b[0;32m   5273\u001b[0m                 \u001b[1;32mreturn\u001b[0m \u001b[0mself\u001b[0m\u001b[1;33m[\u001b[0m\u001b[0mname\u001b[0m\u001b[1;33m]\u001b[0m\u001b[1;33m\u001b[0m\u001b[1;33m\u001b[0m\u001b[0m\n\u001b[1;32m-> 5274\u001b[1;33m             \u001b[1;32mreturn\u001b[0m \u001b[0mobject\u001b[0m\u001b[1;33m.\u001b[0m\u001b[0m__getattribute__\u001b[0m\u001b[1;33m(\u001b[0m\u001b[0mself\u001b[0m\u001b[1;33m,\u001b[0m \u001b[0mname\u001b[0m\u001b[1;33m)\u001b[0m\u001b[1;33m\u001b[0m\u001b[1;33m\u001b[0m\u001b[0m\n\u001b[0m\u001b[0;32m   5275\u001b[0m \u001b[1;33m\u001b[0m\u001b[0m\n\u001b[0;32m   5276\u001b[0m     \u001b[1;32mdef\u001b[0m \u001b[0m__setattr__\u001b[0m\u001b[1;33m(\u001b[0m\u001b[0mself\u001b[0m\u001b[1;33m,\u001b[0m \u001b[0mname\u001b[0m\u001b[1;33m:\u001b[0m \u001b[0mstr\u001b[0m\u001b[1;33m,\u001b[0m \u001b[0mvalue\u001b[0m\u001b[1;33m)\u001b[0m \u001b[1;33m->\u001b[0m \u001b[1;32mNone\u001b[0m\u001b[1;33m:\u001b[0m\u001b[1;33m\u001b[0m\u001b[1;33m\u001b[0m\u001b[0m\n",
      "\u001b[1;31mAttributeError\u001b[0m: 'DataFrame' object has no attribute 'geom_type'"
     ]
    }
   ],
   "source": [
    "gpd.overlay(carte, contours, how='intersection').plot()"
   ]
  },
  {
   "cell_type": "code",
   "execution_count": 166,
   "metadata": {},
   "outputs": [
    {
     "ename": "TypeError",
     "evalue": "overlay only takes GeoDataFrames with (multi)polygon  geometries.",
     "output_type": "error",
     "traceback": [
      "\u001b[1;31m---------------------------------------------------------------------------\u001b[0m",
      "\u001b[1;31mTypeError\u001b[0m                                 Traceback (most recent call last)",
      "\u001b[1;32m<ipython-input-166-6b43e3eb6b11>\u001b[0m in \u001b[0;36m<module>\u001b[1;34m\u001b[0m\n\u001b[1;32m----> 1\u001b[1;33m \u001b[0mgpd\u001b[0m\u001b[1;33m.\u001b[0m\u001b[0moverlay\u001b[0m\u001b[1;33m(\u001b[0m\u001b[0mcarte\u001b[0m\u001b[1;33m,\u001b[0m \u001b[0mcontours\u001b[0m\u001b[1;33m,\u001b[0m \u001b[0mhow\u001b[0m\u001b[1;33m=\u001b[0m\u001b[1;34m'intersection'\u001b[0m\u001b[1;33m)\u001b[0m\u001b[1;33m\u001b[0m\u001b[1;33m\u001b[0m\u001b[0m\n\u001b[0m",
      "\u001b[1;32m~\\Anaconda3\\lib\\site-packages\\geopandas\\tools\\overlay.py\u001b[0m in \u001b[0;36moverlay\u001b[1;34m(df1, df2, how, make_valid, use_sindex)\u001b[0m\n\u001b[0;32m    377\u001b[0m     ):\n\u001b[0;32m    378\u001b[0m         raise TypeError(\n\u001b[1;32m--> 379\u001b[1;33m             \u001b[1;34m\"overlay only takes GeoDataFrames with (multi)polygon  geometries.\"\u001b[0m\u001b[1;33m\u001b[0m\u001b[1;33m\u001b[0m\u001b[0m\n\u001b[0m\u001b[0;32m    380\u001b[0m         )\n\u001b[0;32m    381\u001b[0m \u001b[1;33m\u001b[0m\u001b[0m\n",
      "\u001b[1;31mTypeError\u001b[0m: overlay only takes GeoDataFrames with (multi)polygon  geometries."
     ]
    }
   ],
   "source": [
    "gpd.overlay(carte, contours, how='intersection')"
   ]
  },
  {
   "cell_type": "code",
   "execution_count": 160,
   "metadata": {},
   "outputs": [],
   "source": [
    "contours['shape']= contours.geometry.boundary"
   ]
  },
  {
   "cell_type": "code",
   "execution_count": 161,
   "metadata": {},
   "outputs": [],
   "source": [
    "contours = contours[['code_insee','nom','shape']]"
   ]
  },
  {
   "cell_type": "code",
   "execution_count": 162,
   "metadata": {},
   "outputs": [],
   "source": [
    "contours=contours.set_geometry('shape')"
   ]
  },
  {
   "cell_type": "code",
   "execution_count": 163,
   "metadata": {},
   "outputs": [
    {
     "data": {
      "text/plain": [
       "<matplotlib.axes._subplots.AxesSubplot at 0x1ce4d57f408>"
      ]
     },
     "execution_count": 163,
     "metadata": {},
     "output_type": "execute_result"
    },
    {
     "data": {
      "image/png": "[encoded data removed]",
      "text/plain": [
       "<Figure size 432x288 with 1 Axes>"
      ]
     },
     "metadata": {
      "needs_background": "light"
     },
     "output_type": "display_data"
    }
   ],
   "source": [
    "contours.plot()"
   ]
  },
  {
   "cell_type": "code",
   "execution_count": 167,
   "metadata": {},
   "outputs": [
    {
     "data": {
      "text/html": [
       "<div>\n",
       "<style scoped>\n",
       "    .dataframe tbody tr th:only-of-type {\n",
       "        vertical-align: middle;\n",
       "    }\n",
       "\n",
       "    .dataframe tbody tr th {\n",
       "        vertical-align: top;\n",
       "    }\n",
       "\n",
       "    .dataframe thead th {\n",
       "        text-align: right;\n",
       "    }\n",
       "</style>\n",
       "<table border=\"1\" class=\"dataframe\">\n",
       "  <thead>\n",
       "    <tr style=\"text-align: right;\">\n",
       "      <th></th>\n",
       "      <th>code_insee</th>\n",
       "      <th>nom</th>\n",
       "      <th>shape</th>\n",
       "    </tr>\n",
       "  </thead>\n",
       "  <tbody>\n",
       "    <tr>\n",
       "      <th>75</th>\n",
       "      <td>75</td>\n",
       "      <td>Paris</td>\n",
       "      <td>LINESTRING (2.35198 48.90149, 2.36561 48.90176...</td>\n",
       "    </tr>\n",
       "    <tr>\n",
       "      <th>77</th>\n",
       "      <td>77</td>\n",
       "      <td>Seine-et-Marne</td>\n",
       "      <td>LINESTRING (2.86693 48.15627, 2.86641 48.15541...</td>\n",
       "    </tr>\n",
       "    <tr>\n",
       "      <th>78</th>\n",
       "      <td>78</td>\n",
       "      <td>Yvelines</td>\n",
       "      <td>LINESTRING (1.93408 48.49594, 1.93343 48.49417...</td>\n",
       "    </tr>\n",
       "    <tr>\n",
       "      <th>91</th>\n",
       "      <td>91</td>\n",
       "      <td>Essonne</td>\n",
       "      <td>LINESTRING (2.39233 48.33593, 2.39382 48.33444...</td>\n",
       "    </tr>\n",
       "    <tr>\n",
       "      <th>92</th>\n",
       "      <td>92</td>\n",
       "      <td>Hauts-de-Seine</td>\n",
       "      <td>LINESTRING (2.31993 48.77075, 2.31786 48.76867...</td>\n",
       "    </tr>\n",
       "    <tr>\n",
       "      <th>93</th>\n",
       "      <td>93</td>\n",
       "      <td>Seine-Saint-Denis</td>\n",
       "      <td>LINESTRING (2.41899 48.84939, 2.41636 48.84924...</td>\n",
       "    </tr>\n",
       "    <tr>\n",
       "      <th>94</th>\n",
       "      <td>94</td>\n",
       "      <td>Val-de-Marne</td>\n",
       "      <td>LINESTRING (2.41450 48.71780, 2.41320 48.71868...</td>\n",
       "    </tr>\n",
       "    <tr>\n",
       "      <th>95</th>\n",
       "      <td>95</td>\n",
       "      <td>Val-d'Oise</td>\n",
       "      <td>LINESTRING (1.79674 49.07196, 1.79719 49.07144...</td>\n",
       "    </tr>\n",
       "  </tbody>\n",
       "</table>\n",
       "</div>"
      ],
      "text/plain": [
       "   code_insee                nom  \\\n",
       "75         75              Paris   \n",
       "77         77     Seine-et-Marne   \n",
       "78         78           Yvelines   \n",
       "91         91            Essonne   \n",
       "92         92     Hauts-de-Seine   \n",
       "93         93  Seine-Saint-Denis   \n",
       "94         94       Val-de-Marne   \n",
       "95         95         Val-d'Oise   \n",
       "\n",
       "                                                shape  \n",
       "75  LINESTRING (2.35198 48.90149, 2.36561 48.90176...  \n",
       "77  LINESTRING (2.86693 48.15627, 2.86641 48.15541...  \n",
       "78  LINESTRING (1.93408 48.49594, 1.93343 48.49417...  \n",
       "91  LINESTRING (2.39233 48.33593, 2.39382 48.33444...  \n",
       "92  LINESTRING (2.31993 48.77075, 2.31786 48.76867...  \n",
       "93  LINESTRING (2.41899 48.84939, 2.41636 48.84924...  \n",
       "94  LINESTRING (2.41450 48.71780, 2.41320 48.71868...  \n",
       "95  LINESTRING (1.79674 49.07196, 1.79719 49.07144...  "
      ]
     },
     "execution_count": 167,
     "metadata": {},
     "output_type": "execute_result"
    }
   ],
   "source": [
    "contour="
   ]
  },
  {
   "cell_type": "code",
   "execution_count": 96,
   "metadata": {},
   "outputs": [],
   "source": [
    "carte=gpd.read_file(r'C:\\Users\\morga\\Documents\\GitHub\\MLPython\\dataviz\\Graphique_bokeh\\pop_sansnoms.geojson')"
   ]
  },
  {
   "cell_type": "code",
   "execution_count": 98,
   "metadata": {},
   "outputs": [
    {
     "data": {
      "text/plain": [
       "<matplotlib.axes._subplots.AxesSubplot at 0x1ce3e4cc2c8>"
      ]
     },
     "execution_count": 98,
     "metadata": {},
     "output_type": "execute_result"
    },
    {
     "data": {
      "image/png": "[encoded data removed]",
      "text/plain": [
       "<Figure size 432x288 with 1 Axes>"
      ]
     },
     "metadata": {
      "needs_background": "light"
     },
     "output_type": "display_data"
    }
   ],
   "source": [
    "carte.plot()"
   ]
  },
  {
   "cell_type": "code",
   "execution_count": null,
   "metadata": {},
   "outputs": [],
   "source": []
  },
  {
   "cell_type": "code",
   "execution_count": null,
   "metadata": {},
   "outputs": [],
   "source": []
  }
 ],
 "metadata": {
  "kernelspec": {
   "display_name": "Python 3",
   "language": "python",
   "name": "python3"
  },
  "language_info": {
   "codemirror_mode": {
    "name": "ipython",
    "version": 3
   },
   "file_extension": ".py",
   "mimetype": "text/x-python",
   "name": "python",
   "nbconvert_exporter": "python",
   "pygments_lexer": "ipython3",
   "version": "3.7.6"
  }
 },
 "nbformat": 4,
 "nbformat_minor": 4
}
